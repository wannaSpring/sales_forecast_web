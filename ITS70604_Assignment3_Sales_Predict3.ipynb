{
  "cells": [
    {
      "metadata": {
        "_uuid": "0563e5e513745ab126d543854f1871b58efc4eb6",
        "id": "GVMncRc6IUMW"
      },
      "cell_type": "markdown",
      "source": [
        "<H1><center>Predict future sales</center></H1>"
      ]
    },
    {
      "cell_type": "code",
      "source": [
        "import io\n",
        "import requests\n",
        "from google.colab import drive\n",
        "drive.mount('/content/gdrive', force_remount=True)"
      ],
      "metadata": {
        "colab": {
          "base_uri": "https://localhost:8080/"
        },
        "id": "7rPJVGAYJrlX",
        "outputId": "b9403a5c-d876-495c-de6e-e3aa8b49ac41"
      },
      "execution_count": 4,
      "outputs": [
        {
          "output_type": "stream",
          "name": "stdout",
          "text": [
            "Mounted at /content/gdrive\n"
          ]
        }
      ]
    },
    {
      "cell_type": "markdown",
      "source": [
        "# Predict future sales"
      ],
      "metadata": {
        "id": "lhCo6mXlIejo"
      }
    },
    {
      "metadata": {
        "_uuid": "74e4a7fea8e6b478f09cc8fb90e1ef1bb508140f",
        "id": "YU2ODHZ2IUMm"
      },
      "cell_type": "markdown",
      "source": [
        "We are asking you to predict total sales for every product and store in the next month. By solving this competition you will be able to apply and enhance your data science skills.\n",
        "\n",
        "You are provided with daily historical sales data. The task is to forecast the total amount of products sold in every shop for the test set. Note that the list of shops and products slightly changes every month. Creating a robust model that can handle such situations is part of the challenge.\n",
        "\n",
        "\n",
        "\n",
        "### Data fields description:\n",
        "* ID - an Id that represents a (Shop, Item) tuple within the test set\n",
        "* shop_id - unique identifier of a shop\n",
        "* item_id - unique identifier of a product\n",
        "* item_category_id - unique identifier of item category\n",
        "* date_block_num - a consecutive month number, used for convenience. January 2013 is 0, February 2013 is 1,..., October 2015 is 33\n",
        "* date - date in format dd/mm/yyyy\n",
        "* item_cnt_day - number of products sold. You are predicting a monthly amount of this measure\n",
        "* item_price - current price of an item\n",
        "* item_name - name of item\n",
        "* shop_name - name of shop\n",
        "* item_category_name - name of item category\n",
        "\n",
        "\n"
      ]
    },
    {
      "cell_type": "markdown",
      "source": [
        "## Preparation"
      ],
      "metadata": {
        "id": "nTA6zuk3YvLP"
      }
    },
    {
      "cell_type": "markdown",
      "source": [
        "### Dependencies"
      ],
      "metadata": {
        "id": "fPU_C7zEYx_8"
      }
    },
    {
      "metadata": {
        "trusted": true,
        "_uuid": "60785124984e36422c50287be4d6b1d7944af345",
        "_kg_hide-input": false,
        "_kg_hide-output": true,
        "id": "QRvvPNDAIUMq"
      },
      "cell_type": "code",
      "source": [
        "import datetime\n",
        "import warnings\n",
        "import numpy as np\n",
        "import pandas as pd\n",
        "import seaborn as sns\n",
        "import matplotlib.pyplot as plt\n",
        "from xgboost import XGBRegressor\n",
        "from xgboost import plot_importance\n",
        "from sklearn.metrics import mean_squared_error\n",
        "from sklearn.linear_model import LinearRegression\n",
        "from sklearn.neighbors import KNeighborsRegressor\n",
        "from sklearn.ensemble import RandomForestRegressor\n",
        "from sklearn.preprocessing import StandardScaler, MinMaxScaler\n",
        "\n",
        "%matplotlib inline\n",
        "sns.set(style=\"darkgrid\")\n",
        "pd.set_option('display.float_format', lambda x: '%.2f' % x)\n",
        "warnings.filterwarnings(\"ignore\")"
      ],
      "execution_count": 8,
      "outputs": []
    },
    {
      "metadata": {
        "_uuid": "0dc8d7422c27df8c88b6b8493c2967da432300a8",
        "id": "dLXJjb70IUMu"
      },
      "cell_type": "markdown",
      "source": [
        "### Loading data"
      ]
    },
    {
      "metadata": {
        "trusted": true,
        "_uuid": "1902600704b6188ec08cd65ae0df9b6541b02a6c",
        "id": "TjmBT_wbIUMu"
      },
      "cell_type": "code",
      "source": [
        "test = pd.read_csv('/content/gdrive/MyDrive/Dataset/sales_forecast/test.csv', dtype={'ID': 'int32', 'shop_id': 'int32', \n",
        "                                                  'item_id': 'int32'})\n",
        "item_categories = pd.read_csv('/content/gdrive/MyDrive/Dataset/sales_forecast/item_categories.csv', \n",
        "                              dtype={'item_category_name': 'str', 'item_category_id': 'int32'})\n",
        "items = pd.read_csv('/content/gdrive/MyDrive/Dataset/sales_forecast/items.csv', dtype={'item_name': 'str', 'item_id': 'int32', \n",
        "                                                 'item_category_id': 'int32'})\n",
        "shops = pd.read_csv('/content/gdrive/MyDrive/Dataset/sales_forecast/shops.csv', dtype={'shop_name': 'str', 'shop_id': 'int32'})\n",
        "sales = pd.read_csv('/content/gdrive/MyDrive/Dataset/sales_forecast/sales_train.csv', parse_dates=['date'], \n",
        "                    dtype={'date': 'str', 'date_block_num': 'int32', 'shop_id': 'int32', \n",
        "                          'item_id': 'int32', 'item_price': 'float32', 'item_cnt_day': 'int32'})"
      ],
      "execution_count": 9,
      "outputs": []
    },
    {
      "metadata": {
        "_uuid": "da903a7d023c46a81b2e9297073cf6b1941febfc",
        "id": "TT8SSp7VIUMv"
      },
      "cell_type": "markdown",
      "source": [
        "### Join data sets"
      ]
    },
    {
      "metadata": {
        "trusted": true,
        "_uuid": "203e9c8159e3f7b9369624eb070b15b255b64003",
        "id": "IWR_SjHgIUMz"
      },
      "cell_type": "code",
      "source": [
        "train = sales.join(items, on='item_id', rsuffix='_').join(shops, on='shop_id', rsuffix='_').join(item_categories, on='item_category_id', rsuffix='_').drop(['item_id_', 'shop_id_', 'item_category_id_'], axis=1)"
      ],
      "execution_count": 10,
      "outputs": []
    },
    {
      "metadata": {
        "_uuid": "15abfe223ffc7b1f70a373faaf49bccc6fdefc2d",
        "id": "cWFxEe4CIUM0"
      },
      "cell_type": "markdown",
      "source": [
        "### Let's take a look at the raw data"
      ]
    },
    {
      "metadata": {
        "_kg_hide-input": true,
        "trusted": true,
        "_uuid": "88cdd03ee5d313904780fa4797b9eff9ae88bfcb",
        "id": "2CmL6DauIUM2",
        "colab": {
          "base_uri": "https://localhost:8080/"
        },
        "outputId": "c2759e6c-f4d2-4a75-9460-ad3d638f3342"
      },
      "cell_type": "code",
      "source": [
        "print('Train rows: ', train.shape[0])\n",
        "print('Train columns: ', train.shape[1])"
      ],
      "execution_count": 11,
      "outputs": [
        {
          "output_type": "stream",
          "name": "stdout",
          "text": [
            "Train rows:  2935849\n",
            "Train columns:  10\n"
          ]
        }
      ]
    },
    {
      "metadata": {
        "trusted": true,
        "_uuid": "46a43d3fe0fffcc8b8d36ffd3df9d3c291bcb098",
        "_kg_hide-input": true,
        "id": "LHSqZyZqIUM4",
        "colab": {
          "base_uri": "https://localhost:8080/",
          "height": 561
        },
        "outputId": "34c65028-4f58-4442-ef23-a0df186b8076"
      },
      "cell_type": "code",
      "source": [
        "train.head().T"
      ],
      "execution_count": 12,
      "outputs": [
        {
          "output_type": "execute_result",
          "data": {
            "text/plain": [
              "                                         0  \\\n",
              "date                   2013-02-01 00:00:00   \n",
              "date_block_num                           0   \n",
              "shop_id                                 59   \n",
              "item_id                              22154   \n",
              "item_price                          999.00   \n",
              "item_cnt_day                             1   \n",
              "item_name                ЯВЛЕНИЕ 2012 (BD)   \n",
              "item_category_id                        37   \n",
              "shop_name           Ярославль ТЦ \"Альтаир\"   \n",
              "item_category_name          Кино - Blu-Ray   \n",
              "\n",
              "                                                           1  \\\n",
              "date                                     2013-03-01 00:00:00   \n",
              "date_block_num                                             0   \n",
              "shop_id                                                   25   \n",
              "item_id                                                 2552   \n",
              "item_price                                            899.00   \n",
              "item_cnt_day                                               1   \n",
              "item_name           DEEP PURPLE  The House Of Blue Light  LP   \n",
              "item_category_id                                          58   \n",
              "shop_name                                Москва ТРК \"Атриум\"   \n",
              "item_category_name                            Музыка - Винил   \n",
              "\n",
              "                                                           2  \\\n",
              "date                                     2013-05-01 00:00:00   \n",
              "date_block_num                                             0   \n",
              "shop_id                                                   25   \n",
              "item_id                                                 2552   \n",
              "item_price                                            899.00   \n",
              "item_cnt_day                                              -1   \n",
              "item_name           DEEP PURPLE  The House Of Blue Light  LP   \n",
              "item_category_id                                          58   \n",
              "shop_name                                Москва ТРК \"Атриум\"   \n",
              "item_category_name                            Музыка - Винил   \n",
              "\n",
              "                                                           3  \\\n",
              "date                                     2013-06-01 00:00:00   \n",
              "date_block_num                                             0   \n",
              "shop_id                                                   25   \n",
              "item_id                                                 2554   \n",
              "item_price                                           1709.05   \n",
              "item_cnt_day                                               1   \n",
              "item_name           DEEP PURPLE  Who Do You Think We Are  LP   \n",
              "item_category_id                                          58   \n",
              "shop_name                                Москва ТРК \"Атриум\"   \n",
              "item_category_name                            Музыка - Винил   \n",
              "\n",
              "                                                          4  \n",
              "date                                    2013-01-15 00:00:00  \n",
              "date_block_num                                            0  \n",
              "shop_id                                                  25  \n",
              "item_id                                                2555  \n",
              "item_price                                          1099.00  \n",
              "item_cnt_day                                              1  \n",
              "item_name           DEEP PURPLE 30 Very Best Of 2CD (Фирм.)  \n",
              "item_category_id                                         56  \n",
              "shop_name                               Москва ТРК \"Атриум\"  \n",
              "item_category_name      Музыка - CD фирменного производства  "
            ],
            "text/html": [
              "\n",
              "  <div id=\"df-c9eb5f61-bb06-4be7-9e03-59f4ce54def6\">\n",
              "    <div class=\"colab-df-container\">\n",
              "      <div>\n",
              "<style scoped>\n",
              "    .dataframe tbody tr th:only-of-type {\n",
              "        vertical-align: middle;\n",
              "    }\n",
              "\n",
              "    .dataframe tbody tr th {\n",
              "        vertical-align: top;\n",
              "    }\n",
              "\n",
              "    .dataframe thead th {\n",
              "        text-align: right;\n",
              "    }\n",
              "</style>\n",
              "<table border=\"1\" class=\"dataframe\">\n",
              "  <thead>\n",
              "    <tr style=\"text-align: right;\">\n",
              "      <th></th>\n",
              "      <th>0</th>\n",
              "      <th>1</th>\n",
              "      <th>2</th>\n",
              "      <th>3</th>\n",
              "      <th>4</th>\n",
              "    </tr>\n",
              "  </thead>\n",
              "  <tbody>\n",
              "    <tr>\n",
              "      <th>date</th>\n",
              "      <td>2013-02-01 00:00:00</td>\n",
              "      <td>2013-03-01 00:00:00</td>\n",
              "      <td>2013-05-01 00:00:00</td>\n",
              "      <td>2013-06-01 00:00:00</td>\n",
              "      <td>2013-01-15 00:00:00</td>\n",
              "    </tr>\n",
              "    <tr>\n",
              "      <th>date_block_num</th>\n",
              "      <td>0</td>\n",
              "      <td>0</td>\n",
              "      <td>0</td>\n",
              "      <td>0</td>\n",
              "      <td>0</td>\n",
              "    </tr>\n",
              "    <tr>\n",
              "      <th>shop_id</th>\n",
              "      <td>59</td>\n",
              "      <td>25</td>\n",
              "      <td>25</td>\n",
              "      <td>25</td>\n",
              "      <td>25</td>\n",
              "    </tr>\n",
              "    <tr>\n",
              "      <th>item_id</th>\n",
              "      <td>22154</td>\n",
              "      <td>2552</td>\n",
              "      <td>2552</td>\n",
              "      <td>2554</td>\n",
              "      <td>2555</td>\n",
              "    </tr>\n",
              "    <tr>\n",
              "      <th>item_price</th>\n",
              "      <td>999.00</td>\n",
              "      <td>899.00</td>\n",
              "      <td>899.00</td>\n",
              "      <td>1709.05</td>\n",
              "      <td>1099.00</td>\n",
              "    </tr>\n",
              "    <tr>\n",
              "      <th>item_cnt_day</th>\n",
              "      <td>1</td>\n",
              "      <td>1</td>\n",
              "      <td>-1</td>\n",
              "      <td>1</td>\n",
              "      <td>1</td>\n",
              "    </tr>\n",
              "    <tr>\n",
              "      <th>item_name</th>\n",
              "      <td>ЯВЛЕНИЕ 2012 (BD)</td>\n",
              "      <td>DEEP PURPLE  The House Of Blue Light  LP</td>\n",
              "      <td>DEEP PURPLE  The House Of Blue Light  LP</td>\n",
              "      <td>DEEP PURPLE  Who Do You Think We Are  LP</td>\n",
              "      <td>DEEP PURPLE 30 Very Best Of 2CD (Фирм.)</td>\n",
              "    </tr>\n",
              "    <tr>\n",
              "      <th>item_category_id</th>\n",
              "      <td>37</td>\n",
              "      <td>58</td>\n",
              "      <td>58</td>\n",
              "      <td>58</td>\n",
              "      <td>56</td>\n",
              "    </tr>\n",
              "    <tr>\n",
              "      <th>shop_name</th>\n",
              "      <td>Ярославль ТЦ \"Альтаир\"</td>\n",
              "      <td>Москва ТРК \"Атриум\"</td>\n",
              "      <td>Москва ТРК \"Атриум\"</td>\n",
              "      <td>Москва ТРК \"Атриум\"</td>\n",
              "      <td>Москва ТРК \"Атриум\"</td>\n",
              "    </tr>\n",
              "    <tr>\n",
              "      <th>item_category_name</th>\n",
              "      <td>Кино - Blu-Ray</td>\n",
              "      <td>Музыка - Винил</td>\n",
              "      <td>Музыка - Винил</td>\n",
              "      <td>Музыка - Винил</td>\n",
              "      <td>Музыка - CD фирменного производства</td>\n",
              "    </tr>\n",
              "  </tbody>\n",
              "</table>\n",
              "</div>\n",
              "      <button class=\"colab-df-convert\" onclick=\"convertToInteractive('df-c9eb5f61-bb06-4be7-9e03-59f4ce54def6')\"\n",
              "              title=\"Convert this dataframe to an interactive table.\"\n",
              "              style=\"display:none;\">\n",
              "        \n",
              "  <svg xmlns=\"http://www.w3.org/2000/svg\" height=\"24px\"viewBox=\"0 0 24 24\"\n",
              "       width=\"24px\">\n",
              "    <path d=\"M0 0h24v24H0V0z\" fill=\"none\"/>\n",
              "    <path d=\"M18.56 5.44l.94 2.06.94-2.06 2.06-.94-2.06-.94-.94-2.06-.94 2.06-2.06.94zm-11 1L8.5 8.5l.94-2.06 2.06-.94-2.06-.94L8.5 2.5l-.94 2.06-2.06.94zm10 10l.94 2.06.94-2.06 2.06-.94-2.06-.94-.94-2.06-.94 2.06-2.06.94z\"/><path d=\"M17.41 7.96l-1.37-1.37c-.4-.4-.92-.59-1.43-.59-.52 0-1.04.2-1.43.59L10.3 9.45l-7.72 7.72c-.78.78-.78 2.05 0 2.83L4 21.41c.39.39.9.59 1.41.59.51 0 1.02-.2 1.41-.59l7.78-7.78 2.81-2.81c.8-.78.8-2.07 0-2.86zM5.41 20L4 18.59l7.72-7.72 1.47 1.35L5.41 20z\"/>\n",
              "  </svg>\n",
              "      </button>\n",
              "      \n",
              "  <style>\n",
              "    .colab-df-container {\n",
              "      display:flex;\n",
              "      flex-wrap:wrap;\n",
              "      gap: 12px;\n",
              "    }\n",
              "\n",
              "    .colab-df-convert {\n",
              "      background-color: #E8F0FE;\n",
              "      border: none;\n",
              "      border-radius: 50%;\n",
              "      cursor: pointer;\n",
              "      display: none;\n",
              "      fill: #1967D2;\n",
              "      height: 32px;\n",
              "      padding: 0 0 0 0;\n",
              "      width: 32px;\n",
              "    }\n",
              "\n",
              "    .colab-df-convert:hover {\n",
              "      background-color: #E2EBFA;\n",
              "      box-shadow: 0px 1px 2px rgba(60, 64, 67, 0.3), 0px 1px 3px 1px rgba(60, 64, 67, 0.15);\n",
              "      fill: #174EA6;\n",
              "    }\n",
              "\n",
              "    [theme=dark] .colab-df-convert {\n",
              "      background-color: #3B4455;\n",
              "      fill: #D2E3FC;\n",
              "    }\n",
              "\n",
              "    [theme=dark] .colab-df-convert:hover {\n",
              "      background-color: #434B5C;\n",
              "      box-shadow: 0px 1px 3px 1px rgba(0, 0, 0, 0.15);\n",
              "      filter: drop-shadow(0px 1px 2px rgba(0, 0, 0, 0.3));\n",
              "      fill: #FFFFFF;\n",
              "    }\n",
              "  </style>\n",
              "\n",
              "      <script>\n",
              "        const buttonEl =\n",
              "          document.querySelector('#df-c9eb5f61-bb06-4be7-9e03-59f4ce54def6 button.colab-df-convert');\n",
              "        buttonEl.style.display =\n",
              "          google.colab.kernel.accessAllowed ? 'block' : 'none';\n",
              "\n",
              "        async function convertToInteractive(key) {\n",
              "          const element = document.querySelector('#df-c9eb5f61-bb06-4be7-9e03-59f4ce54def6');\n",
              "          const dataTable =\n",
              "            await google.colab.kernel.invokeFunction('convertToInteractive',\n",
              "                                                     [key], {});\n",
              "          if (!dataTable) return;\n",
              "\n",
              "          const docLinkHtml = 'Like what you see? Visit the ' +\n",
              "            '<a target=\"_blank\" href=https://colab.research.google.com/notebooks/data_table.ipynb>data table notebook</a>'\n",
              "            + ' to learn more about interactive tables.';\n",
              "          element.innerHTML = '';\n",
              "          dataTable['output_type'] = 'display_data';\n",
              "          await google.colab.output.renderOutput(dataTable, element);\n",
              "          const docLink = document.createElement('div');\n",
              "          docLink.innerHTML = docLinkHtml;\n",
              "          element.appendChild(docLink);\n",
              "        }\n",
              "      </script>\n",
              "    </div>\n",
              "  </div>\n",
              "  "
            ]
          },
          "metadata": {},
          "execution_count": 12
        }
      ]
    },
    {
      "metadata": {
        "trusted": true,
        "_uuid": "ae26b7e92a34b929d8054ae3e4a6908c50ced7fb",
        "_kg_hide-input": true,
        "id": "59JbnIS6IUM5",
        "colab": {
          "base_uri": "https://localhost:8080/",
          "height": 364
        },
        "outputId": "ac01e555-cc19-46f5-d29a-c38144e761e0"
      },
      "cell_type": "code",
      "source": [
        "train.describe()"
      ],
      "execution_count": 13,
      "outputs": [
        {
          "output_type": "execute_result",
          "data": {
            "text/plain": [
              "       date_block_num    shop_id    item_id  item_price  item_cnt_day  \\\n",
              "count      2935849.00 2935849.00 2935849.00  2935849.00    2935849.00   \n",
              "mean            14.57      33.00   10197.23      890.85          1.24   \n",
              "std              9.42      16.23    6324.30     1729.80          2.62   \n",
              "min              0.00       0.00       0.00       -1.00        -22.00   \n",
              "25%              7.00      22.00    4476.00      249.00          1.00   \n",
              "50%             14.00      31.00    9343.00      399.00          1.00   \n",
              "75%             23.00      47.00   15684.00      999.00          1.00   \n",
              "max             33.00      59.00   22169.00   307980.00       2169.00   \n",
              "\n",
              "       item_category_id  \n",
              "count        2935849.00  \n",
              "mean              40.00  \n",
              "std               17.10  \n",
              "min                0.00  \n",
              "25%               28.00  \n",
              "50%               40.00  \n",
              "75%               55.00  \n",
              "max               83.00  "
            ],
            "text/html": [
              "\n",
              "  <div id=\"df-a1cea20c-bea9-40c7-bc57-03d949e73ec5\">\n",
              "    <div class=\"colab-df-container\">\n",
              "      <div>\n",
              "<style scoped>\n",
              "    .dataframe tbody tr th:only-of-type {\n",
              "        vertical-align: middle;\n",
              "    }\n",
              "\n",
              "    .dataframe tbody tr th {\n",
              "        vertical-align: top;\n",
              "    }\n",
              "\n",
              "    .dataframe thead th {\n",
              "        text-align: right;\n",
              "    }\n",
              "</style>\n",
              "<table border=\"1\" class=\"dataframe\">\n",
              "  <thead>\n",
              "    <tr style=\"text-align: right;\">\n",
              "      <th></th>\n",
              "      <th>date_block_num</th>\n",
              "      <th>shop_id</th>\n",
              "      <th>item_id</th>\n",
              "      <th>item_price</th>\n",
              "      <th>item_cnt_day</th>\n",
              "      <th>item_category_id</th>\n",
              "    </tr>\n",
              "  </thead>\n",
              "  <tbody>\n",
              "    <tr>\n",
              "      <th>count</th>\n",
              "      <td>2935849.00</td>\n",
              "      <td>2935849.00</td>\n",
              "      <td>2935849.00</td>\n",
              "      <td>2935849.00</td>\n",
              "      <td>2935849.00</td>\n",
              "      <td>2935849.00</td>\n",
              "    </tr>\n",
              "    <tr>\n",
              "      <th>mean</th>\n",
              "      <td>14.57</td>\n",
              "      <td>33.00</td>\n",
              "      <td>10197.23</td>\n",
              "      <td>890.85</td>\n",
              "      <td>1.24</td>\n",
              "      <td>40.00</td>\n",
              "    </tr>\n",
              "    <tr>\n",
              "      <th>std</th>\n",
              "      <td>9.42</td>\n",
              "      <td>16.23</td>\n",
              "      <td>6324.30</td>\n",
              "      <td>1729.80</td>\n",
              "      <td>2.62</td>\n",
              "      <td>17.10</td>\n",
              "    </tr>\n",
              "    <tr>\n",
              "      <th>min</th>\n",
              "      <td>0.00</td>\n",
              "      <td>0.00</td>\n",
              "      <td>0.00</td>\n",
              "      <td>-1.00</td>\n",
              "      <td>-22.00</td>\n",
              "      <td>0.00</td>\n",
              "    </tr>\n",
              "    <tr>\n",
              "      <th>25%</th>\n",
              "      <td>7.00</td>\n",
              "      <td>22.00</td>\n",
              "      <td>4476.00</td>\n",
              "      <td>249.00</td>\n",
              "      <td>1.00</td>\n",
              "      <td>28.00</td>\n",
              "    </tr>\n",
              "    <tr>\n",
              "      <th>50%</th>\n",
              "      <td>14.00</td>\n",
              "      <td>31.00</td>\n",
              "      <td>9343.00</td>\n",
              "      <td>399.00</td>\n",
              "      <td>1.00</td>\n",
              "      <td>40.00</td>\n",
              "    </tr>\n",
              "    <tr>\n",
              "      <th>75%</th>\n",
              "      <td>23.00</td>\n",
              "      <td>47.00</td>\n",
              "      <td>15684.00</td>\n",
              "      <td>999.00</td>\n",
              "      <td>1.00</td>\n",
              "      <td>55.00</td>\n",
              "    </tr>\n",
              "    <tr>\n",
              "      <th>max</th>\n",
              "      <td>33.00</td>\n",
              "      <td>59.00</td>\n",
              "      <td>22169.00</td>\n",
              "      <td>307980.00</td>\n",
              "      <td>2169.00</td>\n",
              "      <td>83.00</td>\n",
              "    </tr>\n",
              "  </tbody>\n",
              "</table>\n",
              "</div>\n",
              "      <button class=\"colab-df-convert\" onclick=\"convertToInteractive('df-a1cea20c-bea9-40c7-bc57-03d949e73ec5')\"\n",
              "              title=\"Convert this dataframe to an interactive table.\"\n",
              "              style=\"display:none;\">\n",
              "        \n",
              "  <svg xmlns=\"http://www.w3.org/2000/svg\" height=\"24px\"viewBox=\"0 0 24 24\"\n",
              "       width=\"24px\">\n",
              "    <path d=\"M0 0h24v24H0V0z\" fill=\"none\"/>\n",
              "    <path d=\"M18.56 5.44l.94 2.06.94-2.06 2.06-.94-2.06-.94-.94-2.06-.94 2.06-2.06.94zm-11 1L8.5 8.5l.94-2.06 2.06-.94-2.06-.94L8.5 2.5l-.94 2.06-2.06.94zm10 10l.94 2.06.94-2.06 2.06-.94-2.06-.94-.94-2.06-.94 2.06-2.06.94z\"/><path d=\"M17.41 7.96l-1.37-1.37c-.4-.4-.92-.59-1.43-.59-.52 0-1.04.2-1.43.59L10.3 9.45l-7.72 7.72c-.78.78-.78 2.05 0 2.83L4 21.41c.39.39.9.59 1.41.59.51 0 1.02-.2 1.41-.59l7.78-7.78 2.81-2.81c.8-.78.8-2.07 0-2.86zM5.41 20L4 18.59l7.72-7.72 1.47 1.35L5.41 20z\"/>\n",
              "  </svg>\n",
              "      </button>\n",
              "      \n",
              "  <style>\n",
              "    .colab-df-container {\n",
              "      display:flex;\n",
              "      flex-wrap:wrap;\n",
              "      gap: 12px;\n",
              "    }\n",
              "\n",
              "    .colab-df-convert {\n",
              "      background-color: #E8F0FE;\n",
              "      border: none;\n",
              "      border-radius: 50%;\n",
              "      cursor: pointer;\n",
              "      display: none;\n",
              "      fill: #1967D2;\n",
              "      height: 32px;\n",
              "      padding: 0 0 0 0;\n",
              "      width: 32px;\n",
              "    }\n",
              "\n",
              "    .colab-df-convert:hover {\n",
              "      background-color: #E2EBFA;\n",
              "      box-shadow: 0px 1px 2px rgba(60, 64, 67, 0.3), 0px 1px 3px 1px rgba(60, 64, 67, 0.15);\n",
              "      fill: #174EA6;\n",
              "    }\n",
              "\n",
              "    [theme=dark] .colab-df-convert {\n",
              "      background-color: #3B4455;\n",
              "      fill: #D2E3FC;\n",
              "    }\n",
              "\n",
              "    [theme=dark] .colab-df-convert:hover {\n",
              "      background-color: #434B5C;\n",
              "      box-shadow: 0px 1px 3px 1px rgba(0, 0, 0, 0.15);\n",
              "      filter: drop-shadow(0px 1px 2px rgba(0, 0, 0, 0.3));\n",
              "      fill: #FFFFFF;\n",
              "    }\n",
              "  </style>\n",
              "\n",
              "      <script>\n",
              "        const buttonEl =\n",
              "          document.querySelector('#df-a1cea20c-bea9-40c7-bc57-03d949e73ec5 button.colab-df-convert');\n",
              "        buttonEl.style.display =\n",
              "          google.colab.kernel.accessAllowed ? 'block' : 'none';\n",
              "\n",
              "        async function convertToInteractive(key) {\n",
              "          const element = document.querySelector('#df-a1cea20c-bea9-40c7-bc57-03d949e73ec5');\n",
              "          const dataTable =\n",
              "            await google.colab.kernel.invokeFunction('convertToInteractive',\n",
              "                                                     [key], {});\n",
              "          if (!dataTable) return;\n",
              "\n",
              "          const docLinkHtml = 'Like what you see? Visit the ' +\n",
              "            '<a target=\"_blank\" href=https://colab.research.google.com/notebooks/data_table.ipynb>data table notebook</a>'\n",
              "            + ' to learn more about interactive tables.';\n",
              "          element.innerHTML = '';\n",
              "          dataTable['output_type'] = 'display_data';\n",
              "          await google.colab.output.renderOutput(dataTable, element);\n",
              "          const docLink = document.createElement('div');\n",
              "          docLink.innerHTML = docLinkHtml;\n",
              "          element.appendChild(docLink);\n",
              "        }\n",
              "      </script>\n",
              "    </div>\n",
              "  </div>\n",
              "  "
            ]
          },
          "metadata": {},
          "execution_count": 13
        }
      ]
    },
    {
      "metadata": {
        "_uuid": "038c612e2f3177010080cbc2d0bd07d2e6d81af0",
        "id": "e-kItfKhIUM6"
      },
      "cell_type": "markdown",
      "source": [
        "### Time period of the dataset"
      ]
    },
    {
      "metadata": {
        "trusted": true,
        "_uuid": "4943dc5bd0e533852c35a27fae90f7563c7b1b6c",
        "id": "2xXxy54dIUM7",
        "colab": {
          "base_uri": "https://localhost:8080/"
        },
        "outputId": "274b9be2-60e6-455c-9066-ad3cd5b804a3"
      },
      "cell_type": "code",
      "source": [
        "print('Min date from train set: %s' % train['date'].min().date())\n",
        "print('Max date from train set: %s' % train['date'].max().date())"
      ],
      "execution_count": 14,
      "outputs": [
        {
          "output_type": "stream",
          "name": "stdout",
          "text": [
            "Min date from train set: 2013-01-01\n",
            "Max date from train set: 2015-12-10\n"
          ]
        }
      ]
    },
    {
      "metadata": {
        "trusted": true,
        "_uuid": "10ae6e2516acc7cf9d1fba866af8608af5f37c1d",
        "id": "nNyNODc1IUM7"
      },
      "cell_type": "markdown",
      "source": [
        "### Data leakages\n",
        "\n",
        "About data leakages I'll only be using only the \"shop_id\" and \"item_id\" that appear on the test set."
      ]
    },
    {
      "metadata": {
        "trusted": true,
        "_uuid": "54c95a8b06b213d92cff944e6364168f8a891682",
        "id": "IAiqI76FIUM8"
      },
      "cell_type": "code",
      "source": [
        "test_shop_ids = test['shop_id'].unique()\n",
        "test_item_ids = test['item_id'].unique()\n",
        "# Only shops that exist in test set.\n",
        "lk_train = train[train['shop_id'].isin(test_shop_ids)]\n",
        "# Only items that exist in test set.\n",
        "lk_train = lk_train[lk_train['item_id'].isin(test_item_ids)]"
      ],
      "execution_count": 15,
      "outputs": []
    },
    {
      "metadata": {
        "trusted": true,
        "_uuid": "d3fafd1a419a27ac623be0d5dcb6a3109176472a",
        "id": "LEIghIe5IUM9",
        "colab": {
          "base_uri": "https://localhost:8080/"
        },
        "outputId": "a0c6f263-a382-4b50-9fc2-3dd996b8fa79"
      },
      "cell_type": "code",
      "source": [
        "print('Data set size before leaking:', train.shape[0])\n",
        "print('Data set size after leaking:', lk_train.shape[0])"
      ],
      "execution_count": 16,
      "outputs": [
        {
          "output_type": "stream",
          "name": "stdout",
          "text": [
            "Data set size before leaking: 2935849\n",
            "Data set size after leaking: 1224439\n"
          ]
        }
      ]
    },
    {
      "metadata": {
        "_uuid": "9e293477b6db49ceec812a68536b282948f1463a",
        "id": "4bACyO2OIUM9"
      },
      "cell_type": "markdown",
      "source": [
        "## Data cleaning\n",
        "\n",
        "    Only records with \"item_price\" > 0."
      ]
    },
    {
      "metadata": {
        "trusted": true,
        "_uuid": "cefc1f8d4328fb583941704a9423eb0aaf051936",
        "id": "kLGfw6KWIUM-"
      },
      "cell_type": "code",
      "source": [
        "train = train.query('item_price > 0')"
      ],
      "execution_count": 17,
      "outputs": []
    },
    {
      "metadata": {
        "_uuid": "fc7d2781916d506fafc6dedda43c981d05a4c48d",
        "id": "TOZJxsuhIUM-"
      },
      "cell_type": "markdown",
      "source": [
        "## Data preprocessing\n",
        "* I'm dropping the text features since I won't be doing anything with them.\n",
        "* We are asked to predict total sales for every product and store in the next month, and our data is given by day, so let's remove unwanted columns and aggregate the data by month."
      ]
    },
    {
      "metadata": {
        "trusted": true,
        "_uuid": "de93738c724479d8234e30180ebcd8bf6becaf43",
        "id": "jJ4Bi9x9IUM-"
      },
      "cell_type": "code",
      "source": [
        "# Select only useful features.\n",
        "train_monthly = lk_train[['date', 'date_block_num', 'shop_id', 'item_category_id', 'item_id', 'item_price', 'item_cnt_day']]"
      ],
      "execution_count": 18,
      "outputs": []
    },
    {
      "metadata": {
        "trusted": true,
        "_uuid": "0cfa016f89affd460f056a8107cfc8f345773907",
        "id": "td5f1Zy9IUSB"
      },
      "cell_type": "code",
      "source": [
        "# Group by month in this case \"date_block_num\" and aggregate features.\n",
        "train_monthly = train_monthly.sort_values('date').groupby(['date_block_num', 'shop_id', 'item_category_id', 'item_id'], as_index=False)\n",
        "train_monthly = train_monthly.agg({'item_price':['sum', 'mean'], 'item_cnt_day':['sum', 'mean','count']})\n",
        "# Rename features.\n",
        "train_monthly.columns = ['date_block_num', 'shop_id', 'item_category_id', 'item_id', 'item_price', 'mean_item_price', 'item_cnt', 'mean_item_cnt', 'transactions']"
      ],
      "execution_count": 19,
      "outputs": []
    },
    {
      "metadata": {
        "_uuid": "6790d154fe62a879dd23ed5c7f36704eeb4fe600",
        "id": "ERzigAHkIUSD"
      },
      "cell_type": "markdown",
      "source": [
        "#### To mimic the real behavior of the data we have to create the missing records from the loaded dataset, so for each month we need to create the missing records for each shop and item, since we don't have data for them I'll replace them with 0."
      ]
    },
    {
      "metadata": {
        "trusted": true,
        "_uuid": "0491342541802ddef275456aeba8a25a152bd1be",
        "id": "o-GI9PFZIUSD"
      },
      "cell_type": "code",
      "source": [
        "# Build a data set with all the possible combinations of ['date_block_num','shop_id','item_id'] so we won't have missing records.\n",
        "shop_ids = train_monthly['shop_id'].unique()\n",
        "item_ids = train_monthly['item_id'].unique()\n",
        "empty_df = []\n",
        "for i in range(34):\n",
        "    for shop in shop_ids:\n",
        "        for item in item_ids:\n",
        "            empty_df.append([i, shop, item])\n",
        "    \n",
        "empty_df = pd.DataFrame(empty_df, columns=['date_block_num','shop_id','item_id'])"
      ],
      "execution_count": 20,
      "outputs": []
    },
    {
      "metadata": {
        "trusted": true,
        "_uuid": "2fbb090d2d8642622f01c6c52e362f74fa0574ce",
        "id": "WtI1yrzSIUSG"
      },
      "cell_type": "code",
      "source": [
        "# Merge the train set with the complete set (missing records will be filled with 0).\n",
        "train_monthly = pd.merge(empty_df, train_monthly, on=['date_block_num','shop_id','item_id'], how='left')\n",
        "train_monthly.fillna(0, inplace=True)"
      ],
      "execution_count": 21,
      "outputs": []
    },
    {
      "metadata": {
        "_uuid": "5c59d6b48a35e04a80c13ff298e704a47c62fab2",
        "id": "3Y7LO-fxIUSG"
      },
      "cell_type": "markdown",
      "source": [
        "### New dataset"
      ]
    },
    {
      "metadata": {
        "_kg_hide-input": true,
        "trusted": true,
        "_uuid": "53c97644dde67fc5284c7fd658752f54e55b3adb",
        "id": "EQ970lkeIUSH",
        "colab": {
          "base_uri": "https://localhost:8080/",
          "height": 0
        },
        "outputId": "66c246f3-7f8a-4c40-e28f-19476cb11685"
      },
      "cell_type": "code",
      "source": [
        "train_monthly.head().T"
      ],
      "execution_count": 22,
      "outputs": [
        {
          "output_type": "execute_result",
          "data": {
            "text/plain": [
              "                        0       1       2       3       4\n",
              "date_block_num       0.00    0.00    0.00    0.00    0.00\n",
              "shop_id              2.00    2.00    2.00    2.00    2.00\n",
              "item_id           5572.00 5643.00 5583.00 7893.00 7894.00\n",
              "item_category_id     2.00    2.00    5.00    6.00    6.00\n",
              "item_price       10730.00 4775.21 1188.30 5970.00 1490.00\n",
              "mean_item_price   1532.86 2387.60  594.15 1990.00 1490.00\n",
              "item_cnt             9.00    0.00    2.00    3.00    1.00\n",
              "mean_item_cnt        1.29    0.00    1.00    1.00    1.00\n",
              "transactions         7.00    2.00    2.00    3.00    1.00"
            ],
            "text/html": [
              "\n",
              "  <div id=\"df-8cf2b94e-e953-412a-ab20-78a65a1143f3\">\n",
              "    <div class=\"colab-df-container\">\n",
              "      <div>\n",
              "<style scoped>\n",
              "    .dataframe tbody tr th:only-of-type {\n",
              "        vertical-align: middle;\n",
              "    }\n",
              "\n",
              "    .dataframe tbody tr th {\n",
              "        vertical-align: top;\n",
              "    }\n",
              "\n",
              "    .dataframe thead th {\n",
              "        text-align: right;\n",
              "    }\n",
              "</style>\n",
              "<table border=\"1\" class=\"dataframe\">\n",
              "  <thead>\n",
              "    <tr style=\"text-align: right;\">\n",
              "      <th></th>\n",
              "      <th>0</th>\n",
              "      <th>1</th>\n",
              "      <th>2</th>\n",
              "      <th>3</th>\n",
              "      <th>4</th>\n",
              "    </tr>\n",
              "  </thead>\n",
              "  <tbody>\n",
              "    <tr>\n",
              "      <th>date_block_num</th>\n",
              "      <td>0.00</td>\n",
              "      <td>0.00</td>\n",
              "      <td>0.00</td>\n",
              "      <td>0.00</td>\n",
              "      <td>0.00</td>\n",
              "    </tr>\n",
              "    <tr>\n",
              "      <th>shop_id</th>\n",
              "      <td>2.00</td>\n",
              "      <td>2.00</td>\n",
              "      <td>2.00</td>\n",
              "      <td>2.00</td>\n",
              "      <td>2.00</td>\n",
              "    </tr>\n",
              "    <tr>\n",
              "      <th>item_id</th>\n",
              "      <td>5572.00</td>\n",
              "      <td>5643.00</td>\n",
              "      <td>5583.00</td>\n",
              "      <td>7893.00</td>\n",
              "      <td>7894.00</td>\n",
              "    </tr>\n",
              "    <tr>\n",
              "      <th>item_category_id</th>\n",
              "      <td>2.00</td>\n",
              "      <td>2.00</td>\n",
              "      <td>5.00</td>\n",
              "      <td>6.00</td>\n",
              "      <td>6.00</td>\n",
              "    </tr>\n",
              "    <tr>\n",
              "      <th>item_price</th>\n",
              "      <td>10730.00</td>\n",
              "      <td>4775.21</td>\n",
              "      <td>1188.30</td>\n",
              "      <td>5970.00</td>\n",
              "      <td>1490.00</td>\n",
              "    </tr>\n",
              "    <tr>\n",
              "      <th>mean_item_price</th>\n",
              "      <td>1532.86</td>\n",
              "      <td>2387.60</td>\n",
              "      <td>594.15</td>\n",
              "      <td>1990.00</td>\n",
              "      <td>1490.00</td>\n",
              "    </tr>\n",
              "    <tr>\n",
              "      <th>item_cnt</th>\n",
              "      <td>9.00</td>\n",
              "      <td>0.00</td>\n",
              "      <td>2.00</td>\n",
              "      <td>3.00</td>\n",
              "      <td>1.00</td>\n",
              "    </tr>\n",
              "    <tr>\n",
              "      <th>mean_item_cnt</th>\n",
              "      <td>1.29</td>\n",
              "      <td>0.00</td>\n",
              "      <td>1.00</td>\n",
              "      <td>1.00</td>\n",
              "      <td>1.00</td>\n",
              "    </tr>\n",
              "    <tr>\n",
              "      <th>transactions</th>\n",
              "      <td>7.00</td>\n",
              "      <td>2.00</td>\n",
              "      <td>2.00</td>\n",
              "      <td>3.00</td>\n",
              "      <td>1.00</td>\n",
              "    </tr>\n",
              "  </tbody>\n",
              "</table>\n",
              "</div>\n",
              "      <button class=\"colab-df-convert\" onclick=\"convertToInteractive('df-8cf2b94e-e953-412a-ab20-78a65a1143f3')\"\n",
              "              title=\"Convert this dataframe to an interactive table.\"\n",
              "              style=\"display:none;\">\n",
              "        \n",
              "  <svg xmlns=\"http://www.w3.org/2000/svg\" height=\"24px\"viewBox=\"0 0 24 24\"\n",
              "       width=\"24px\">\n",
              "    <path d=\"M0 0h24v24H0V0z\" fill=\"none\"/>\n",
              "    <path d=\"M18.56 5.44l.94 2.06.94-2.06 2.06-.94-2.06-.94-.94-2.06-.94 2.06-2.06.94zm-11 1L8.5 8.5l.94-2.06 2.06-.94-2.06-.94L8.5 2.5l-.94 2.06-2.06.94zm10 10l.94 2.06.94-2.06 2.06-.94-2.06-.94-.94-2.06-.94 2.06-2.06.94z\"/><path d=\"M17.41 7.96l-1.37-1.37c-.4-.4-.92-.59-1.43-.59-.52 0-1.04.2-1.43.59L10.3 9.45l-7.72 7.72c-.78.78-.78 2.05 0 2.83L4 21.41c.39.39.9.59 1.41.59.51 0 1.02-.2 1.41-.59l7.78-7.78 2.81-2.81c.8-.78.8-2.07 0-2.86zM5.41 20L4 18.59l7.72-7.72 1.47 1.35L5.41 20z\"/>\n",
              "  </svg>\n",
              "      </button>\n",
              "      \n",
              "  <style>\n",
              "    .colab-df-container {\n",
              "      display:flex;\n",
              "      flex-wrap:wrap;\n",
              "      gap: 12px;\n",
              "    }\n",
              "\n",
              "    .colab-df-convert {\n",
              "      background-color: #E8F0FE;\n",
              "      border: none;\n",
              "      border-radius: 50%;\n",
              "      cursor: pointer;\n",
              "      display: none;\n",
              "      fill: #1967D2;\n",
              "      height: 32px;\n",
              "      padding: 0 0 0 0;\n",
              "      width: 32px;\n",
              "    }\n",
              "\n",
              "    .colab-df-convert:hover {\n",
              "      background-color: #E2EBFA;\n",
              "      box-shadow: 0px 1px 2px rgba(60, 64, 67, 0.3), 0px 1px 3px 1px rgba(60, 64, 67, 0.15);\n",
              "      fill: #174EA6;\n",
              "    }\n",
              "\n",
              "    [theme=dark] .colab-df-convert {\n",
              "      background-color: #3B4455;\n",
              "      fill: #D2E3FC;\n",
              "    }\n",
              "\n",
              "    [theme=dark] .colab-df-convert:hover {\n",
              "      background-color: #434B5C;\n",
              "      box-shadow: 0px 1px 3px 1px rgba(0, 0, 0, 0.15);\n",
              "      filter: drop-shadow(0px 1px 2px rgba(0, 0, 0, 0.3));\n",
              "      fill: #FFFFFF;\n",
              "    }\n",
              "  </style>\n",
              "\n",
              "      <script>\n",
              "        const buttonEl =\n",
              "          document.querySelector('#df-8cf2b94e-e953-412a-ab20-78a65a1143f3 button.colab-df-convert');\n",
              "        buttonEl.style.display =\n",
              "          google.colab.kernel.accessAllowed ? 'block' : 'none';\n",
              "\n",
              "        async function convertToInteractive(key) {\n",
              "          const element = document.querySelector('#df-8cf2b94e-e953-412a-ab20-78a65a1143f3');\n",
              "          const dataTable =\n",
              "            await google.colab.kernel.invokeFunction('convertToInteractive',\n",
              "                                                     [key], {});\n",
              "          if (!dataTable) return;\n",
              "\n",
              "          const docLinkHtml = 'Like what you see? Visit the ' +\n",
              "            '<a target=\"_blank\" href=https://colab.research.google.com/notebooks/data_table.ipynb>data table notebook</a>'\n",
              "            + ' to learn more about interactive tables.';\n",
              "          element.innerHTML = '';\n",
              "          dataTable['output_type'] = 'display_data';\n",
              "          await google.colab.output.renderOutput(dataTable, element);\n",
              "          const docLink = document.createElement('div');\n",
              "          docLink.innerHTML = docLinkHtml;\n",
              "          element.appendChild(docLink);\n",
              "        }\n",
              "      </script>\n",
              "    </div>\n",
              "  </div>\n",
              "  "
            ]
          },
          "metadata": {},
          "execution_count": 22
        }
      ]
    },
    {
      "metadata": {
        "trusted": true,
        "_uuid": "848d24b66d9b499e0f7a369b32ca2adfa64ce55d",
        "id": "eJ_eU6CsIUSH",
        "colab": {
          "base_uri": "https://localhost:8080/",
          "height": 0
        },
        "outputId": "6346df5c-cd71-4577-8034-e251e3c6c473"
      },
      "cell_type": "code",
      "source": [
        "train_monthly.describe().T"
      ],
      "execution_count": 23,
      "outputs": [
        {
          "output_type": "execute_result",
          "data": {
            "text/plain": [
              "                      count     mean     std   min     25%      50%      75%  \\\n",
              "date_block_num   6734448.00    16.50    9.81  0.00    8.00    16.50    25.00   \n",
              "shop_id          6734448.00    31.64   17.56  2.00   16.00    34.50    47.00   \n",
              "item_id          6734448.00 11041.89 6210.74 30.00 5385.25 11265.50 16068.25   \n",
              "item_category_id 6734448.00     3.79   13.21  0.00    0.00     0.00     0.00   \n",
              "item_price       6734448.00   187.39 2177.44  0.00    0.00     0.00     0.00   \n",
              "mean_item_price  6734448.00    81.23  534.73  0.00    0.00     0.00     0.00   \n",
              "item_cnt         6734448.00     0.24    3.46 -4.00    0.00     0.00     0.00   \n",
              "mean_item_cnt    6734448.00     0.10    0.61 -2.00    0.00     0.00     0.00   \n",
              "transactions     6734448.00     0.18    0.90  0.00    0.00     0.00     0.00   \n",
              "\n",
              "                       max  \n",
              "date_block_num       33.00  \n",
              "shop_id              59.00  \n",
              "item_id           22167.00  \n",
              "item_category_id     83.00  \n",
              "item_price       515573.59  \n",
              "mean_item_price   42990.00  \n",
              "item_cnt           2253.00  \n",
              "mean_item_cnt      1000.00  \n",
              "transactions         31.00  "
            ],
            "text/html": [
              "\n",
              "  <div id=\"df-18476597-22b1-43a0-9d74-355c8b10af65\">\n",
              "    <div class=\"colab-df-container\">\n",
              "      <div>\n",
              "<style scoped>\n",
              "    .dataframe tbody tr th:only-of-type {\n",
              "        vertical-align: middle;\n",
              "    }\n",
              "\n",
              "    .dataframe tbody tr th {\n",
              "        vertical-align: top;\n",
              "    }\n",
              "\n",
              "    .dataframe thead th {\n",
              "        text-align: right;\n",
              "    }\n",
              "</style>\n",
              "<table border=\"1\" class=\"dataframe\">\n",
              "  <thead>\n",
              "    <tr style=\"text-align: right;\">\n",
              "      <th></th>\n",
              "      <th>count</th>\n",
              "      <th>mean</th>\n",
              "      <th>std</th>\n",
              "      <th>min</th>\n",
              "      <th>25%</th>\n",
              "      <th>50%</th>\n",
              "      <th>75%</th>\n",
              "      <th>max</th>\n",
              "    </tr>\n",
              "  </thead>\n",
              "  <tbody>\n",
              "    <tr>\n",
              "      <th>date_block_num</th>\n",
              "      <td>6734448.00</td>\n",
              "      <td>16.50</td>\n",
              "      <td>9.81</td>\n",
              "      <td>0.00</td>\n",
              "      <td>8.00</td>\n",
              "      <td>16.50</td>\n",
              "      <td>25.00</td>\n",
              "      <td>33.00</td>\n",
              "    </tr>\n",
              "    <tr>\n",
              "      <th>shop_id</th>\n",
              "      <td>6734448.00</td>\n",
              "      <td>31.64</td>\n",
              "      <td>17.56</td>\n",
              "      <td>2.00</td>\n",
              "      <td>16.00</td>\n",
              "      <td>34.50</td>\n",
              "      <td>47.00</td>\n",
              "      <td>59.00</td>\n",
              "    </tr>\n",
              "    <tr>\n",
              "      <th>item_id</th>\n",
              "      <td>6734448.00</td>\n",
              "      <td>11041.89</td>\n",
              "      <td>6210.74</td>\n",
              "      <td>30.00</td>\n",
              "      <td>5385.25</td>\n",
              "      <td>11265.50</td>\n",
              "      <td>16068.25</td>\n",
              "      <td>22167.00</td>\n",
              "    </tr>\n",
              "    <tr>\n",
              "      <th>item_category_id</th>\n",
              "      <td>6734448.00</td>\n",
              "      <td>3.79</td>\n",
              "      <td>13.21</td>\n",
              "      <td>0.00</td>\n",
              "      <td>0.00</td>\n",
              "      <td>0.00</td>\n",
              "      <td>0.00</td>\n",
              "      <td>83.00</td>\n",
              "    </tr>\n",
              "    <tr>\n",
              "      <th>item_price</th>\n",
              "      <td>6734448.00</td>\n",
              "      <td>187.39</td>\n",
              "      <td>2177.44</td>\n",
              "      <td>0.00</td>\n",
              "      <td>0.00</td>\n",
              "      <td>0.00</td>\n",
              "      <td>0.00</td>\n",
              "      <td>515573.59</td>\n",
              "    </tr>\n",
              "    <tr>\n",
              "      <th>mean_item_price</th>\n",
              "      <td>6734448.00</td>\n",
              "      <td>81.23</td>\n",
              "      <td>534.73</td>\n",
              "      <td>0.00</td>\n",
              "      <td>0.00</td>\n",
              "      <td>0.00</td>\n",
              "      <td>0.00</td>\n",
              "      <td>42990.00</td>\n",
              "    </tr>\n",
              "    <tr>\n",
              "      <th>item_cnt</th>\n",
              "      <td>6734448.00</td>\n",
              "      <td>0.24</td>\n",
              "      <td>3.46</td>\n",
              "      <td>-4.00</td>\n",
              "      <td>0.00</td>\n",
              "      <td>0.00</td>\n",
              "      <td>0.00</td>\n",
              "      <td>2253.00</td>\n",
              "    </tr>\n",
              "    <tr>\n",
              "      <th>mean_item_cnt</th>\n",
              "      <td>6734448.00</td>\n",
              "      <td>0.10</td>\n",
              "      <td>0.61</td>\n",
              "      <td>-2.00</td>\n",
              "      <td>0.00</td>\n",
              "      <td>0.00</td>\n",
              "      <td>0.00</td>\n",
              "      <td>1000.00</td>\n",
              "    </tr>\n",
              "    <tr>\n",
              "      <th>transactions</th>\n",
              "      <td>6734448.00</td>\n",
              "      <td>0.18</td>\n",
              "      <td>0.90</td>\n",
              "      <td>0.00</td>\n",
              "      <td>0.00</td>\n",
              "      <td>0.00</td>\n",
              "      <td>0.00</td>\n",
              "      <td>31.00</td>\n",
              "    </tr>\n",
              "  </tbody>\n",
              "</table>\n",
              "</div>\n",
              "      <button class=\"colab-df-convert\" onclick=\"convertToInteractive('df-18476597-22b1-43a0-9d74-355c8b10af65')\"\n",
              "              title=\"Convert this dataframe to an interactive table.\"\n",
              "              style=\"display:none;\">\n",
              "        \n",
              "  <svg xmlns=\"http://www.w3.org/2000/svg\" height=\"24px\"viewBox=\"0 0 24 24\"\n",
              "       width=\"24px\">\n",
              "    <path d=\"M0 0h24v24H0V0z\" fill=\"none\"/>\n",
              "    <path d=\"M18.56 5.44l.94 2.06.94-2.06 2.06-.94-2.06-.94-.94-2.06-.94 2.06-2.06.94zm-11 1L8.5 8.5l.94-2.06 2.06-.94-2.06-.94L8.5 2.5l-.94 2.06-2.06.94zm10 10l.94 2.06.94-2.06 2.06-.94-2.06-.94-.94-2.06-.94 2.06-2.06.94z\"/><path d=\"M17.41 7.96l-1.37-1.37c-.4-.4-.92-.59-1.43-.59-.52 0-1.04.2-1.43.59L10.3 9.45l-7.72 7.72c-.78.78-.78 2.05 0 2.83L4 21.41c.39.39.9.59 1.41.59.51 0 1.02-.2 1.41-.59l7.78-7.78 2.81-2.81c.8-.78.8-2.07 0-2.86zM5.41 20L4 18.59l7.72-7.72 1.47 1.35L5.41 20z\"/>\n",
              "  </svg>\n",
              "      </button>\n",
              "      \n",
              "  <style>\n",
              "    .colab-df-container {\n",
              "      display:flex;\n",
              "      flex-wrap:wrap;\n",
              "      gap: 12px;\n",
              "    }\n",
              "\n",
              "    .colab-df-convert {\n",
              "      background-color: #E8F0FE;\n",
              "      border: none;\n",
              "      border-radius: 50%;\n",
              "      cursor: pointer;\n",
              "      display: none;\n",
              "      fill: #1967D2;\n",
              "      height: 32px;\n",
              "      padding: 0 0 0 0;\n",
              "      width: 32px;\n",
              "    }\n",
              "\n",
              "    .colab-df-convert:hover {\n",
              "      background-color: #E2EBFA;\n",
              "      box-shadow: 0px 1px 2px rgba(60, 64, 67, 0.3), 0px 1px 3px 1px rgba(60, 64, 67, 0.15);\n",
              "      fill: #174EA6;\n",
              "    }\n",
              "\n",
              "    [theme=dark] .colab-df-convert {\n",
              "      background-color: #3B4455;\n",
              "      fill: #D2E3FC;\n",
              "    }\n",
              "\n",
              "    [theme=dark] .colab-df-convert:hover {\n",
              "      background-color: #434B5C;\n",
              "      box-shadow: 0px 1px 3px 1px rgba(0, 0, 0, 0.15);\n",
              "      filter: drop-shadow(0px 1px 2px rgba(0, 0, 0, 0.3));\n",
              "      fill: #FFFFFF;\n",
              "    }\n",
              "  </style>\n",
              "\n",
              "      <script>\n",
              "        const buttonEl =\n",
              "          document.querySelector('#df-18476597-22b1-43a0-9d74-355c8b10af65 button.colab-df-convert');\n",
              "        buttonEl.style.display =\n",
              "          google.colab.kernel.accessAllowed ? 'block' : 'none';\n",
              "\n",
              "        async function convertToInteractive(key) {\n",
              "          const element = document.querySelector('#df-18476597-22b1-43a0-9d74-355c8b10af65');\n",
              "          const dataTable =\n",
              "            await google.colab.kernel.invokeFunction('convertToInteractive',\n",
              "                                                     [key], {});\n",
              "          if (!dataTable) return;\n",
              "\n",
              "          const docLinkHtml = 'Like what you see? Visit the ' +\n",
              "            '<a target=\"_blank\" href=https://colab.research.google.com/notebooks/data_table.ipynb>data table notebook</a>'\n",
              "            + ' to learn more about interactive tables.';\n",
              "          element.innerHTML = '';\n",
              "          dataTable['output_type'] = 'display_data';\n",
              "          await google.colab.output.renderOutput(dataTable, element);\n",
              "          const docLink = document.createElement('div');\n",
              "          docLink.innerHTML = docLinkHtml;\n",
              "          element.appendChild(docLink);\n",
              "        }\n",
              "      </script>\n",
              "    </div>\n",
              "  </div>\n",
              "  "
            ]
          },
          "metadata": {},
          "execution_count": 23
        }
      ]
    },
    {
      "metadata": {
        "trusted": true,
        "_uuid": "f31f80982ae23b65c6cd3b78ac6d72613d79db69",
        "id": "kffesqfLIUSI"
      },
      "cell_type": "code",
      "source": [
        "# Extract time based features.\n",
        "train_monthly['year'] = train_monthly['date_block_num'].apply(lambda x: ((x//12) + 2013))\n",
        "train_monthly['month'] = train_monthly['date_block_num'].apply(lambda x: (x % 12))"
      ],
      "execution_count": 24,
      "outputs": []
    },
    {
      "metadata": {
        "_uuid": "47e69a110e7cbbda02a5335284b3cf7840bad1e5",
        "id": "9g_11ZOfIUSI"
      },
      "cell_type": "markdown",
      "source": [
        "## EDA"
      ]
    },
    {
      "metadata": {
        "_kg_hide-input": true,
        "trusted": true,
        "_uuid": "1d5a8d6bb8c546dfd59cb323a3aefb2e21f089e3",
        "id": "MzBSPx2JIUSJ"
      },
      "cell_type": "code",
      "source": [
        "# Grouping data for EDA.\n",
        "gp_month_mean = train_monthly.groupby(['month'], as_index=False)['item_cnt'].mean()\n",
        "gp_month_sum = train_monthly.groupby(['month'], as_index=False)['item_cnt'].sum()\n",
        "gp_category_mean = train_monthly.groupby(['item_category_id'], as_index=False)['item_cnt'].mean()\n",
        "gp_category_sum = train_monthly.groupby(['item_category_id'], as_index=False)['item_cnt'].sum()\n",
        "gp_shop_mean = train_monthly.groupby(['shop_id'], as_index=False)['item_cnt'].mean()\n",
        "gp_shop_sum = train_monthly.groupby(['shop_id'], as_index=False)['item_cnt'].sum()"
      ],
      "execution_count": 25,
      "outputs": []
    },
    {
      "metadata": {
        "_uuid": "da01e74039e1387b6cdf4a1ace8ac9c8a1fe2f3a",
        "id": "_x32XkcDIUSK"
      },
      "cell_type": "markdown",
      "source": [
        "### How sales behaves along the year?"
      ]
    },
    {
      "metadata": {
        "_kg_hide-input": true,
        "trusted": true,
        "_uuid": "d17df33e559832a26514aa0598578cf4d780a783",
        "id": "5tO2C4dUIUSK",
        "colab": {
          "base_uri": "https://localhost:8080/",
          "height": 0
        },
        "outputId": "a60d0a5c-af3f-4422-f222-ee1c75de09c6"
      },
      "cell_type": "code",
      "source": [
        "f, axes = plt.subplots(2, 1, figsize=(22, 10), sharex=True)\n",
        "sns.lineplot(x=\"month\", y=\"item_cnt\", data=gp_month_mean, ax=axes[0]).set_title(\"Monthly mean\")\n",
        "sns.lineplot(x=\"month\", y=\"item_cnt\", data=gp_month_sum, ax=axes[1]).set_title(\"Monthly sum\")\n",
        "plt.show()"
      ],
      "execution_count": 26,
      "outputs": [
        {
          "output_type": "display_data",
          "data": {
            "text/plain": [
              "<Figure size 1584x720 with 2 Axes>"
            ],
            "image/png": "[encoded data removed]"
          },
          "metadata": {}
        }
      ]
    },
    {
      "metadata": {
        "_uuid": "62d85d98651690f0f9905bbbee1cef1cb445467d",
        "id": "3WLFFY98IUSK"
      },
      "cell_type": "markdown",
      "source": [
        "As we can see we have a trending increase of item sales count (mean) towards the ending of the year."
      ]
    },
    {
      "metadata": {
        "_uuid": "edc8f8451e7ffaa4f3da558749e871e2b2ef4a53",
        "id": "7_k3egrdIUSK"
      },
      "cell_type": "markdown",
      "source": [
        "### What category sells more?"
      ]
    },
    {
      "metadata": {
        "_kg_hide-input": true,
        "trusted": true,
        "_uuid": "bc17569ef37ca05d8095ed3c2497fad1d12fc7d2",
        "id": "A8v96cCWIUSL",
        "colab": {
          "base_uri": "https://localhost:8080/",
          "height": 0
        },
        "outputId": "9383b71f-422e-4bb5-9e6b-4830d61a4dd5"
      },
      "cell_type": "code",
      "source": [
        "f, axes = plt.subplots(2, 1, figsize=(22, 10), sharex=True)\n",
        "sns.barplot(x=\"item_category_id\", y=\"item_cnt\", data=gp_category_mean, ax=axes[0], palette=\"rocket\").set_title(\"Monthly mean\")\n",
        "sns.barplot(x=\"item_category_id\", y=\"item_cnt\", data=gp_category_sum, ax=axes[1], palette=\"rocket\").set_title(\"Monthly sum\")\n",
        "plt.show()"
      ],
      "execution_count": 27,
      "outputs": [
        {
          "output_type": "display_data",
          "data": {
            "text/plain": [
              "<Figure size 1584x720 with 2 Axes>"
            ],
            "image/png": "[encoded data removed]"
          },
          "metadata": {}
        }
      ]
    },
    {
      "metadata": {
        "_uuid": "c66c0208451f565f8bcc889aaaf2ef63a663e310",
        "id": "nD6eAKXZIUSL"
      },
      "cell_type": "markdown",
      "source": [
        "Also only few of the categories seems to hold most of the sell count."
      ]
    },
    {
      "metadata": {
        "_uuid": "f40b9c8d09d4406657d6a5fd632f6faf80560934",
        "id": "w4Ye2XTtIUSL"
      },
      "cell_type": "markdown",
      "source": [
        "### What shop sells more?"
      ]
    },
    {
      "metadata": {
        "_kg_hide-input": true,
        "trusted": true,
        "_uuid": "e3697d0b3f72ffd76c4e980fc0e4eda7c56e551a",
        "id": "BmjBskYYIUSM",
        "colab": {
          "base_uri": "https://localhost:8080/",
          "height": 0
        },
        "outputId": "11105438-29c5-4904-8f6d-38b6045ebeab"
      },
      "cell_type": "code",
      "source": [
        "f, axes = plt.subplots(2, 1, figsize=(22, 10), sharex=True)\n",
        "sns.barplot(x=\"shop_id\", y=\"item_cnt\", data=gp_shop_mean, ax=axes[0], palette=\"rocket\").set_title(\"Monthly mean\")\n",
        "sns.barplot(x=\"shop_id\", y=\"item_cnt\", data=gp_shop_sum, ax=axes[1], palette=\"rocket\").set_title(\"Monthly sum\")\n",
        "plt.show()"
      ],
      "execution_count": 28,
      "outputs": [
        {
          "output_type": "display_data",
          "data": {
            "text/plain": [
              "<Figure size 1584x720 with 2 Axes>"
            ],
            "image/png": "[encoded data removed]"
          },
          "metadata": {}
        }
      ]
    },
    {
      "metadata": {
        "_uuid": "27f8b2a14c4a629fbf8d00378df36c61f0dab6f7",
        "id": "qkN83dJQIUSM"
      },
      "cell_type": "markdown",
      "source": [
        "Most of the shops have a similar sell rate, but 3 of them have a much higher rate, this may be a indicative of the shop size."
      ]
    },
    {
      "metadata": {
        "_uuid": "b0197e0bd9898b0a7c3861636708bda74311949f",
        "id": "_ukVcD_5IUSM"
      },
      "cell_type": "markdown",
      "source": [
        "### Checking for outliers"
      ]
    },
    {
      "metadata": {
        "_kg_hide-input": true,
        "trusted": true,
        "_uuid": "7ec1f1c8a32f994519982d975bf81120e0862adc",
        "id": "2p9r5lU3IUSM",
        "colab": {
          "base_uri": "https://localhost:8080/",
          "height": 0
        },
        "outputId": "64dad6eb-1cce-46ab-e4b4-71f6c53c482b"
      },
      "cell_type": "code",
      "source": [
        "sns.jointplot(x=\"item_cnt\", y=\"item_price\", data=train_monthly, height=8)\n",
        "plt.show()"
      ],
      "execution_count": 29,
      "outputs": [
        {
          "output_type": "display_data",
          "data": {
            "text/plain": [
              "<Figure size 576x576 with 3 Axes>"
            ],
            "image/png": "[encoded data removed]"
          },
          "metadata": {}
        }
      ]
    },
    {
      "metadata": {
        "_kg_hide-input": true,
        "trusted": true,
        "_uuid": "a195281a43adca4c46eb802e49ee964468da8e95",
        "id": "-W5CnIOIIUSQ",
        "colab": {
          "base_uri": "https://localhost:8080/",
          "height": 0
        },
        "outputId": "d0dbdcf7-2bbb-4039-c86a-26aa4b15e0e5"
      },
      "cell_type": "code",
      "source": [
        "sns.jointplot(x=\"item_cnt\", y=\"transactions\", data=train_monthly, height=8)\n",
        "plt.show()"
      ],
      "execution_count": 30,
      "outputs": [
        {
          "output_type": "display_data",
          "data": {
            "text/plain": [
              "<Figure size 576x576 with 3 Axes>"
            ],
            "image/png": "[encoded data removed]"
          },
          "metadata": {}
        }
      ]
    },
    {
      "metadata": {
        "_uuid": "1c68744022333cb0b0aac42c3f173eca4a40c1d2",
        "id": "TRsa2BIpIUSS"
      },
      "cell_type": "markdown",
      "source": [
        "### Feature \"item_cnt\" distribution."
      ]
    },
    {
      "metadata": {
        "trusted": true,
        "_uuid": "22dc755fb7984aa016def26c104a1a7b24c2ed08",
        "_kg_hide-input": true,
        "id": "vH_LpLHfIUSS",
        "colab": {
          "base_uri": "https://localhost:8080/",
          "height": 0
        },
        "outputId": "e8d854e3-0065-4728-e8d0-ab17506edc55"
      },
      "cell_type": "code",
      "source": [
        "plt.subplots(figsize=(22, 8))\n",
        "sns.boxplot(train_monthly['item_cnt'])\n",
        "plt.show()"
      ],
      "execution_count": 31,
      "outputs": [
        {
          "output_type": "display_data",
          "data": {
            "text/plain": [
              "<Figure size 1584x576 with 1 Axes>"
            ],
            "image/png": "[encoded data removed]"
          },
          "metadata": {}
        }
      ]
    },
    {
      "metadata": {
        "_uuid": "a1c36960fcfc7ba663d2d7b95af4a1d5b5d0326b",
        "id": "7ylmmKZiIUST"
      },
      "cell_type": "markdown",
      "source": [
        "#### Removing outliers\n",
        "I'll treat \"item_cnt\" > 20 and < 0, \"item_price\" >= 400000 as outliers, so I'll remove them."
      ]
    },
    {
      "metadata": {
        "trusted": true,
        "_uuid": "5d4f1ba256e10cca24bbf1f62fc504809cf40871",
        "id": "XHWT7MWXIUST"
      },
      "cell_type": "code",
      "source": [
        "train_monthly = train_monthly.query('item_cnt >= 0 and item_cnt <= 20 and item_price < 400000')"
      ],
      "execution_count": 32,
      "outputs": []
    },
    {
      "metadata": {
        "_uuid": "84c6a22589ec31a2283140c23a747c179d6694a5",
        "id": "Tb8pOsKHIUST"
      },
      "cell_type": "markdown",
      "source": [
        "### Creating the label\n",
        "Our label will be the \"item_cnt\" of the next month, as we are dealing with a forecast problem."
      ]
    },
    {
      "metadata": {
        "trusted": true,
        "_uuid": "e790012087340e3fbf72c10ffa953255528d1a52",
        "id": "qnSXOog3IUSU"
      },
      "cell_type": "code",
      "source": [
        "train_monthly['item_cnt_month'] = train_monthly.sort_values('date_block_num').groupby(['shop_id', 'item_id'])['item_cnt'].shift(-1)"
      ],
      "execution_count": 33,
      "outputs": []
    },
    {
      "metadata": {
        "_cell_guid": "79c7e3d0-c299-4dcb-8224-4455121ee9b0",
        "collapsed": true,
        "_uuid": "d629ff2d2480ee46fbb7e2d37f6b5fab8052498a",
        "trusted": false,
        "id": "KHxmgbwIIUSU"
      },
      "cell_type": "markdown",
      "source": [
        "## Feature engineering"
      ]
    },
    {
      "cell_type": "markdown",
      "source": [
        "#### Unitary item prices"
      ],
      "metadata": {
        "id": "PAXro8TBZPBZ"
      }
    },
    {
      "metadata": {
        "trusted": true,
        "_uuid": "b49cf1f316bd467149fe948482210cc474edf8ff",
        "id": "saqNWzHGIUSU"
      },
      "cell_type": "code",
      "source": [
        "train_monthly['item_price_unit'] = train_monthly['item_price'] // train_monthly['item_cnt']\n",
        "train_monthly['item_price_unit'].fillna(0, inplace=True)"
      ],
      "execution_count": 34,
      "outputs": []
    },
    {
      "metadata": {
        "_uuid": "cc85cb53741fb9efe03de4573f15674f7e01868a",
        "id": "j8yHibelIUSV"
      },
      "cell_type": "markdown",
      "source": [
        "#### Group based features."
      ]
    },
    {
      "metadata": {
        "trusted": true,
        "_uuid": "f4d3a338b82b6a0a4f00f8c46af98d43c41bf6cf",
        "id": "3eEfRTqWIUSV"
      },
      "cell_type": "code",
      "source": [
        "gp_item_price = train_monthly.sort_values('date_block_num').groupby(['item_id'], as_index=False).agg({'item_price':[np.min, np.max]})\n",
        "gp_item_price.columns = ['item_id', 'hist_min_item_price', 'hist_max_item_price']\n",
        "\n",
        "train_monthly = pd.merge(train_monthly, gp_item_price, on='item_id', how='left')"
      ],
      "execution_count": 35,
      "outputs": []
    },
    {
      "metadata": {
        "_uuid": "0450d445b6d973b3716967d761f884990991afad",
        "id": "GrtcQ-aRIUSV"
      },
      "cell_type": "markdown",
      "source": [
        "#### How much each item's price changed from its (lowest/highest) historical price."
      ]
    },
    {
      "metadata": {
        "trusted": true,
        "_uuid": "b884111dcc00cf448f08f989ae6952bfd86af9ac",
        "id": "mO8KxdBhIUSV"
      },
      "cell_type": "code",
      "source": [
        "train_monthly['price_increase'] = train_monthly['item_price'] - train_monthly['hist_min_item_price']\n",
        "train_monthly['price_decrease'] = train_monthly['hist_max_item_price'] - train_monthly['item_price']"
      ],
      "execution_count": 36,
      "outputs": []
    },
    {
      "metadata": {
        "_uuid": "e90df0bcb5588dbf252f2aaf2b3135963d187f85",
        "id": "kYVTjKluIUSV"
      },
      "cell_type": "markdown",
      "source": [
        "#### Rolling window based features (window = 3 months)."
      ]
    },
    {
      "metadata": {
        "trusted": true,
        "_uuid": "c1763430ebcdade655aad80f16cc114d6b64c5fb",
        "id": "QL89M28XIUSW"
      },
      "cell_type": "code",
      "source": [
        "# Min value\n",
        "f_min = lambda x: x.rolling(window=3, min_periods=1).min()\n",
        "# Max value\n",
        "f_max = lambda x: x.rolling(window=3, min_periods=1).max()\n",
        "# Mean value\n",
        "f_mean = lambda x: x.rolling(window=3, min_periods=1).mean()\n",
        "# Standard deviation\n",
        "f_std = lambda x: x.rolling(window=3, min_periods=1).std()\n",
        "\n",
        "function_list = [f_min, f_max, f_mean, f_std]\n",
        "function_name = ['min', 'max', 'mean', 'std']\n",
        "\n",
        "for i in range(len(function_list)):\n",
        "    train_monthly[('item_cnt_%s' % function_name[i])] = train_monthly.sort_values('date_block_num').groupby(['shop_id', 'item_category_id', 'item_id'])['item_cnt'].apply(function_list[i])\n",
        "\n",
        "# Fill the empty std features with 0\n",
        "train_monthly['item_cnt_std'].fillna(0, inplace=True)"
      ],
      "execution_count": 37,
      "outputs": []
    },
    {
      "metadata": {
        "_uuid": "14fd3a220a05de5563597c7d2efd21309e03dd34",
        "id": "scPuMZjVIUSW"
      },
      "cell_type": "markdown",
      "source": [
        "#### Lag based features."
      ]
    },
    {
      "metadata": {
        "trusted": true,
        "_uuid": "8660a0955ffc6f51d1769a30606ffca78792dc7e",
        "id": "FmcjOaEfIUSW"
      },
      "cell_type": "code",
      "source": [
        "lag_list = [1, 2, 3]\n",
        "\n",
        "for lag in lag_list:\n",
        "    ft_name = ('item_cnt_shifted%s' % lag)\n",
        "    train_monthly[ft_name] = train_monthly.sort_values('date_block_num').groupby(['shop_id', 'item_category_id', 'item_id'])['item_cnt'].shift(lag)\n",
        "    # Fill the empty shifted features with 0\n",
        "    train_monthly[ft_name].fillna(0, inplace=True)"
      ],
      "execution_count": 38,
      "outputs": []
    },
    {
      "metadata": {
        "_uuid": "67d5a74531a16b50093d49c9093aa918854664ed",
        "id": "OFWAjEDzIUSX"
      },
      "cell_type": "markdown",
      "source": [
        "#### Item sales count trend."
      ]
    },
    {
      "metadata": {
        "trusted": true,
        "_uuid": "0217e8b8ec14a43f733d241d2104ad411b965944",
        "id": "h2TdgYspIUSX"
      },
      "cell_type": "code",
      "source": [
        "train_monthly['item_trend'] = train_monthly['item_cnt']\n",
        "\n",
        "for lag in lag_list:\n",
        "    ft_name = ('item_cnt_shifted%s' % lag)\n",
        "    train_monthly['item_trend'] -= train_monthly[ft_name]\n",
        "\n",
        "train_monthly['item_trend'] /= len(lag_list) + 1"
      ],
      "execution_count": 39,
      "outputs": []
    },
    {
      "metadata": {
        "_uuid": "a440f63fc8e5e203f6a421d7863f39a85da75fc9",
        "id": "FvPD4e92IUSX"
      },
      "cell_type": "markdown",
      "source": [
        "### Dataset after feature engineering"
      ]
    },
    {
      "metadata": {
        "trusted": true,
        "_uuid": "f86a1a03e9df91f0ae526e7f1b3794a73e605657",
        "scrolled": true,
        "_kg_hide-input": true,
        "id": "Ud-J9NbYIUSX",
        "colab": {
          "base_uri": "https://localhost:8080/",
          "height": 831
        },
        "outputId": "29df34b4-3794-4ca3-f29e-a4e3840fbe37"
      },
      "cell_type": "code",
      "source": [
        "train_monthly.head().T"
      ],
      "execution_count": 40,
      "outputs": [
        {
          "output_type": "execute_result",
          "data": {
            "text/plain": [
              "                           0        1       2        3        4\n",
              "date_block_num          0.00     0.00    0.00     0.00     0.00\n",
              "shop_id                 2.00     2.00    2.00     2.00     2.00\n",
              "item_id              5572.00  5643.00 5583.00  7893.00  7894.00\n",
              "item_category_id        2.00     2.00    5.00     6.00     6.00\n",
              "item_price          10730.00  4775.21 1188.30  5970.00  1490.00\n",
              "mean_item_price      1532.86  2387.60  594.15  1990.00  1490.00\n",
              "item_cnt                9.00     0.00    2.00     3.00     1.00\n",
              "mean_item_cnt           1.29     0.00    1.00     1.00     1.00\n",
              "transactions            7.00     2.00    2.00     3.00     1.00\n",
              "year                 2013.00  2013.00 2013.00  2013.00  2013.00\n",
              "month                   0.00     0.00    0.00     0.00     0.00\n",
              "item_cnt_month          1.00     0.00    1.00     2.00     2.00\n",
              "item_price_unit      1192.00      inf  594.00  1990.00  1490.00\n",
              "hist_min_item_price     0.00     0.00    0.00     0.00     0.00\n",
              "hist_max_item_price 18979.50 35260.00 5592.00 27950.00 25880.00\n",
              "price_increase      10730.00  4775.21 1188.30  5970.00  1490.00\n",
              "price_decrease       8249.50 30484.79 4403.70 21980.00 24390.00\n",
              "item_cnt_min            9.00     0.00    2.00     3.00     1.00\n",
              "item_cnt_max            9.00     0.00    2.00     3.00     1.00\n",
              "item_cnt_mean           9.00     0.00    2.00     3.00     1.00\n",
              "item_cnt_std            0.00     0.00    0.00     0.00     0.00\n",
              "item_cnt_shifted1       0.00     0.00    0.00     0.00     0.00\n",
              "item_cnt_shifted2       0.00     0.00    0.00     0.00     0.00\n",
              "item_cnt_shifted3       0.00     0.00    0.00     0.00     0.00\n",
              "item_trend              2.25     0.00    0.50     0.75     0.25"
            ],
            "text/html": [
              "\n",
              "  <div id=\"df-80c68d67-133d-4dd5-9cfa-62ee0bcf82d2\">\n",
              "    <div class=\"colab-df-container\">\n",
              "      <div>\n",
              "<style scoped>\n",
              "    .dataframe tbody tr th:only-of-type {\n",
              "        vertical-align: middle;\n",
              "    }\n",
              "\n",
              "    .dataframe tbody tr th {\n",
              "        vertical-align: top;\n",
              "    }\n",
              "\n",
              "    .dataframe thead th {\n",
              "        text-align: right;\n",
              "    }\n",
              "</style>\n",
              "<table border=\"1\" class=\"dataframe\">\n",
              "  <thead>\n",
              "    <tr style=\"text-align: right;\">\n",
              "      <th></th>\n",
              "      <th>0</th>\n",
              "      <th>1</th>\n",
              "      <th>2</th>\n",
              "      <th>3</th>\n",
              "      <th>4</th>\n",
              "    </tr>\n",
              "  </thead>\n",
              "  <tbody>\n",
              "    <tr>\n",
              "      <th>date_block_num</th>\n",
              "      <td>0.00</td>\n",
              "      <td>0.00</td>\n",
              "      <td>0.00</td>\n",
              "      <td>0.00</td>\n",
              "      <td>0.00</td>\n",
              "    </tr>\n",
              "    <tr>\n",
              "      <th>shop_id</th>\n",
              "      <td>2.00</td>\n",
              "      <td>2.00</td>\n",
              "      <td>2.00</td>\n",
              "      <td>2.00</td>\n",
              "      <td>2.00</td>\n",
              "    </tr>\n",
              "    <tr>\n",
              "      <th>item_id</th>\n",
              "      <td>5572.00</td>\n",
              "      <td>5643.00</td>\n",
              "      <td>5583.00</td>\n",
              "      <td>7893.00</td>\n",
              "      <td>7894.00</td>\n",
              "    </tr>\n",
              "    <tr>\n",
              "      <th>item_category_id</th>\n",
              "      <td>2.00</td>\n",
              "      <td>2.00</td>\n",
              "      <td>5.00</td>\n",
              "      <td>6.00</td>\n",
              "      <td>6.00</td>\n",
              "    </tr>\n",
              "    <tr>\n",
              "      <th>item_price</th>\n",
              "      <td>10730.00</td>\n",
              "      <td>4775.21</td>\n",
              "      <td>1188.30</td>\n",
              "      <td>5970.00</td>\n",
              "      <td>1490.00</td>\n",
              "    </tr>\n",
              "    <tr>\n",
              "      <th>mean_item_price</th>\n",
              "      <td>1532.86</td>\n",
              "      <td>2387.60</td>\n",
              "      <td>594.15</td>\n",
              "      <td>1990.00</td>\n",
              "      <td>1490.00</td>\n",
              "    </tr>\n",
              "    <tr>\n",
              "      <th>item_cnt</th>\n",
              "      <td>9.00</td>\n",
              "      <td>0.00</td>\n",
              "      <td>2.00</td>\n",
              "      <td>3.00</td>\n",
              "      <td>1.00</td>\n",
              "    </tr>\n",
              "    <tr>\n",
              "      <th>mean_item_cnt</th>\n",
              "      <td>1.29</td>\n",
              "      <td>0.00</td>\n",
              "      <td>1.00</td>\n",
              "      <td>1.00</td>\n",
              "      <td>1.00</td>\n",
              "    </tr>\n",
              "    <tr>\n",
              "      <th>transactions</th>\n",
              "      <td>7.00</td>\n",
              "      <td>2.00</td>\n",
              "      <td>2.00</td>\n",
              "      <td>3.00</td>\n",
              "      <td>1.00</td>\n",
              "    </tr>\n",
              "    <tr>\n",
              "      <th>year</th>\n",
              "      <td>2013.00</td>\n",
              "      <td>2013.00</td>\n",
              "      <td>2013.00</td>\n",
              "      <td>2013.00</td>\n",
              "      <td>2013.00</td>\n",
              "    </tr>\n",
              "    <tr>\n",
              "      <th>month</th>\n",
              "      <td>0.00</td>\n",
              "      <td>0.00</td>\n",
              "      <td>0.00</td>\n",
              "      <td>0.00</td>\n",
              "      <td>0.00</td>\n",
              "    </tr>\n",
              "    <tr>\n",
              "      <th>item_cnt_month</th>\n",
              "      <td>1.00</td>\n",
              "      <td>0.00</td>\n",
              "      <td>1.00</td>\n",
              "      <td>2.00</td>\n",
              "      <td>2.00</td>\n",
              "    </tr>\n",
              "    <tr>\n",
              "      <th>item_price_unit</th>\n",
              "      <td>1192.00</td>\n",
              "      <td>inf</td>\n",
              "      <td>594.00</td>\n",
              "      <td>1990.00</td>\n",
              "      <td>1490.00</td>\n",
              "    </tr>\n",
              "    <tr>\n",
              "      <th>hist_min_item_price</th>\n",
              "      <td>0.00</td>\n",
              "      <td>0.00</td>\n",
              "      <td>0.00</td>\n",
              "      <td>0.00</td>\n",
              "      <td>0.00</td>\n",
              "    </tr>\n",
              "    <tr>\n",
              "      <th>hist_max_item_price</th>\n",
              "      <td>18979.50</td>\n",
              "      <td>35260.00</td>\n",
              "      <td>5592.00</td>\n",
              "      <td>27950.00</td>\n",
              "      <td>25880.00</td>\n",
              "    </tr>\n",
              "    <tr>\n",
              "      <th>price_increase</th>\n",
              "      <td>10730.00</td>\n",
              "      <td>4775.21</td>\n",
              "      <td>1188.30</td>\n",
              "      <td>5970.00</td>\n",
              "      <td>1490.00</td>\n",
              "    </tr>\n",
              "    <tr>\n",
              "      <th>price_decrease</th>\n",
              "      <td>8249.50</td>\n",
              "      <td>30484.79</td>\n",
              "      <td>4403.70</td>\n",
              "      <td>21980.00</td>\n",
              "      <td>24390.00</td>\n",
              "    </tr>\n",
              "    <tr>\n",
              "      <th>item_cnt_min</th>\n",
              "      <td>9.00</td>\n",
              "      <td>0.00</td>\n",
              "      <td>2.00</td>\n",
              "      <td>3.00</td>\n",
              "      <td>1.00</td>\n",
              "    </tr>\n",
              "    <tr>\n",
              "      <th>item_cnt_max</th>\n",
              "      <td>9.00</td>\n",
              "      <td>0.00</td>\n",
              "      <td>2.00</td>\n",
              "      <td>3.00</td>\n",
              "      <td>1.00</td>\n",
              "    </tr>\n",
              "    <tr>\n",
              "      <th>item_cnt_mean</th>\n",
              "      <td>9.00</td>\n",
              "      <td>0.00</td>\n",
              "      <td>2.00</td>\n",
              "      <td>3.00</td>\n",
              "      <td>1.00</td>\n",
              "    </tr>\n",
              "    <tr>\n",
              "      <th>item_cnt_std</th>\n",
              "      <td>0.00</td>\n",
              "      <td>0.00</td>\n",
              "      <td>0.00</td>\n",
              "      <td>0.00</td>\n",
              "      <td>0.00</td>\n",
              "    </tr>\n",
              "    <tr>\n",
              "      <th>item_cnt_shifted1</th>\n",
              "      <td>0.00</td>\n",
              "      <td>0.00</td>\n",
              "      <td>0.00</td>\n",
              "      <td>0.00</td>\n",
              "      <td>0.00</td>\n",
              "    </tr>\n",
              "    <tr>\n",
              "      <th>item_cnt_shifted2</th>\n",
              "      <td>0.00</td>\n",
              "      <td>0.00</td>\n",
              "      <td>0.00</td>\n",
              "      <td>0.00</td>\n",
              "      <td>0.00</td>\n",
              "    </tr>\n",
              "    <tr>\n",
              "      <th>item_cnt_shifted3</th>\n",
              "      <td>0.00</td>\n",
              "      <td>0.00</td>\n",
              "      <td>0.00</td>\n",
              "      <td>0.00</td>\n",
              "      <td>0.00</td>\n",
              "    </tr>\n",
              "    <tr>\n",
              "      <th>item_trend</th>\n",
              "      <td>2.25</td>\n",
              "      <td>0.00</td>\n",
              "      <td>0.50</td>\n",
              "      <td>0.75</td>\n",
              "      <td>0.25</td>\n",
              "    </tr>\n",
              "  </tbody>\n",
              "</table>\n",
              "</div>\n",
              "      <button class=\"colab-df-convert\" onclick=\"convertToInteractive('df-80c68d67-133d-4dd5-9cfa-62ee0bcf82d2')\"\n",
              "              title=\"Convert this dataframe to an interactive table.\"\n",
              "              style=\"display:none;\">\n",
              "        \n",
              "  <svg xmlns=\"http://www.w3.org/2000/svg\" height=\"24px\"viewBox=\"0 0 24 24\"\n",
              "       width=\"24px\">\n",
              "    <path d=\"M0 0h24v24H0V0z\" fill=\"none\"/>\n",
              "    <path d=\"M18.56 5.44l.94 2.06.94-2.06 2.06-.94-2.06-.94-.94-2.06-.94 2.06-2.06.94zm-11 1L8.5 8.5l.94-2.06 2.06-.94-2.06-.94L8.5 2.5l-.94 2.06-2.06.94zm10 10l.94 2.06.94-2.06 2.06-.94-2.06-.94-.94-2.06-.94 2.06-2.06.94z\"/><path d=\"M17.41 7.96l-1.37-1.37c-.4-.4-.92-.59-1.43-.59-.52 0-1.04.2-1.43.59L10.3 9.45l-7.72 7.72c-.78.78-.78 2.05 0 2.83L4 21.41c.39.39.9.59 1.41.59.51 0 1.02-.2 1.41-.59l7.78-7.78 2.81-2.81c.8-.78.8-2.07 0-2.86zM5.41 20L4 18.59l7.72-7.72 1.47 1.35L5.41 20z\"/>\n",
              "  </svg>\n",
              "      </button>\n",
              "      \n",
              "  <style>\n",
              "    .colab-df-container {\n",
              "      display:flex;\n",
              "      flex-wrap:wrap;\n",
              "      gap: 12px;\n",
              "    }\n",
              "\n",
              "    .colab-df-convert {\n",
              "      background-color: #E8F0FE;\n",
              "      border: none;\n",
              "      border-radius: 50%;\n",
              "      cursor: pointer;\n",
              "      display: none;\n",
              "      fill: #1967D2;\n",
              "      height: 32px;\n",
              "      padding: 0 0 0 0;\n",
              "      width: 32px;\n",
              "    }\n",
              "\n",
              "    .colab-df-convert:hover {\n",
              "      background-color: #E2EBFA;\n",
              "      box-shadow: 0px 1px 2px rgba(60, 64, 67, 0.3), 0px 1px 3px 1px rgba(60, 64, 67, 0.15);\n",
              "      fill: #174EA6;\n",
              "    }\n",
              "\n",
              "    [theme=dark] .colab-df-convert {\n",
              "      background-color: #3B4455;\n",
              "      fill: #D2E3FC;\n",
              "    }\n",
              "\n",
              "    [theme=dark] .colab-df-convert:hover {\n",
              "      background-color: #434B5C;\n",
              "      box-shadow: 0px 1px 3px 1px rgba(0, 0, 0, 0.15);\n",
              "      filter: drop-shadow(0px 1px 2px rgba(0, 0, 0, 0.3));\n",
              "      fill: #FFFFFF;\n",
              "    }\n",
              "  </style>\n",
              "\n",
              "      <script>\n",
              "        const buttonEl =\n",
              "          document.querySelector('#df-80c68d67-133d-4dd5-9cfa-62ee0bcf82d2 button.colab-df-convert');\n",
              "        buttonEl.style.display =\n",
              "          google.colab.kernel.accessAllowed ? 'block' : 'none';\n",
              "\n",
              "        async function convertToInteractive(key) {\n",
              "          const element = document.querySelector('#df-80c68d67-133d-4dd5-9cfa-62ee0bcf82d2');\n",
              "          const dataTable =\n",
              "            await google.colab.kernel.invokeFunction('convertToInteractive',\n",
              "                                                     [key], {});\n",
              "          if (!dataTable) return;\n",
              "\n",
              "          const docLinkHtml = 'Like what you see? Visit the ' +\n",
              "            '<a target=\"_blank\" href=https://colab.research.google.com/notebooks/data_table.ipynb>data table notebook</a>'\n",
              "            + ' to learn more about interactive tables.';\n",
              "          element.innerHTML = '';\n",
              "          dataTable['output_type'] = 'display_data';\n",
              "          await google.colab.output.renderOutput(dataTable, element);\n",
              "          const docLink = document.createElement('div');\n",
              "          docLink.innerHTML = docLinkHtml;\n",
              "          element.appendChild(docLink);\n",
              "        }\n",
              "      </script>\n",
              "    </div>\n",
              "  </div>\n",
              "  "
            ]
          },
          "metadata": {},
          "execution_count": 40
        }
      ]
    },
    {
      "metadata": {
        "_kg_hide-input": true,
        "trusted": true,
        "_uuid": "f1c265db6d6363b18c684002edeed7fae6407b9b",
        "id": "S8Z9osiKIUSY",
        "colab": {
          "base_uri": "https://localhost:8080/",
          "height": 895
        },
        "outputId": "0b07a4bc-b26a-4992-f1d1-83fa3856cb36"
      },
      "cell_type": "code",
      "source": [
        "train_monthly.describe().T"
      ],
      "execution_count": 41,
      "outputs": [
        {
          "output_type": "execute_result",
          "data": {
            "text/plain": [
              "                         count     mean      std     min     25%      50%  \\\n",
              "date_block_num      6728118.00    16.50     9.81    0.00    8.00    16.00   \n",
              "shop_id             6728118.00    31.64    17.56    2.00   16.00    35.00   \n",
              "item_id             6728118.00 11042.87  6209.70   30.00 5386.00 11266.00   \n",
              "item_category_id    6728118.00     3.75    13.16    0.00    0.00     0.00   \n",
              "item_price          6728118.00   169.80  1797.75    0.00    0.00     0.00   \n",
              "mean_item_price     6728118.00    79.82   525.62    0.00    0.00     0.00   \n",
              "item_cnt            6728118.00     0.19     0.91    0.00    0.00     0.00   \n",
              "mean_item_cnt       6728118.00     0.09     0.31    0.00    0.00     0.00   \n",
              "transactions        6728118.00     0.17     0.74    0.00    0.00     0.00   \n",
              "year                6728118.00  2013.94     0.80 2013.00 2013.00  2014.00   \n",
              "month               6728118.00     5.21     3.32    0.00    2.00     5.00   \n",
              "item_cnt_month      6530047.00     0.19     0.91    0.00    0.00     0.00   \n",
              "item_price_unit     6728118.00      inf      NaN    0.00    0.00     0.00   \n",
              "hist_min_item_price 6728118.00     0.00     0.00    0.00    0.00     0.00   \n",
              "hist_max_item_price 6728118.00  5620.10 11684.60    0.00 1043.00  2408.00   \n",
              "price_increase      6728118.00   169.80  1797.75    0.00    0.00     0.00   \n",
              "price_decrease      6728118.00  5450.30 11194.84    0.00  999.00  2396.00   \n",
              "item_cnt_min        6728118.00     0.14     0.69    0.00    0.00     0.00   \n",
              "item_cnt_max        6728118.00     0.26     1.25    0.00    0.00     0.00   \n",
              "item_cnt_mean       6728118.00     0.20     0.92    0.00    0.00     0.00   \n",
              "item_cnt_std        6728118.00     0.07     0.44    0.00    0.00     0.00   \n",
              "item_cnt_shifted1   6728118.00     0.16     0.88    0.00    0.00     0.00   \n",
              "item_cnt_shifted2   6728118.00     0.14     0.85    0.00    0.00     0.00   \n",
              "item_cnt_shifted3   6728118.00     0.13     0.82    0.00    0.00     0.00   \n",
              "item_trend          6728118.00    -0.06     0.44  -12.50    0.00     0.00   \n",
              "\n",
              "                         75%       max  \n",
              "date_block_num         25.00     33.00  \n",
              "shop_id                47.00     59.00  \n",
              "item_id             16068.00  22167.00  \n",
              "item_category_id        0.00     83.00  \n",
              "item_price              0.00 366860.00  \n",
              "mean_item_price         0.00  42990.00  \n",
              "item_cnt                0.00     20.00  \n",
              "mean_item_cnt           0.00     20.00  \n",
              "transactions            0.00     19.00  \n",
              "year                 2015.00   2015.00  \n",
              "month                   8.00     11.00  \n",
              "item_cnt_month          0.00     20.00  \n",
              "item_price_unit         0.00       inf  \n",
              "hist_min_item_price     0.00      0.00  \n",
              "hist_max_item_price  5592.00 366860.00  \n",
              "price_increase          0.00 366860.00  \n",
              "price_decrease       5490.00 366860.00  \n",
              "item_cnt_min            0.00     20.00  \n",
              "item_cnt_max            0.00     20.00  \n",
              "item_cnt_mean           0.00     20.00  \n",
              "item_cnt_std            0.00     13.44  \n",
              "item_cnt_shifted1       0.00     20.00  \n",
              "item_cnt_shifted2       0.00     20.00  \n",
              "item_cnt_shifted3       0.00     20.00  \n",
              "item_trend              0.00      5.00  "
            ],
            "text/html": [
              "\n",
              "  <div id=\"df-f951743c-1fbc-4534-96b6-1c2a103d8b15\">\n",
              "    <div class=\"colab-df-container\">\n",
              "      <div>\n",
              "<style scoped>\n",
              "    .dataframe tbody tr th:only-of-type {\n",
              "        vertical-align: middle;\n",
              "    }\n",
              "\n",
              "    .dataframe tbody tr th {\n",
              "        vertical-align: top;\n",
              "    }\n",
              "\n",
              "    .dataframe thead th {\n",
              "        text-align: right;\n",
              "    }\n",
              "</style>\n",
              "<table border=\"1\" class=\"dataframe\">\n",
              "  <thead>\n",
              "    <tr style=\"text-align: right;\">\n",
              "      <th></th>\n",
              "      <th>count</th>\n",
              "      <th>mean</th>\n",
              "      <th>std</th>\n",
              "      <th>min</th>\n",
              "      <th>25%</th>\n",
              "      <th>50%</th>\n",
              "      <th>75%</th>\n",
              "      <th>max</th>\n",
              "    </tr>\n",
              "  </thead>\n",
              "  <tbody>\n",
              "    <tr>\n",
              "      <th>date_block_num</th>\n",
              "      <td>6728118.00</td>\n",
              "      <td>16.50</td>\n",
              "      <td>9.81</td>\n",
              "      <td>0.00</td>\n",
              "      <td>8.00</td>\n",
              "      <td>16.00</td>\n",
              "      <td>25.00</td>\n",
              "      <td>33.00</td>\n",
              "    </tr>\n",
              "    <tr>\n",
              "      <th>shop_id</th>\n",
              "      <td>6728118.00</td>\n",
              "      <td>31.64</td>\n",
              "      <td>17.56</td>\n",
              "      <td>2.00</td>\n",
              "      <td>16.00</td>\n",
              "      <td>35.00</td>\n",
              "      <td>47.00</td>\n",
              "      <td>59.00</td>\n",
              "    </tr>\n",
              "    <tr>\n",
              "      <th>item_id</th>\n",
              "      <td>6728118.00</td>\n",
              "      <td>11042.87</td>\n",
              "      <td>6209.70</td>\n",
              "      <td>30.00</td>\n",
              "      <td>5386.00</td>\n",
              "      <td>11266.00</td>\n",
              "      <td>16068.00</td>\n",
              "      <td>22167.00</td>\n",
              "    </tr>\n",
              "    <tr>\n",
              "      <th>item_category_id</th>\n",
              "      <td>6728118.00</td>\n",
              "      <td>3.75</td>\n",
              "      <td>13.16</td>\n",
              "      <td>0.00</td>\n",
              "      <td>0.00</td>\n",
              "      <td>0.00</td>\n",
              "      <td>0.00</td>\n",
              "      <td>83.00</td>\n",
              "    </tr>\n",
              "    <tr>\n",
              "      <th>item_price</th>\n",
              "      <td>6728118.00</td>\n",
              "      <td>169.80</td>\n",
              "      <td>1797.75</td>\n",
              "      <td>0.00</td>\n",
              "      <td>0.00</td>\n",
              "      <td>0.00</td>\n",
              "      <td>0.00</td>\n",
              "      <td>366860.00</td>\n",
              "    </tr>\n",
              "    <tr>\n",
              "      <th>mean_item_price</th>\n",
              "      <td>6728118.00</td>\n",
              "      <td>79.82</td>\n",
              "      <td>525.62</td>\n",
              "      <td>0.00</td>\n",
              "      <td>0.00</td>\n",
              "      <td>0.00</td>\n",
              "      <td>0.00</td>\n",
              "      <td>42990.00</td>\n",
              "    </tr>\n",
              "    <tr>\n",
              "      <th>item_cnt</th>\n",
              "      <td>6728118.00</td>\n",
              "      <td>0.19</td>\n",
              "      <td>0.91</td>\n",
              "      <td>0.00</td>\n",
              "      <td>0.00</td>\n",
              "      <td>0.00</td>\n",
              "      <td>0.00</td>\n",
              "      <td>20.00</td>\n",
              "    </tr>\n",
              "    <tr>\n",
              "      <th>mean_item_cnt</th>\n",
              "      <td>6728118.00</td>\n",
              "      <td>0.09</td>\n",
              "      <td>0.31</td>\n",
              "      <td>0.00</td>\n",
              "      <td>0.00</td>\n",
              "      <td>0.00</td>\n",
              "      <td>0.00</td>\n",
              "      <td>20.00</td>\n",
              "    </tr>\n",
              "    <tr>\n",
              "      <th>transactions</th>\n",
              "      <td>6728118.00</td>\n",
              "      <td>0.17</td>\n",
              "      <td>0.74</td>\n",
              "      <td>0.00</td>\n",
              "      <td>0.00</td>\n",
              "      <td>0.00</td>\n",
              "      <td>0.00</td>\n",
              "      <td>19.00</td>\n",
              "    </tr>\n",
              "    <tr>\n",
              "      <th>year</th>\n",
              "      <td>6728118.00</td>\n",
              "      <td>2013.94</td>\n",
              "      <td>0.80</td>\n",
              "      <td>2013.00</td>\n",
              "      <td>2013.00</td>\n",
              "      <td>2014.00</td>\n",
              "      <td>2015.00</td>\n",
              "      <td>2015.00</td>\n",
              "    </tr>\n",
              "    <tr>\n",
              "      <th>month</th>\n",
              "      <td>6728118.00</td>\n",
              "      <td>5.21</td>\n",
              "      <td>3.32</td>\n",
              "      <td>0.00</td>\n",
              "      <td>2.00</td>\n",
              "      <td>5.00</td>\n",
              "      <td>8.00</td>\n",
              "      <td>11.00</td>\n",
              "    </tr>\n",
              "    <tr>\n",
              "      <th>item_cnt_month</th>\n",
              "      <td>6530047.00</td>\n",
              "      <td>0.19</td>\n",
              "      <td>0.91</td>\n",
              "      <td>0.00</td>\n",
              "      <td>0.00</td>\n",
              "      <td>0.00</td>\n",
              "      <td>0.00</td>\n",
              "      <td>20.00</td>\n",
              "    </tr>\n",
              "    <tr>\n",
              "      <th>item_price_unit</th>\n",
              "      <td>6728118.00</td>\n",
              "      <td>inf</td>\n",
              "      <td>NaN</td>\n",
              "      <td>0.00</td>\n",
              "      <td>0.00</td>\n",
              "      <td>0.00</td>\n",
              "      <td>0.00</td>\n",
              "      <td>inf</td>\n",
              "    </tr>\n",
              "    <tr>\n",
              "      <th>hist_min_item_price</th>\n",
              "      <td>6728118.00</td>\n",
              "      <td>0.00</td>\n",
              "      <td>0.00</td>\n",
              "      <td>0.00</td>\n",
              "      <td>0.00</td>\n",
              "      <td>0.00</td>\n",
              "      <td>0.00</td>\n",
              "      <td>0.00</td>\n",
              "    </tr>\n",
              "    <tr>\n",
              "      <th>hist_max_item_price</th>\n",
              "      <td>6728118.00</td>\n",
              "      <td>5620.10</td>\n",
              "      <td>11684.60</td>\n",
              "      <td>0.00</td>\n",
              "      <td>1043.00</td>\n",
              "      <td>2408.00</td>\n",
              "      <td>5592.00</td>\n",
              "      <td>366860.00</td>\n",
              "    </tr>\n",
              "    <tr>\n",
              "      <th>price_increase</th>\n",
              "      <td>6728118.00</td>\n",
              "      <td>169.80</td>\n",
              "      <td>1797.75</td>\n",
              "      <td>0.00</td>\n",
              "      <td>0.00</td>\n",
              "      <td>0.00</td>\n",
              "      <td>0.00</td>\n",
              "      <td>366860.00</td>\n",
              "    </tr>\n",
              "    <tr>\n",
              "      <th>price_decrease</th>\n",
              "      <td>6728118.00</td>\n",
              "      <td>5450.30</td>\n",
              "      <td>11194.84</td>\n",
              "      <td>0.00</td>\n",
              "      <td>999.00</td>\n",
              "      <td>2396.00</td>\n",
              "      <td>5490.00</td>\n",
              "      <td>366860.00</td>\n",
              "    </tr>\n",
              "    <tr>\n",
              "      <th>item_cnt_min</th>\n",
              "      <td>6728118.00</td>\n",
              "      <td>0.14</td>\n",
              "      <td>0.69</td>\n",
              "      <td>0.00</td>\n",
              "      <td>0.00</td>\n",
              "      <td>0.00</td>\n",
              "      <td>0.00</td>\n",
              "      <td>20.00</td>\n",
              "    </tr>\n",
              "    <tr>\n",
              "      <th>item_cnt_max</th>\n",
              "      <td>6728118.00</td>\n",
              "      <td>0.26</td>\n",
              "      <td>1.25</td>\n",
              "      <td>0.00</td>\n",
              "      <td>0.00</td>\n",
              "      <td>0.00</td>\n",
              "      <td>0.00</td>\n",
              "      <td>20.00</td>\n",
              "    </tr>\n",
              "    <tr>\n",
              "      <th>item_cnt_mean</th>\n",
              "      <td>6728118.00</td>\n",
              "      <td>0.20</td>\n",
              "      <td>0.92</td>\n",
              "      <td>0.00</td>\n",
              "      <td>0.00</td>\n",
              "      <td>0.00</td>\n",
              "      <td>0.00</td>\n",
              "      <td>20.00</td>\n",
              "    </tr>\n",
              "    <tr>\n",
              "      <th>item_cnt_std</th>\n",
              "      <td>6728118.00</td>\n",
              "      <td>0.07</td>\n",
              "      <td>0.44</td>\n",
              "      <td>0.00</td>\n",
              "      <td>0.00</td>\n",
              "      <td>0.00</td>\n",
              "      <td>0.00</td>\n",
              "      <td>13.44</td>\n",
              "    </tr>\n",
              "    <tr>\n",
              "      <th>item_cnt_shifted1</th>\n",
              "      <td>6728118.00</td>\n",
              "      <td>0.16</td>\n",
              "      <td>0.88</td>\n",
              "      <td>0.00</td>\n",
              "      <td>0.00</td>\n",
              "      <td>0.00</td>\n",
              "      <td>0.00</td>\n",
              "      <td>20.00</td>\n",
              "    </tr>\n",
              "    <tr>\n",
              "      <th>item_cnt_shifted2</th>\n",
              "      <td>6728118.00</td>\n",
              "      <td>0.14</td>\n",
              "      <td>0.85</td>\n",
              "      <td>0.00</td>\n",
              "      <td>0.00</td>\n",
              "      <td>0.00</td>\n",
              "      <td>0.00</td>\n",
              "      <td>20.00</td>\n",
              "    </tr>\n",
              "    <tr>\n",
              "      <th>item_cnt_shifted3</th>\n",
              "      <td>6728118.00</td>\n",
              "      <td>0.13</td>\n",
              "      <td>0.82</td>\n",
              "      <td>0.00</td>\n",
              "      <td>0.00</td>\n",
              "      <td>0.00</td>\n",
              "      <td>0.00</td>\n",
              "      <td>20.00</td>\n",
              "    </tr>\n",
              "    <tr>\n",
              "      <th>item_trend</th>\n",
              "      <td>6728118.00</td>\n",
              "      <td>-0.06</td>\n",
              "      <td>0.44</td>\n",
              "      <td>-12.50</td>\n",
              "      <td>0.00</td>\n",
              "      <td>0.00</td>\n",
              "      <td>0.00</td>\n",
              "      <td>5.00</td>\n",
              "    </tr>\n",
              "  </tbody>\n",
              "</table>\n",
              "</div>\n",
              "      <button class=\"colab-df-convert\" onclick=\"convertToInteractive('df-f951743c-1fbc-4534-96b6-1c2a103d8b15')\"\n",
              "              title=\"Convert this dataframe to an interactive table.\"\n",
              "              style=\"display:none;\">\n",
              "        \n",
              "  <svg xmlns=\"http://www.w3.org/2000/svg\" height=\"24px\"viewBox=\"0 0 24 24\"\n",
              "       width=\"24px\">\n",
              "    <path d=\"M0 0h24v24H0V0z\" fill=\"none\"/>\n",
              "    <path d=\"M18.56 5.44l.94 2.06.94-2.06 2.06-.94-2.06-.94-.94-2.06-.94 2.06-2.06.94zm-11 1L8.5 8.5l.94-2.06 2.06-.94-2.06-.94L8.5 2.5l-.94 2.06-2.06.94zm10 10l.94 2.06.94-2.06 2.06-.94-2.06-.94-.94-2.06-.94 2.06-2.06.94z\"/><path d=\"M17.41 7.96l-1.37-1.37c-.4-.4-.92-.59-1.43-.59-.52 0-1.04.2-1.43.59L10.3 9.45l-7.72 7.72c-.78.78-.78 2.05 0 2.83L4 21.41c.39.39.9.59 1.41.59.51 0 1.02-.2 1.41-.59l7.78-7.78 2.81-2.81c.8-.78.8-2.07 0-2.86zM5.41 20L4 18.59l7.72-7.72 1.47 1.35L5.41 20z\"/>\n",
              "  </svg>\n",
              "      </button>\n",
              "      \n",
              "  <style>\n",
              "    .colab-df-container {\n",
              "      display:flex;\n",
              "      flex-wrap:wrap;\n",
              "      gap: 12px;\n",
              "    }\n",
              "\n",
              "    .colab-df-convert {\n",
              "      background-color: #E8F0FE;\n",
              "      border: none;\n",
              "      border-radius: 50%;\n",
              "      cursor: pointer;\n",
              "      display: none;\n",
              "      fill: #1967D2;\n",
              "      height: 32px;\n",
              "      padding: 0 0 0 0;\n",
              "      width: 32px;\n",
              "    }\n",
              "\n",
              "    .colab-df-convert:hover {\n",
              "      background-color: #E2EBFA;\n",
              "      box-shadow: 0px 1px 2px rgba(60, 64, 67, 0.3), 0px 1px 3px 1px rgba(60, 64, 67, 0.15);\n",
              "      fill: #174EA6;\n",
              "    }\n",
              "\n",
              "    [theme=dark] .colab-df-convert {\n",
              "      background-color: #3B4455;\n",
              "      fill: #D2E3FC;\n",
              "    }\n",
              "\n",
              "    [theme=dark] .colab-df-convert:hover {\n",
              "      background-color: #434B5C;\n",
              "      box-shadow: 0px 1px 3px 1px rgba(0, 0, 0, 0.15);\n",
              "      filter: drop-shadow(0px 1px 2px rgba(0, 0, 0, 0.3));\n",
              "      fill: #FFFFFF;\n",
              "    }\n",
              "  </style>\n",
              "\n",
              "      <script>\n",
              "        const buttonEl =\n",
              "          document.querySelector('#df-f951743c-1fbc-4534-96b6-1c2a103d8b15 button.colab-df-convert');\n",
              "        buttonEl.style.display =\n",
              "          google.colab.kernel.accessAllowed ? 'block' : 'none';\n",
              "\n",
              "        async function convertToInteractive(key) {\n",
              "          const element = document.querySelector('#df-f951743c-1fbc-4534-96b6-1c2a103d8b15');\n",
              "          const dataTable =\n",
              "            await google.colab.kernel.invokeFunction('convertToInteractive',\n",
              "                                                     [key], {});\n",
              "          if (!dataTable) return;\n",
              "\n",
              "          const docLinkHtml = 'Like what you see? Visit the ' +\n",
              "            '<a target=\"_blank\" href=https://colab.research.google.com/notebooks/data_table.ipynb>data table notebook</a>'\n",
              "            + ' to learn more about interactive tables.';\n",
              "          element.innerHTML = '';\n",
              "          dataTable['output_type'] = 'display_data';\n",
              "          await google.colab.output.renderOutput(dataTable, element);\n",
              "          const docLink = document.createElement('div');\n",
              "          docLink.innerHTML = docLinkHtml;\n",
              "          element.appendChild(docLink);\n",
              "        }\n",
              "      </script>\n",
              "    </div>\n",
              "  </div>\n",
              "  "
            ]
          },
          "metadata": {},
          "execution_count": 41
        }
      ]
    },
    {
      "cell_type": "markdown",
      "source": [
        "## Split Dataset"
      ],
      "metadata": {
        "id": "iMPfZ226ZdVz"
      }
    },
    {
      "metadata": {
        "_uuid": "b896cee032d77260bc2cc41189f1ab0c5b272f1f",
        "id": "B1vPRR1OIUSY"
      },
      "cell_type": "markdown",
      "source": [
        "### Train/validation split\n",
        "* As we know the test set in on the future, so we should try to simulate the same distribution on our train/validation split.\n",
        "* Our train set will be the first 3~28 blocks, validation will be last 5 blocks (29~32) and test will be block 33.\n",
        "* I'm leaving the first 3 months out because we use a 3 month window to generate features, so these first 3 month won't have really windowed useful features."
      ]
    },
    {
      "metadata": {
        "_kg_hide-input": true,
        "trusted": true,
        "_uuid": "02d50cae77983376643ecabb9e477220a94d28b2",
        "id": "Uz6eF-OWIUSY",
        "colab": {
          "base_uri": "https://localhost:8080/"
        },
        "outputId": "d4010a2f-bdd6-4274-b811-137c541a6d57"
      },
      "cell_type": "code",
      "source": [
        "train_set = train_monthly.query('date_block_num >= 3 and date_block_num < 28').copy()\n",
        "validation_set = train_monthly.query('date_block_num >= 28 and date_block_num < 33').copy()\n",
        "test_set = train_monthly.query('date_block_num == 33').copy()\n",
        "\n",
        "train_set.dropna(subset=['item_cnt_month'], inplace=True)\n",
        "validation_set.dropna(subset=['item_cnt_month'], inplace=True)\n",
        "\n",
        "train_set.dropna(inplace=True)\n",
        "validation_set.dropna(inplace=True)\n",
        "\n",
        "print('Train set records:', train_set.shape[0])\n",
        "print('Validation set records:', validation_set.shape[0])\n",
        "print('Test set records:', test_set.shape[0])\n",
        "\n",
        "print('Train set records: %s (%.f%% of complete data)' % (train_set.shape[0], ((train_set.shape[0]/train_monthly.shape[0])*100)))\n",
        "print('Validation set records: %s (%.f%% of complete data)' % (validation_set.shape[0], ((validation_set.shape[0]/train_monthly.shape[0])*100)))"
      ],
      "execution_count": 42,
      "outputs": [
        {
          "output_type": "stream",
          "name": "stdout",
          "text": [
            "Train set records: 4946785\n",
            "Validation set records: 989412\n",
            "Test set records: 197879\n",
            "Train set records: 4946785 (74% of complete data)\n",
            "Validation set records: 989412 (15% of complete data)\n"
          ]
        }
      ]
    },
    {
      "metadata": {
        "_uuid": "60a594cf5659f2d352efdc449a9124d9ad682537",
        "id": "UfGrkuB7IUSZ"
      },
      "cell_type": "markdown",
      "source": [
        "### Mean encoding.\n",
        "* done after the train/validation split."
      ]
    },
    {
      "metadata": {
        "trusted": true,
        "_uuid": "c2865c55c01679d9c8a4a695e0af198a1800db33",
        "id": "ypv2FGcKIUSZ"
      },
      "cell_type": "code",
      "source": [
        "# Shop mean encoding.\n",
        "gp_shop_mean = train_set.groupby(['shop_id']).agg({'item_cnt_month': ['mean']})\n",
        "gp_shop_mean.columns = ['shop_mean']\n",
        "gp_shop_mean.reset_index(inplace=True)\n",
        "# Item mean encoding.\n",
        "gp_item_mean = train_set.groupby(['item_id']).agg({'item_cnt_month': ['mean']})\n",
        "gp_item_mean.columns = ['item_mean']\n",
        "gp_item_mean.reset_index(inplace=True)\n",
        "# Shop with item mean encoding.\n",
        "gp_shop_item_mean = train_set.groupby(['shop_id', 'item_id']).agg({'item_cnt_month': ['mean']})\n",
        "gp_shop_item_mean.columns = ['shop_item_mean']\n",
        "gp_shop_item_mean.reset_index(inplace=True)\n",
        "# Year mean encoding.\n",
        "gp_year_mean = train_set.groupby(['year']).agg({'item_cnt_month': ['mean']})\n",
        "gp_year_mean.columns = ['year_mean']\n",
        "gp_year_mean.reset_index(inplace=True)\n",
        "# Month mean encoding.\n",
        "gp_month_mean = train_set.groupby(['month']).agg({'item_cnt_month': ['mean']})\n",
        "gp_month_mean.columns = ['month_mean']\n",
        "gp_month_mean.reset_index(inplace=True)\n",
        "\n",
        "# Add meand encoding features to train set.\n",
        "train_set = pd.merge(train_set, gp_shop_mean, on=['shop_id'], how='left')\n",
        "train_set = pd.merge(train_set, gp_item_mean, on=['item_id'], how='left')\n",
        "train_set = pd.merge(train_set, gp_shop_item_mean, on=['shop_id', 'item_id'], how='left')\n",
        "train_set = pd.merge(train_set, gp_year_mean, on=['year'], how='left')\n",
        "train_set = pd.merge(train_set, gp_month_mean, on=['month'], how='left')\n",
        "# Add meand encoding features to validation set.\n",
        "validation_set = pd.merge(validation_set, gp_shop_mean, on=['shop_id'], how='left')\n",
        "validation_set = pd.merge(validation_set, gp_item_mean, on=['item_id'], how='left')\n",
        "validation_set = pd.merge(validation_set, gp_shop_item_mean, on=['shop_id', 'item_id'], how='left')\n",
        "validation_set = pd.merge(validation_set, gp_year_mean, on=['year'], how='left')\n",
        "validation_set = pd.merge(validation_set, gp_month_mean, on=['month'], how='left')"
      ],
      "execution_count": 43,
      "outputs": []
    },
    {
      "metadata": {
        "trusted": true,
        "_uuid": "7b3118d00fcb8fc2c1030a5ff37d8c201b989545",
        "id": "ZfgdECCUIUSZ"
      },
      "cell_type": "code",
      "source": [
        "# Create train and validation sets and labels. \n",
        "X_train = train_set.drop(['item_cnt_month', 'date_block_num'], axis=1)\n",
        "Y_train = train_set['item_cnt_month'].astype(int)\n",
        "X_validation = validation_set.drop(['item_cnt_month', 'date_block_num'], axis=1)\n",
        "Y_validation = validation_set['item_cnt_month'].astype(int)"
      ],
      "execution_count": 44,
      "outputs": []
    },
    {
      "metadata": {
        "trusted": true,
        "_uuid": "10a282455b0ba0c601eea05bc90322877a132429",
        "id": "Z5VQum5sIUSd"
      },
      "cell_type": "code",
      "source": [
        "# Integer features (used by catboost model).\n",
        "int_features = ['shop_id', 'item_id', 'year', 'month']\n",
        "\n",
        "X_train[int_features] = X_train[int_features].astype('int32')\n",
        "X_validation[int_features] = X_validation[int_features].astype('int32')"
      ],
      "execution_count": 45,
      "outputs": []
    },
    {
      "metadata": {
        "_uuid": "c61ed42f58832da6b058b52f27bb329a6b1508a9",
        "id": "L6_19CUvIUSf"
      },
      "cell_type": "markdown",
      "source": [
        "### Build test set\n",
        "We want to predict for \"date_block_num\" 34 so our test set will be block 33 and our predictions should reflect block 34 values. In other words we use block 33 because we want to forecast values for block 34."
      ]
    },
    {
      "metadata": {
        "trusted": true,
        "_uuid": "ea92bf4c0739cb94e6b8b06b6525cab66a47fa6b",
        "id": "Zz7VG2gGIUSl"
      },
      "cell_type": "code",
      "source": [
        "latest_records = pd.concat([train_set, validation_set]).drop_duplicates(subset=['shop_id', 'item_id'], keep='last')\n",
        "X_test = pd.merge(test, latest_records, on=['shop_id', 'item_id'], how='left', suffixes=['', '_'])\n",
        "X_test['year'] = 2015\n",
        "X_test['month'] = 9\n",
        "X_test.drop('item_cnt_month', axis=1, inplace=True)\n",
        "X_test[int_features] = X_test[int_features].astype('int32')\n",
        "X_test = X_test[X_train.columns]"
      ],
      "execution_count": 46,
      "outputs": []
    },
    {
      "metadata": {
        "_uuid": "7263b8e69d7f1fe529b89c08a1cb905ed4bbf257",
        "id": "vkjjGbSZIUUI"
      },
      "cell_type": "markdown",
      "source": [
        "### Replacing missing values."
      ]
    },
    {
      "metadata": {
        "trusted": true,
        "_uuid": "7751f418cefd6a4daf7663ec43b4baadaa3b3905",
        "_kg_hide-input": false,
        "id": "NVFZXwalIUUJ"
      },
      "cell_type": "code",
      "source": [
        "sets = [X_train, X_validation, X_test]\n",
        "\n",
        "# This was taking too long.\n",
        "# Replace missing values with the median of each item.\n",
        "# for dataset in sets:\n",
        "#     for item_id in dataset['item_id'].unique():\n",
        "#         for column in dataset.columns:\n",
        "#             item_median = dataset[(dataset['item_id'] == item_id)][column].median()\n",
        "#             dataset.loc[(dataset[column].isnull()) & (dataset['item_id'] == item_id), column] = item_median\n",
        "\n",
        "# Replace missing values with the median of each shop.            \n",
        "for dataset in sets:\n",
        "    for shop_id in dataset['shop_id'].unique():\n",
        "        for column in dataset.columns:\n",
        "            shop_median = dataset[(dataset['shop_id'] == shop_id)][column].median()\n",
        "            dataset.loc[(dataset[column].isnull()) & (dataset['shop_id'] == shop_id), column] = shop_median\n",
        "            \n",
        "# Fill remaining missing values on test set with mean.\n",
        "X_test.fillna(X_test.mean(), inplace=True)"
      ],
      "execution_count": 47,
      "outputs": []
    },
    {
      "metadata": {
        "trusted": true,
        "_uuid": "0956e6c1ef3bbb3908d054b7a86b596404e5aa8b",
        "id": "JDPjxL1LIUUJ"
      },
      "cell_type": "code",
      "source": [
        "# I'm dropping \"item_category_id\", we don't have it on test set and would be a little hard to create categories for items that exist only on test set.\n",
        "X_train.drop(['item_category_id'], axis=1, inplace=True)\n",
        "X_validation.drop(['item_category_id'], axis=1, inplace=True)\n",
        "X_test.drop(['item_category_id'], axis=1, inplace=True)"
      ],
      "execution_count": 48,
      "outputs": []
    },
    {
      "metadata": {
        "_uuid": "a4179d24399b913be389cd059863dff6fdade5cc",
        "id": "ocKCHfVWIUUK"
      },
      "cell_type": "markdown",
      "source": [
        "### Test set"
      ]
    },
    {
      "metadata": {
        "trusted": true,
        "_uuid": "7cc6b59eb68c97e706c505beb84c1fe291373556",
        "_kg_hide-input": true,
        "id": "LURC5OTzIUUL",
        "colab": {
          "base_uri": "https://localhost:8080/",
          "height": 0
        },
        "outputId": "dd7a3e18-f416-4553-f696-9bc67c8607ac"
      },
      "cell_type": "code",
      "source": [
        "X_test.head().T"
      ],
      "execution_count": 49,
      "outputs": [
        {
          "output_type": "execute_result",
          "data": {
            "text/plain": [
              "                           0       1       2       3       4\n",
              "shop_id                 5.00    5.00    5.00    5.00    5.00\n",
              "item_id              5037.00 5320.00 5233.00 5232.00 5268.00\n",
              "item_price            749.50    0.00 2997.00    0.00    0.00\n",
              "mean_item_price       749.50    0.00  999.00    0.00    0.00\n",
              "item_cnt                1.00    0.00    3.00    0.00    0.00\n",
              "mean_item_cnt           1.00    0.00    1.00    0.00    0.00\n",
              "transactions            1.00    0.00    3.00    0.00    0.00\n",
              "year                 2015.00 2015.00 2015.00 2015.00 2015.00\n",
              "month                   9.00    9.00    9.00    9.00    9.00\n",
              "item_price_unit       749.00    0.00  999.00    0.00    0.00\n",
              "hist_min_item_price     0.00    0.00    0.00    0.00    0.00\n",
              "hist_max_item_price 25990.00 2428.81 7191.75 4796.00 2428.81\n",
              "price_increase        749.50    0.00 2997.00    0.00    0.00\n",
              "price_decrease      25240.50 2394.00 4194.75 4796.00 2394.00\n",
              "item_cnt_min            1.00    0.00    1.00    0.00    0.00\n",
              "item_cnt_max            3.00    0.00    3.00    0.00    0.00\n",
              "item_cnt_mean           1.67    0.00    2.00    0.00    0.00\n",
              "item_cnt_std            1.15    0.00    1.00    0.00    0.00\n",
              "item_cnt_shifted1       3.00    0.00    1.00    0.00    0.00\n",
              "item_cnt_shifted2       1.00    0.00    2.00    0.00    0.00\n",
              "item_cnt_shifted3       1.00    0.00    3.00    0.00    0.00\n",
              "item_trend             -1.00    0.00   -0.75    0.00    0.00\n",
              "shop_mean               0.13    0.13    0.13    0.13    0.13\n",
              "item_mean               0.70    0.05    0.07    0.00    0.05\n",
              "shop_item_mean          0.28    0.00    0.12    0.00    0.00\n",
              "year_mean               0.22    0.22    0.22    0.22    0.22\n",
              "month_mean              0.17    0.17    0.17    0.17    0.17"
            ],
            "text/html": [
              "\n",
              "  <div id=\"df-0cd62abd-8ae6-479b-a1c6-897a2105a99e\">\n",
              "    <div class=\"colab-df-container\">\n",
              "      <div>\n",
              "<style scoped>\n",
              "    .dataframe tbody tr th:only-of-type {\n",
              "        vertical-align: middle;\n",
              "    }\n",
              "\n",
              "    .dataframe tbody tr th {\n",
              "        vertical-align: top;\n",
              "    }\n",
              "\n",
              "    .dataframe thead th {\n",
              "        text-align: right;\n",
              "    }\n",
              "</style>\n",
              "<table border=\"1\" class=\"dataframe\">\n",
              "  <thead>\n",
              "    <tr style=\"text-align: right;\">\n",
              "      <th></th>\n",
              "      <th>0</th>\n",
              "      <th>1</th>\n",
              "      <th>2</th>\n",
              "      <th>3</th>\n",
              "      <th>4</th>\n",
              "    </tr>\n",
              "  </thead>\n",
              "  <tbody>\n",
              "    <tr>\n",
              "      <th>shop_id</th>\n",
              "      <td>5.00</td>\n",
              "      <td>5.00</td>\n",
              "      <td>5.00</td>\n",
              "      <td>5.00</td>\n",
              "      <td>5.00</td>\n",
              "    </tr>\n",
              "    <tr>\n",
              "      <th>item_id</th>\n",
              "      <td>5037.00</td>\n",
              "      <td>5320.00</td>\n",
              "      <td>5233.00</td>\n",
              "      <td>5232.00</td>\n",
              "      <td>5268.00</td>\n",
              "    </tr>\n",
              "    <tr>\n",
              "      <th>item_price</th>\n",
              "      <td>749.50</td>\n",
              "      <td>0.00</td>\n",
              "      <td>2997.00</td>\n",
              "      <td>0.00</td>\n",
              "      <td>0.00</td>\n",
              "    </tr>\n",
              "    <tr>\n",
              "      <th>mean_item_price</th>\n",
              "      <td>749.50</td>\n",
              "      <td>0.00</td>\n",
              "      <td>999.00</td>\n",
              "      <td>0.00</td>\n",
              "      <td>0.00</td>\n",
              "    </tr>\n",
              "    <tr>\n",
              "      <th>item_cnt</th>\n",
              "      <td>1.00</td>\n",
              "      <td>0.00</td>\n",
              "      <td>3.00</td>\n",
              "      <td>0.00</td>\n",
              "      <td>0.00</td>\n",
              "    </tr>\n",
              "    <tr>\n",
              "      <th>mean_item_cnt</th>\n",
              "      <td>1.00</td>\n",
              "      <td>0.00</td>\n",
              "      <td>1.00</td>\n",
              "      <td>0.00</td>\n",
              "      <td>0.00</td>\n",
              "    </tr>\n",
              "    <tr>\n",
              "      <th>transactions</th>\n",
              "      <td>1.00</td>\n",
              "      <td>0.00</td>\n",
              "      <td>3.00</td>\n",
              "      <td>0.00</td>\n",
              "      <td>0.00</td>\n",
              "    </tr>\n",
              "    <tr>\n",
              "      <th>year</th>\n",
              "      <td>2015.00</td>\n",
              "      <td>2015.00</td>\n",
              "      <td>2015.00</td>\n",
              "      <td>2015.00</td>\n",
              "      <td>2015.00</td>\n",
              "    </tr>\n",
              "    <tr>\n",
              "      <th>month</th>\n",
              "      <td>9.00</td>\n",
              "      <td>9.00</td>\n",
              "      <td>9.00</td>\n",
              "      <td>9.00</td>\n",
              "      <td>9.00</td>\n",
              "    </tr>\n",
              "    <tr>\n",
              "      <th>item_price_unit</th>\n",
              "      <td>749.00</td>\n",
              "      <td>0.00</td>\n",
              "      <td>999.00</td>\n",
              "      <td>0.00</td>\n",
              "      <td>0.00</td>\n",
              "    </tr>\n",
              "    <tr>\n",
              "      <th>hist_min_item_price</th>\n",
              "      <td>0.00</td>\n",
              "      <td>0.00</td>\n",
              "      <td>0.00</td>\n",
              "      <td>0.00</td>\n",
              "      <td>0.00</td>\n",
              "    </tr>\n",
              "    <tr>\n",
              "      <th>hist_max_item_price</th>\n",
              "      <td>25990.00</td>\n",
              "      <td>2428.81</td>\n",
              "      <td>7191.75</td>\n",
              "      <td>4796.00</td>\n",
              "      <td>2428.81</td>\n",
              "    </tr>\n",
              "    <tr>\n",
              "      <th>price_increase</th>\n",
              "      <td>749.50</td>\n",
              "      <td>0.00</td>\n",
              "      <td>2997.00</td>\n",
              "      <td>0.00</td>\n",
              "      <td>0.00</td>\n",
              "    </tr>\n",
              "    <tr>\n",
              "      <th>price_decrease</th>\n",
              "      <td>25240.50</td>\n",
              "      <td>2394.00</td>\n",
              "      <td>4194.75</td>\n",
              "      <td>4796.00</td>\n",
              "      <td>2394.00</td>\n",
              "    </tr>\n",
              "    <tr>\n",
              "      <th>item_cnt_min</th>\n",
              "      <td>1.00</td>\n",
              "      <td>0.00</td>\n",
              "      <td>1.00</td>\n",
              "      <td>0.00</td>\n",
              "      <td>0.00</td>\n",
              "    </tr>\n",
              "    <tr>\n",
              "      <th>item_cnt_max</th>\n",
              "      <td>3.00</td>\n",
              "      <td>0.00</td>\n",
              "      <td>3.00</td>\n",
              "      <td>0.00</td>\n",
              "      <td>0.00</td>\n",
              "    </tr>\n",
              "    <tr>\n",
              "      <th>item_cnt_mean</th>\n",
              "      <td>1.67</td>\n",
              "      <td>0.00</td>\n",
              "      <td>2.00</td>\n",
              "      <td>0.00</td>\n",
              "      <td>0.00</td>\n",
              "    </tr>\n",
              "    <tr>\n",
              "      <th>item_cnt_std</th>\n",
              "      <td>1.15</td>\n",
              "      <td>0.00</td>\n",
              "      <td>1.00</td>\n",
              "      <td>0.00</td>\n",
              "      <td>0.00</td>\n",
              "    </tr>\n",
              "    <tr>\n",
              "      <th>item_cnt_shifted1</th>\n",
              "      <td>3.00</td>\n",
              "      <td>0.00</td>\n",
              "      <td>1.00</td>\n",
              "      <td>0.00</td>\n",
              "      <td>0.00</td>\n",
              "    </tr>\n",
              "    <tr>\n",
              "      <th>item_cnt_shifted2</th>\n",
              "      <td>1.00</td>\n",
              "      <td>0.00</td>\n",
              "      <td>2.00</td>\n",
              "      <td>0.00</td>\n",
              "      <td>0.00</td>\n",
              "    </tr>\n",
              "    <tr>\n",
              "      <th>item_cnt_shifted3</th>\n",
              "      <td>1.00</td>\n",
              "      <td>0.00</td>\n",
              "      <td>3.00</td>\n",
              "      <td>0.00</td>\n",
              "      <td>0.00</td>\n",
              "    </tr>\n",
              "    <tr>\n",
              "      <th>item_trend</th>\n",
              "      <td>-1.00</td>\n",
              "      <td>0.00</td>\n",
              "      <td>-0.75</td>\n",
              "      <td>0.00</td>\n",
              "      <td>0.00</td>\n",
              "    </tr>\n",
              "    <tr>\n",
              "      <th>shop_mean</th>\n",
              "      <td>0.13</td>\n",
              "      <td>0.13</td>\n",
              "      <td>0.13</td>\n",
              "      <td>0.13</td>\n",
              "      <td>0.13</td>\n",
              "    </tr>\n",
              "    <tr>\n",
              "      <th>item_mean</th>\n",
              "      <td>0.70</td>\n",
              "      <td>0.05</td>\n",
              "      <td>0.07</td>\n",
              "      <td>0.00</td>\n",
              "      <td>0.05</td>\n",
              "    </tr>\n",
              "    <tr>\n",
              "      <th>shop_item_mean</th>\n",
              "      <td>0.28</td>\n",
              "      <td>0.00</td>\n",
              "      <td>0.12</td>\n",
              "      <td>0.00</td>\n",
              "      <td>0.00</td>\n",
              "    </tr>\n",
              "    <tr>\n",
              "      <th>year_mean</th>\n",
              "      <td>0.22</td>\n",
              "      <td>0.22</td>\n",
              "      <td>0.22</td>\n",
              "      <td>0.22</td>\n",
              "      <td>0.22</td>\n",
              "    </tr>\n",
              "    <tr>\n",
              "      <th>month_mean</th>\n",
              "      <td>0.17</td>\n",
              "      <td>0.17</td>\n",
              "      <td>0.17</td>\n",
              "      <td>0.17</td>\n",
              "      <td>0.17</td>\n",
              "    </tr>\n",
              "  </tbody>\n",
              "</table>\n",
              "</div>\n",
              "      <button class=\"colab-df-convert\" onclick=\"convertToInteractive('df-0cd62abd-8ae6-479b-a1c6-897a2105a99e')\"\n",
              "              title=\"Convert this dataframe to an interactive table.\"\n",
              "              style=\"display:none;\">\n",
              "        \n",
              "  <svg xmlns=\"http://www.w3.org/2000/svg\" height=\"24px\"viewBox=\"0 0 24 24\"\n",
              "       width=\"24px\">\n",
              "    <path d=\"M0 0h24v24H0V0z\" fill=\"none\"/>\n",
              "    <path d=\"M18.56 5.44l.94 2.06.94-2.06 2.06-.94-2.06-.94-.94-2.06-.94 2.06-2.06.94zm-11 1L8.5 8.5l.94-2.06 2.06-.94-2.06-.94L8.5 2.5l-.94 2.06-2.06.94zm10 10l.94 2.06.94-2.06 2.06-.94-2.06-.94-.94-2.06-.94 2.06-2.06.94z\"/><path d=\"M17.41 7.96l-1.37-1.37c-.4-.4-.92-.59-1.43-.59-.52 0-1.04.2-1.43.59L10.3 9.45l-7.72 7.72c-.78.78-.78 2.05 0 2.83L4 21.41c.39.39.9.59 1.41.59.51 0 1.02-.2 1.41-.59l7.78-7.78 2.81-2.81c.8-.78.8-2.07 0-2.86zM5.41 20L4 18.59l7.72-7.72 1.47 1.35L5.41 20z\"/>\n",
              "  </svg>\n",
              "      </button>\n",
              "      \n",
              "  <style>\n",
              "    .colab-df-container {\n",
              "      display:flex;\n",
              "      flex-wrap:wrap;\n",
              "      gap: 12px;\n",
              "    }\n",
              "\n",
              "    .colab-df-convert {\n",
              "      background-color: #E8F0FE;\n",
              "      border: none;\n",
              "      border-radius: 50%;\n",
              "      cursor: pointer;\n",
              "      display: none;\n",
              "      fill: #1967D2;\n",
              "      height: 32px;\n",
              "      padding: 0 0 0 0;\n",
              "      width: 32px;\n",
              "    }\n",
              "\n",
              "    .colab-df-convert:hover {\n",
              "      background-color: #E2EBFA;\n",
              "      box-shadow: 0px 1px 2px rgba(60, 64, 67, 0.3), 0px 1px 3px 1px rgba(60, 64, 67, 0.15);\n",
              "      fill: #174EA6;\n",
              "    }\n",
              "\n",
              "    [theme=dark] .colab-df-convert {\n",
              "      background-color: #3B4455;\n",
              "      fill: #D2E3FC;\n",
              "    }\n",
              "\n",
              "    [theme=dark] .colab-df-convert:hover {\n",
              "      background-color: #434B5C;\n",
              "      box-shadow: 0px 1px 3px 1px rgba(0, 0, 0, 0.15);\n",
              "      filter: drop-shadow(0px 1px 2px rgba(0, 0, 0, 0.3));\n",
              "      fill: #FFFFFF;\n",
              "    }\n",
              "  </style>\n",
              "\n",
              "      <script>\n",
              "        const buttonEl =\n",
              "          document.querySelector('#df-0cd62abd-8ae6-479b-a1c6-897a2105a99e button.colab-df-convert');\n",
              "        buttonEl.style.display =\n",
              "          google.colab.kernel.accessAllowed ? 'block' : 'none';\n",
              "\n",
              "        async function convertToInteractive(key) {\n",
              "          const element = document.querySelector('#df-0cd62abd-8ae6-479b-a1c6-897a2105a99e');\n",
              "          const dataTable =\n",
              "            await google.colab.kernel.invokeFunction('convertToInteractive',\n",
              "                                                     [key], {});\n",
              "          if (!dataTable) return;\n",
              "\n",
              "          const docLinkHtml = 'Like what you see? Visit the ' +\n",
              "            '<a target=\"_blank\" href=https://colab.research.google.com/notebooks/data_table.ipynb>data table notebook</a>'\n",
              "            + ' to learn more about interactive tables.';\n",
              "          element.innerHTML = '';\n",
              "          dataTable['output_type'] = 'display_data';\n",
              "          await google.colab.output.renderOutput(dataTable, element);\n",
              "          const docLink = document.createElement('div');\n",
              "          docLink.innerHTML = docLinkHtml;\n",
              "          element.appendChild(docLink);\n",
              "        }\n",
              "      </script>\n",
              "    </div>\n",
              "  </div>\n",
              "  "
            ]
          },
          "metadata": {},
          "execution_count": 49
        }
      ]
    },
    {
      "metadata": {
        "trusted": true,
        "_uuid": "1fdbbe2bedefb57812e98777717026b1f89ad87f",
        "_kg_hide-input": true,
        "id": "kMwifZwuIUUM",
        "colab": {
          "base_uri": "https://localhost:8080/",
          "height": 0
        },
        "outputId": "a08ef35f-a3c0-412e-c60f-a57776b99ca2"
      },
      "cell_type": "code",
      "source": [
        "X_test.describe().T"
      ],
      "execution_count": 50,
      "outputs": [
        {
          "output_type": "execute_result",
          "data": {
            "text/plain": [
              "                        count     mean      std     min     25%      50%  \\\n",
              "shop_id             214200.00    31.64    17.56    2.00   16.00    34.50   \n",
              "item_id             214200.00 11019.40  6252.64   30.00 5381.50 11203.00   \n",
              "item_price          214200.00   239.96  1852.61    0.00    0.00     0.00   \n",
              "mean_item_price     214200.00   133.81   865.99    0.00    0.00     0.00   \n",
              "item_cnt            214200.00     0.23     0.95    0.00    0.00     0.00   \n",
              "mean_item_cnt       214200.00     0.13     0.37    0.00    0.00     0.00   \n",
              "transactions        214200.00     0.20     0.73    0.00    0.00     0.00   \n",
              "year                214200.00  2015.00     0.00 2015.00 2015.00  2015.00   \n",
              "month               214200.00     9.00     0.00    9.00    9.00     9.00   \n",
              "item_price_unit     214200.00      inf      NaN    0.00    0.00     0.00   \n",
              "hist_min_item_price 214200.00     0.00     0.00    0.00    0.00     0.00   \n",
              "hist_max_item_price 214200.00  5396.39 11365.76    0.00 1194.00  2428.81   \n",
              "price_increase      214200.00   239.96  1852.61    0.00    0.00     0.00   \n",
              "price_decrease      214200.00  5151.84 10778.85    0.00 1098.00  2394.00   \n",
              "item_cnt_min        214200.00     0.18     0.74    0.00    0.00     0.00   \n",
              "item_cnt_max        214200.00     0.33     1.27    0.00    0.00     0.00   \n",
              "item_cnt_mean       214200.00     0.25     0.95    0.00    0.00     0.00   \n",
              "item_cnt_std        214200.00     0.08     0.43    0.00    0.00     0.00   \n",
              "item_cnt_shifted1   214200.00     0.21     0.91    0.00    0.00     0.00   \n",
              "item_cnt_shifted2   214200.00     0.18     0.83    0.00    0.00     0.00   \n",
              "item_cnt_shifted3   214200.00     0.17     0.85    0.00    0.00     0.00   \n",
              "item_trend          214200.00    -0.08     0.46  -11.00    0.00     0.00   \n",
              "shop_mean           214200.00     0.19     0.13    0.00    0.12     0.17   \n",
              "item_mean           214200.00     0.18     0.41    0.00    0.01     0.05   \n",
              "shop_item_mean      214200.00     0.18     0.56    0.00    0.00     0.00   \n",
              "year_mean           214200.00     0.22     0.00    0.14    0.22     0.22   \n",
              "month_mean          214200.00     0.17     0.00    0.14    0.17     0.17   \n",
              "\n",
              "                         75%       max  \n",
              "shop_id                47.00     59.00  \n",
              "item_id             16071.50  22167.00  \n",
              "item_price              0.00 166944.50  \n",
              "mean_item_price         0.00  32990.00  \n",
              "item_cnt                0.00     20.00  \n",
              "mean_item_cnt           0.00     10.00  \n",
              "transactions            0.00     15.00  \n",
              "year                 2015.00   2015.00  \n",
              "month                   9.00      9.00  \n",
              "item_price_unit         0.00       inf  \n",
              "hist_min_item_price     0.00      0.00  \n",
              "hist_max_item_price  5196.00 366860.00  \n",
              "price_increase          0.00 166944.50  \n",
              "price_decrease       5063.00 366860.00  \n",
              "item_cnt_min            0.00     20.00  \n",
              "item_cnt_max            0.00     20.00  \n",
              "item_cnt_mean           0.00     20.00  \n",
              "item_cnt_std            0.00     12.02  \n",
              "item_cnt_shifted1       0.00     20.00  \n",
              "item_cnt_shifted2       0.00     20.00  \n",
              "item_cnt_shifted3       0.00     20.00  \n",
              "item_trend              0.00      5.00  \n",
              "shop_mean               0.20      0.68  \n",
              "item_mean               0.18      6.97  \n",
              "shop_item_mean          0.12     20.00  \n",
              "year_mean               0.22      0.22  \n",
              "month_mean              0.17      0.21  "
            ],
            "text/html": [
              "\n",
              "  <div id=\"df-fd5991e9-ee8e-44ae-be41-156381298524\">\n",
              "    <div class=\"colab-df-container\">\n",
              "      <div>\n",
              "<style scoped>\n",
              "    .dataframe tbody tr th:only-of-type {\n",
              "        vertical-align: middle;\n",
              "    }\n",
              "\n",
              "    .dataframe tbody tr th {\n",
              "        vertical-align: top;\n",
              "    }\n",
              "\n",
              "    .dataframe thead th {\n",
              "        text-align: right;\n",
              "    }\n",
              "</style>\n",
              "<table border=\"1\" class=\"dataframe\">\n",
              "  <thead>\n",
              "    <tr style=\"text-align: right;\">\n",
              "      <th></th>\n",
              "      <th>count</th>\n",
              "      <th>mean</th>\n",
              "      <th>std</th>\n",
              "      <th>min</th>\n",
              "      <th>25%</th>\n",
              "      <th>50%</th>\n",
              "      <th>75%</th>\n",
              "      <th>max</th>\n",
              "    </tr>\n",
              "  </thead>\n",
              "  <tbody>\n",
              "    <tr>\n",
              "      <th>shop_id</th>\n",
              "      <td>214200.00</td>\n",
              "      <td>31.64</td>\n",
              "      <td>17.56</td>\n",
              "      <td>2.00</td>\n",
              "      <td>16.00</td>\n",
              "      <td>34.50</td>\n",
              "      <td>47.00</td>\n",
              "      <td>59.00</td>\n",
              "    </tr>\n",
              "    <tr>\n",
              "      <th>item_id</th>\n",
              "      <td>214200.00</td>\n",
              "      <td>11019.40</td>\n",
              "      <td>6252.64</td>\n",
              "      <td>30.00</td>\n",
              "      <td>5381.50</td>\n",
              "      <td>11203.00</td>\n",
              "      <td>16071.50</td>\n",
              "      <td>22167.00</td>\n",
              "    </tr>\n",
              "    <tr>\n",
              "      <th>item_price</th>\n",
              "      <td>214200.00</td>\n",
              "      <td>239.96</td>\n",
              "      <td>1852.61</td>\n",
              "      <td>0.00</td>\n",
              "      <td>0.00</td>\n",
              "      <td>0.00</td>\n",
              "      <td>0.00</td>\n",
              "      <td>166944.50</td>\n",
              "    </tr>\n",
              "    <tr>\n",
              "      <th>mean_item_price</th>\n",
              "      <td>214200.00</td>\n",
              "      <td>133.81</td>\n",
              "      <td>865.99</td>\n",
              "      <td>0.00</td>\n",
              "      <td>0.00</td>\n",
              "      <td>0.00</td>\n",
              "      <td>0.00</td>\n",
              "      <td>32990.00</td>\n",
              "    </tr>\n",
              "    <tr>\n",
              "      <th>item_cnt</th>\n",
              "      <td>214200.00</td>\n",
              "      <td>0.23</td>\n",
              "      <td>0.95</td>\n",
              "      <td>0.00</td>\n",
              "      <td>0.00</td>\n",
              "      <td>0.00</td>\n",
              "      <td>0.00</td>\n",
              "      <td>20.00</td>\n",
              "    </tr>\n",
              "    <tr>\n",
              "      <th>mean_item_cnt</th>\n",
              "      <td>214200.00</td>\n",
              "      <td>0.13</td>\n",
              "      <td>0.37</td>\n",
              "      <td>0.00</td>\n",
              "      <td>0.00</td>\n",
              "      <td>0.00</td>\n",
              "      <td>0.00</td>\n",
              "      <td>10.00</td>\n",
              "    </tr>\n",
              "    <tr>\n",
              "      <th>transactions</th>\n",
              "      <td>214200.00</td>\n",
              "      <td>0.20</td>\n",
              "      <td>0.73</td>\n",
              "      <td>0.00</td>\n",
              "      <td>0.00</td>\n",
              "      <td>0.00</td>\n",
              "      <td>0.00</td>\n",
              "      <td>15.00</td>\n",
              "    </tr>\n",
              "    <tr>\n",
              "      <th>year</th>\n",
              "      <td>214200.00</td>\n",
              "      <td>2015.00</td>\n",
              "      <td>0.00</td>\n",
              "      <td>2015.00</td>\n",
              "      <td>2015.00</td>\n",
              "      <td>2015.00</td>\n",
              "      <td>2015.00</td>\n",
              "      <td>2015.00</td>\n",
              "    </tr>\n",
              "    <tr>\n",
              "      <th>month</th>\n",
              "      <td>214200.00</td>\n",
              "      <td>9.00</td>\n",
              "      <td>0.00</td>\n",
              "      <td>9.00</td>\n",
              "      <td>9.00</td>\n",
              "      <td>9.00</td>\n",
              "      <td>9.00</td>\n",
              "      <td>9.00</td>\n",
              "    </tr>\n",
              "    <tr>\n",
              "      <th>item_price_unit</th>\n",
              "      <td>214200.00</td>\n",
              "      <td>inf</td>\n",
              "      <td>NaN</td>\n",
              "      <td>0.00</td>\n",
              "      <td>0.00</td>\n",
              "      <td>0.00</td>\n",
              "      <td>0.00</td>\n",
              "      <td>inf</td>\n",
              "    </tr>\n",
              "    <tr>\n",
              "      <th>hist_min_item_price</th>\n",
              "      <td>214200.00</td>\n",
              "      <td>0.00</td>\n",
              "      <td>0.00</td>\n",
              "      <td>0.00</td>\n",
              "      <td>0.00</td>\n",
              "      <td>0.00</td>\n",
              "      <td>0.00</td>\n",
              "      <td>0.00</td>\n",
              "    </tr>\n",
              "    <tr>\n",
              "      <th>hist_max_item_price</th>\n",
              "      <td>214200.00</td>\n",
              "      <td>5396.39</td>\n",
              "      <td>11365.76</td>\n",
              "      <td>0.00</td>\n",
              "      <td>1194.00</td>\n",
              "      <td>2428.81</td>\n",
              "      <td>5196.00</td>\n",
              "      <td>366860.00</td>\n",
              "    </tr>\n",
              "    <tr>\n",
              "      <th>price_increase</th>\n",
              "      <td>214200.00</td>\n",
              "      <td>239.96</td>\n",
              "      <td>1852.61</td>\n",
              "      <td>0.00</td>\n",
              "      <td>0.00</td>\n",
              "      <td>0.00</td>\n",
              "      <td>0.00</td>\n",
              "      <td>166944.50</td>\n",
              "    </tr>\n",
              "    <tr>\n",
              "      <th>price_decrease</th>\n",
              "      <td>214200.00</td>\n",
              "      <td>5151.84</td>\n",
              "      <td>10778.85</td>\n",
              "      <td>0.00</td>\n",
              "      <td>1098.00</td>\n",
              "      <td>2394.00</td>\n",
              "      <td>5063.00</td>\n",
              "      <td>366860.00</td>\n",
              "    </tr>\n",
              "    <tr>\n",
              "      <th>item_cnt_min</th>\n",
              "      <td>214200.00</td>\n",
              "      <td>0.18</td>\n",
              "      <td>0.74</td>\n",
              "      <td>0.00</td>\n",
              "      <td>0.00</td>\n",
              "      <td>0.00</td>\n",
              "      <td>0.00</td>\n",
              "      <td>20.00</td>\n",
              "    </tr>\n",
              "    <tr>\n",
              "      <th>item_cnt_max</th>\n",
              "      <td>214200.00</td>\n",
              "      <td>0.33</td>\n",
              "      <td>1.27</td>\n",
              "      <td>0.00</td>\n",
              "      <td>0.00</td>\n",
              "      <td>0.00</td>\n",
              "      <td>0.00</td>\n",
              "      <td>20.00</td>\n",
              "    </tr>\n",
              "    <tr>\n",
              "      <th>item_cnt_mean</th>\n",
              "      <td>214200.00</td>\n",
              "      <td>0.25</td>\n",
              "      <td>0.95</td>\n",
              "      <td>0.00</td>\n",
              "      <td>0.00</td>\n",
              "      <td>0.00</td>\n",
              "      <td>0.00</td>\n",
              "      <td>20.00</td>\n",
              "    </tr>\n",
              "    <tr>\n",
              "      <th>item_cnt_std</th>\n",
              "      <td>214200.00</td>\n",
              "      <td>0.08</td>\n",
              "      <td>0.43</td>\n",
              "      <td>0.00</td>\n",
              "      <td>0.00</td>\n",
              "      <td>0.00</td>\n",
              "      <td>0.00</td>\n",
              "      <td>12.02</td>\n",
              "    </tr>\n",
              "    <tr>\n",
              "      <th>item_cnt_shifted1</th>\n",
              "      <td>214200.00</td>\n",
              "      <td>0.21</td>\n",
              "      <td>0.91</td>\n",
              "      <td>0.00</td>\n",
              "      <td>0.00</td>\n",
              "      <td>0.00</td>\n",
              "      <td>0.00</td>\n",
              "      <td>20.00</td>\n",
              "    </tr>\n",
              "    <tr>\n",
              "      <th>item_cnt_shifted2</th>\n",
              "      <td>214200.00</td>\n",
              "      <td>0.18</td>\n",
              "      <td>0.83</td>\n",
              "      <td>0.00</td>\n",
              "      <td>0.00</td>\n",
              "      <td>0.00</td>\n",
              "      <td>0.00</td>\n",
              "      <td>20.00</td>\n",
              "    </tr>\n",
              "    <tr>\n",
              "      <th>item_cnt_shifted3</th>\n",
              "      <td>214200.00</td>\n",
              "      <td>0.17</td>\n",
              "      <td>0.85</td>\n",
              "      <td>0.00</td>\n",
              "      <td>0.00</td>\n",
              "      <td>0.00</td>\n",
              "      <td>0.00</td>\n",
              "      <td>20.00</td>\n",
              "    </tr>\n",
              "    <tr>\n",
              "      <th>item_trend</th>\n",
              "      <td>214200.00</td>\n",
              "      <td>-0.08</td>\n",
              "      <td>0.46</td>\n",
              "      <td>-11.00</td>\n",
              "      <td>0.00</td>\n",
              "      <td>0.00</td>\n",
              "      <td>0.00</td>\n",
              "      <td>5.00</td>\n",
              "    </tr>\n",
              "    <tr>\n",
              "      <th>shop_mean</th>\n",
              "      <td>214200.00</td>\n",
              "      <td>0.19</td>\n",
              "      <td>0.13</td>\n",
              "      <td>0.00</td>\n",
              "      <td>0.12</td>\n",
              "      <td>0.17</td>\n",
              "      <td>0.20</td>\n",
              "      <td>0.68</td>\n",
              "    </tr>\n",
              "    <tr>\n",
              "      <th>item_mean</th>\n",
              "      <td>214200.00</td>\n",
              "      <td>0.18</td>\n",
              "      <td>0.41</td>\n",
              "      <td>0.00</td>\n",
              "      <td>0.01</td>\n",
              "      <td>0.05</td>\n",
              "      <td>0.18</td>\n",
              "      <td>6.97</td>\n",
              "    </tr>\n",
              "    <tr>\n",
              "      <th>shop_item_mean</th>\n",
              "      <td>214200.00</td>\n",
              "      <td>0.18</td>\n",
              "      <td>0.56</td>\n",
              "      <td>0.00</td>\n",
              "      <td>0.00</td>\n",
              "      <td>0.00</td>\n",
              "      <td>0.12</td>\n",
              "      <td>20.00</td>\n",
              "    </tr>\n",
              "    <tr>\n",
              "      <th>year_mean</th>\n",
              "      <td>214200.00</td>\n",
              "      <td>0.22</td>\n",
              "      <td>0.00</td>\n",
              "      <td>0.14</td>\n",
              "      <td>0.22</td>\n",
              "      <td>0.22</td>\n",
              "      <td>0.22</td>\n",
              "      <td>0.22</td>\n",
              "    </tr>\n",
              "    <tr>\n",
              "      <th>month_mean</th>\n",
              "      <td>214200.00</td>\n",
              "      <td>0.17</td>\n",
              "      <td>0.00</td>\n",
              "      <td>0.14</td>\n",
              "      <td>0.17</td>\n",
              "      <td>0.17</td>\n",
              "      <td>0.17</td>\n",
              "      <td>0.21</td>\n",
              "    </tr>\n",
              "  </tbody>\n",
              "</table>\n",
              "</div>\n",
              "      <button class=\"colab-df-convert\" onclick=\"convertToInteractive('df-fd5991e9-ee8e-44ae-be41-156381298524')\"\n",
              "              title=\"Convert this dataframe to an interactive table.\"\n",
              "              style=\"display:none;\">\n",
              "        \n",
              "  <svg xmlns=\"http://www.w3.org/2000/svg\" height=\"24px\"viewBox=\"0 0 24 24\"\n",
              "       width=\"24px\">\n",
              "    <path d=\"M0 0h24v24H0V0z\" fill=\"none\"/>\n",
              "    <path d=\"M18.56 5.44l.94 2.06.94-2.06 2.06-.94-2.06-.94-.94-2.06-.94 2.06-2.06.94zm-11 1L8.5 8.5l.94-2.06 2.06-.94-2.06-.94L8.5 2.5l-.94 2.06-2.06.94zm10 10l.94 2.06.94-2.06 2.06-.94-2.06-.94-.94-2.06-.94 2.06-2.06.94z\"/><path d=\"M17.41 7.96l-1.37-1.37c-.4-.4-.92-.59-1.43-.59-.52 0-1.04.2-1.43.59L10.3 9.45l-7.72 7.72c-.78.78-.78 2.05 0 2.83L4 21.41c.39.39.9.59 1.41.59.51 0 1.02-.2 1.41-.59l7.78-7.78 2.81-2.81c.8-.78.8-2.07 0-2.86zM5.41 20L4 18.59l7.72-7.72 1.47 1.35L5.41 20z\"/>\n",
              "  </svg>\n",
              "      </button>\n",
              "      \n",
              "  <style>\n",
              "    .colab-df-container {\n",
              "      display:flex;\n",
              "      flex-wrap:wrap;\n",
              "      gap: 12px;\n",
              "    }\n",
              "\n",
              "    .colab-df-convert {\n",
              "      background-color: #E8F0FE;\n",
              "      border: none;\n",
              "      border-radius: 50%;\n",
              "      cursor: pointer;\n",
              "      display: none;\n",
              "      fill: #1967D2;\n",
              "      height: 32px;\n",
              "      padding: 0 0 0 0;\n",
              "      width: 32px;\n",
              "    }\n",
              "\n",
              "    .colab-df-convert:hover {\n",
              "      background-color: #E2EBFA;\n",
              "      box-shadow: 0px 1px 2px rgba(60, 64, 67, 0.3), 0px 1px 3px 1px rgba(60, 64, 67, 0.15);\n",
              "      fill: #174EA6;\n",
              "    }\n",
              "\n",
              "    [theme=dark] .colab-df-convert {\n",
              "      background-color: #3B4455;\n",
              "      fill: #D2E3FC;\n",
              "    }\n",
              "\n",
              "    [theme=dark] .colab-df-convert:hover {\n",
              "      background-color: #434B5C;\n",
              "      box-shadow: 0px 1px 3px 1px rgba(0, 0, 0, 0.15);\n",
              "      filter: drop-shadow(0px 1px 2px rgba(0, 0, 0, 0.3));\n",
              "      fill: #FFFFFF;\n",
              "    }\n",
              "  </style>\n",
              "\n",
              "      <script>\n",
              "        const buttonEl =\n",
              "          document.querySelector('#df-fd5991e9-ee8e-44ae-be41-156381298524 button.colab-df-convert');\n",
              "        buttonEl.style.display =\n",
              "          google.colab.kernel.accessAllowed ? 'block' : 'none';\n",
              "\n",
              "        async function convertToInteractive(key) {\n",
              "          const element = document.querySelector('#df-fd5991e9-ee8e-44ae-be41-156381298524');\n",
              "          const dataTable =\n",
              "            await google.colab.kernel.invokeFunction('convertToInteractive',\n",
              "                                                     [key], {});\n",
              "          if (!dataTable) return;\n",
              "\n",
              "          const docLinkHtml = 'Like what you see? Visit the ' +\n",
              "            '<a target=\"_blank\" href=https://colab.research.google.com/notebooks/data_table.ipynb>data table notebook</a>'\n",
              "            + ' to learn more about interactive tables.';\n",
              "          element.innerHTML = '';\n",
              "          dataTable['output_type'] = 'display_data';\n",
              "          await google.colab.output.renderOutput(dataTable, element);\n",
              "          const docLink = document.createElement('div');\n",
              "          docLink.innerHTML = docLinkHtml;\n",
              "          element.appendChild(docLink);\n",
              "        }\n",
              "      </script>\n",
              "    </div>\n",
              "  </div>\n",
              "  "
            ]
          },
          "metadata": {},
          "execution_count": 50
        }
      ]
    },
    {
      "metadata": {
        "_uuid": "ff43ed998eb859284670c8500ff854cde5303f9c",
        "id": "Q0MJFKj0IUUN"
      },
      "cell_type": "markdown",
      "source": [
        "## Modeling\n"
      ]
    },
    {
      "metadata": {
        "_uuid": "1098b04b6a111e07c7906ccb50520f1f40a47f54",
        "id": "u6BKYzDeIUUV"
      },
      "cell_type": "markdown",
      "source": [
        "define performance plot"
      ]
    },
    {
      "metadata": {
        "_kg_hide-input": true,
        "trusted": true,
        "_uuid": "e246d057fdf5bf935fbd0c178dd492a856c0486c",
        "id": "N7PYFU8CIUUV"
      },
      "cell_type": "code",
      "source": [
        "def model_performance_sc_plot(predictions, labels, title):\n",
        "    # Get min and max values of the predictions and labels.\n",
        "    min_val = max(max(predictions), max(labels))\n",
        "    max_val = min(min(predictions), min(labels))\n",
        "    # Create dataframe with predicitons and labels.\n",
        "    performance_df = pd.DataFrame({\"Label\":labels})\n",
        "    performance_df[\"Prediction\"] = predictions\n",
        "    # Plot data\n",
        "    sns.jointplot(y=\"Label\", x=\"Prediction\", data=performance_df, kind=\"reg\", height=7)\n",
        "    plt.plot([min_val, max_val], [min_val, max_val], 'm--')\n",
        "    plt.title(title, fontsize=9)\n",
        "    plt.show()"
      ],
      "execution_count": 86,
      "outputs": []
    },
    {
      "metadata": {
        "_uuid": "429b9cf8bb4b04dc8a103728fcafbbf5c886fcc0",
        "id": "eUU9Z7-zIUUW"
      },
      "cell_type": "markdown",
      "source": [
        "### XGBoost"
      ]
    },
    {
      "metadata": {
        "trusted": true,
        "_uuid": "e2420e802e8d9bb292369da9fd3c30236db8ea41",
        "id": "uGDSUc2SIUUW"
      },
      "cell_type": "code",
      "source": [
        "# Use only part of features on XGBoost.\n",
        "xgb_features = ['item_cnt','item_cnt_mean', 'item_cnt_std', 'item_cnt_shifted1', \n",
        "                'item_cnt_shifted2', 'item_cnt_shifted3', 'shop_mean', \n",
        "                'shop_item_mean', 'item_trend', 'mean_item_cnt']\n",
        "xgb_train = X_train[xgb_features]\n",
        "xgb_val = X_validation[xgb_features]\n",
        "xgb_test = X_test[xgb_features]"
      ],
      "execution_count": 52,
      "outputs": []
    },
    {
      "metadata": {
        "trusted": true,
        "_uuid": "664e284578f124539a7fd444f4942c6938cad9a3",
        "id": "9dlb7NRzIUUW",
        "colab": {
          "base_uri": "https://localhost:8080/"
        },
        "outputId": "02134e1c-2f85-4c89-fa6e-2848f4cd5b06"
      },
      "cell_type": "code",
      "source": [
        "xgb_model = XGBRegressor(max_depth=8, \n",
        "                         n_estimators=500, \n",
        "                         min_child_weight=1000,  \n",
        "                         colsample_bytree=0.7, \n",
        "                         subsample=0.7, \n",
        "                         eta=0.3, \n",
        "                         seed=0)\n",
        "xgb_model.fit(xgb_train, \n",
        "              Y_train, \n",
        "              eval_metric=\"rmse\", \n",
        "              eval_set=[(xgb_train, Y_train), (xgb_val, Y_validation)], \n",
        "              verbose=20, \n",
        "              early_stopping_rounds=20)"
      ],
      "execution_count": 53,
      "outputs": [
        {
          "output_type": "stream",
          "name": "stdout",
          "text": [
            "[10:20:57] WARNING: /workspace/src/objective/regression_obj.cu:152: reg:linear is now deprecated in favor of reg:squarederror.\n",
            "[10:20:57] WARNING: /workspace/src/learner.cc:686: Tree method is automatically selected to be 'approx' for faster speed. To use old behavior (exact greedy algorithm on single machine), set tree_method to 'exact'.\n",
            "[0]\tvalidation_0-rmse:0.942842\tvalidation_1-rmse:0.92285\n",
            "Multiple eval metrics have been passed: 'validation_1-rmse' will be used for early stopping.\n",
            "\n",
            "Will train until validation_1-rmse hasn't improved in 20 rounds.\n",
            "[20]\tvalidation_0-rmse:0.684505\tvalidation_1-rmse:0.790798\n",
            "Stopping. Best iteration:\n",
            "[18]\tvalidation_0-rmse:0.687606\tvalidation_1-rmse:0.788279\n",
            "\n"
          ]
        },
        {
          "output_type": "execute_result",
          "data": {
            "text/plain": [
              "XGBRegressor(colsample_bytree=0.7, eta=0.3, max_depth=8, min_child_weight=1000,\n",
              "             n_estimators=500, seed=0, subsample=0.7)"
            ]
          },
          "metadata": {},
          "execution_count": 53
        }
      ]
    },
    {
      "metadata": {
        "_uuid": "74aa82ad9e1007dca8991897576bbb9966e0de26",
        "id": "EW3Y9LWRIUUX"
      },
      "cell_type": "markdown",
      "source": [
        "### XGBoost feature importance"
      ]
    },
    {
      "metadata": {
        "_kg_hide-input": true,
        "trusted": true,
        "_uuid": "13818b135fd421ceb947cefab59d9f446855df50",
        "id": "RvuBvjzWIUUd",
        "colab": {
          "base_uri": "https://localhost:8080/",
          "height": 0
        },
        "outputId": "528ef19d-c7a3-41c1-8dc4-a815a4aa043e"
      },
      "cell_type": "code",
      "source": [
        "plt.rcParams[\"figure.figsize\"] = (15, 6)\n",
        "plot_importance(xgb_model)\n",
        "plt.show()"
      ],
      "execution_count": 54,
      "outputs": [
        {
          "output_type": "display_data",
          "data": {
            "text/plain": [
              "<Figure size 1080x432 with 1 Axes>"
            ],
            "image/png": "[encoded data removed]"
          },
          "metadata": {}
        }
      ]
    },
    {
      "metadata": {
        "trusted": true,
        "_uuid": "187a10ac7bb5eb1053fd5649626d66835af65d20",
        "id": "e0TUqrgnIUUe"
      },
      "cell_type": "code",
      "source": [
        "xgb_train_pred = xgb_model.predict(xgb_train)\n",
        "xgb_val_pred = xgb_model.predict(xgb_val)\n",
        "xgb_test_pred = xgb_model.predict(xgb_test)"
      ],
      "execution_count": 55,
      "outputs": []
    },
    {
      "metadata": {
        "_kg_hide-input": true,
        "trusted": true,
        "_uuid": "fe7b0f331a7099a0db15a90daaa58f2e89dd7ebf",
        "id": "d-8FAjYCIUUi",
        "colab": {
          "base_uri": "https://localhost:8080/"
        },
        "outputId": "ae57d4f9-ebdd-4cbf-d58b-1e77e57d06e7"
      },
      "cell_type": "code",
      "source": [
        "print('Train rmse:', np.sqrt(mean_squared_error(Y_train, xgb_train_pred)))\n",
        "print('Validation rmse:', np.sqrt(mean_squared_error(Y_validation, xgb_val_pred)))"
      ],
      "execution_count": 56,
      "outputs": [
        {
          "output_type": "stream",
          "name": "stdout",
          "text": [
            "Train rmse: 0.6921620336737511\n",
            "Validation rmse: 0.7898067075909768\n"
          ]
        }
      ]
    },
    {
      "metadata": {
        "_uuid": "08009dfa2b7ffdcaaf161d4bf22c44265e8cf0e3",
        "id": "qN4FvXLlIUUj"
      },
      "cell_type": "markdown",
      "source": [
        "### Let's see how XGBoosting performed with this \"prediction x label\" plot."
      ]
    },
    {
      "metadata": {
        "_kg_hide-input": true,
        "trusted": true,
        "_uuid": "4883eed3db7c700bed74fbd08a48b4fe448fa759",
        "id": "C_W6xds7IUUw",
        "colab": {
          "base_uri": "https://localhost:8080/",
          "height": 509
        },
        "outputId": "f5df39c4-1dba-4104-a196-83e9d8396347"
      },
      "cell_type": "code",
      "source": [
        "# model_performance_sc_plot(xgb_train_pred, Y_train, 'Train')\n",
        "model_performance_sc_plot(xgb_val_pred, Y_validation, 'Validation')"
      ],
      "execution_count": 59,
      "outputs": [
        {
          "output_type": "display_data",
          "data": {
            "text/plain": [
              "<Figure size 504x504 with 3 Axes>"
            ],
            "image/png": "[encoded data removed]"
          },
          "metadata": {}
        }
      ]
    },
    {
      "metadata": {
        "_uuid": "47a1a63f7fc895f20994975054a6c3d5c7c19759",
        "id": "zyhZF6xqIUU1"
      },
      "cell_type": "markdown",
      "source": [
        "### Random forest"
      ]
    },
    {
      "metadata": {
        "trusted": true,
        "_uuid": "d2adddbafbb172a9c4e3e504e862f6df59a1fd93",
        "id": "98PPX_v3IUU1"
      },
      "cell_type": "code",
      "source": [
        "# Use only part of features on random forest.\n",
        "rf_features = ['shop_id', 'item_id', 'item_cnt', 'transactions', 'year',\n",
        "               'item_cnt_mean', 'item_cnt_std', 'item_cnt_shifted1', \n",
        "               'shop_mean', 'item_mean', 'item_trend', 'mean_item_cnt']\n",
        "rf_train = X_train[rf_features]\n",
        "rf_val = X_validation[rf_features]\n",
        "rf_test = X_test[rf_features]"
      ],
      "execution_count": 60,
      "outputs": []
    },
    {
      "metadata": {
        "trusted": true,
        "_uuid": "fb01123397fbd2cfd4ac3e0eefac456063b38810",
        "id": "HKwPkAJkIUU1",
        "colab": {
          "base_uri": "https://localhost:8080/"
        },
        "outputId": "023b715b-af86-4446-ffaa-693dd75a7f19"
      },
      "cell_type": "code",
      "source": [
        "rf_model = RandomForestRegressor(n_estimators=50, max_depth=7, random_state=0, n_jobs=-1)\n",
        "rf_model.fit(rf_train, Y_train)"
      ],
      "execution_count": 61,
      "outputs": [
        {
          "output_type": "execute_result",
          "data": {
            "text/plain": [
              "RandomForestRegressor(max_depth=7, n_estimators=50, n_jobs=-1, random_state=0)"
            ]
          },
          "metadata": {},
          "execution_count": 61
        }
      ]
    },
    {
      "metadata": {
        "_kg_hide-input": false,
        "trusted": true,
        "_uuid": "1f58257f9673ec2221ca500bf7677e81cc0337ec",
        "id": "uyKWCqolIUU2"
      },
      "cell_type": "code",
      "source": [
        "rf_train_pred = rf_model.predict(rf_train)\n",
        "rf_val_pred = rf_model.predict(rf_val)\n",
        "rf_test_pred = rf_model.predict(rf_test)"
      ],
      "execution_count": 62,
      "outputs": []
    },
    {
      "metadata": {
        "_kg_hide-input": true,
        "trusted": true,
        "_uuid": "f3962fc67733732b2ce1ddfc78ee528c8c76f63f",
        "id": "DHtDYotZIUU4",
        "colab": {
          "base_uri": "https://localhost:8080/"
        },
        "outputId": "5495dfb7-9753-462f-a275-2a4d1c318d6c"
      },
      "cell_type": "code",
      "source": [
        "print('Train rmse:', np.sqrt(mean_squared_error(Y_train, rf_train_pred)))\n",
        "print('Validation rmse:', np.sqrt(mean_squared_error(Y_validation, rf_val_pred)))"
      ],
      "execution_count": 63,
      "outputs": [
        {
          "output_type": "stream",
          "name": "stdout",
          "text": [
            "Train rmse: 0.6985868322226099\n",
            "Validation rmse: 0.776123635046122\n"
          ]
        }
      ]
    },
    {
      "metadata": {
        "_uuid": "e0ee13b99ee51d57d58bb34936ddbee90e36b86f",
        "id": "7dJW6fgcIUU5"
      },
      "cell_type": "markdown",
      "source": [
        "### Let's see how random forest performed with this \"prediction x label\" plot."
      ]
    },
    {
      "metadata": {
        "_kg_hide-input": true,
        "trusted": true,
        "_uuid": "c67466fda631c9ec6764cd453bd571dd290255cb",
        "id": "bT01BaWIIUU5",
        "colab": {
          "base_uri": "https://localhost:8080/",
          "height": 509
        },
        "outputId": "470fd9d9-7747-494c-92be-fba7d623f1f2"
      },
      "cell_type": "code",
      "source": [
        "# model_performance_sc_plot(rf_train_pred, Y_train, 'Train')\n",
        "model_performance_sc_plot(rf_val_pred, Y_validation, 'Validation')"
      ],
      "execution_count": 64,
      "outputs": [
        {
          "output_type": "display_data",
          "data": {
            "text/plain": [
              "<Figure size 504x504 with 3 Axes>"
            ],
            "image/png": "[encoded data removed]"
          },
          "metadata": {}
        }
      ]
    },
    {
      "metadata": {
        "_uuid": "fd12c4d9fc1957ba004cf25b49a17544f6d16a55",
        "id": "c3tCvog_IUU6"
      },
      "cell_type": "markdown",
      "source": [
        "### Linear Regression"
      ]
    },
    {
      "metadata": {
        "trusted": true,
        "_uuid": "5ab33ceacdbec93d83e8d943703eaae913fc903b",
        "id": "FrdxlJyGIUU6"
      },
      "cell_type": "code",
      "source": [
        "# Use only part of features on linear Regression.\n",
        "lr_features = ['item_cnt', 'item_cnt_shifted1', 'item_trend', 'mean_item_cnt', 'shop_mean']\n",
        "lr_train = X_train[lr_features]\n",
        "lr_val = X_validation[lr_features]\n",
        "lr_test = X_test[lr_features]"
      ],
      "execution_count": 65,
      "outputs": []
    },
    {
      "metadata": {
        "_uuid": "a3b9c9a48b0f43d91e157ec8b74d2df76d8ea147",
        "id": "Re9HgbVSIUU6"
      },
      "cell_type": "markdown",
      "source": [
        "#### Normalizing features"
      ]
    },
    {
      "metadata": {
        "trusted": true,
        "_uuid": "740e5d29b5b95efc5dccfd23583f1bf619511baf",
        "id": "tuhBqmhvIUU6"
      },
      "cell_type": "code",
      "source": [
        "lr_scaler = MinMaxScaler()\n",
        "lr_scaler.fit(lr_train)\n",
        "lr_train = lr_scaler.transform(lr_train)\n",
        "lr_val = lr_scaler.transform(lr_val)\n",
        "lr_test = lr_scaler.transform(lr_test)"
      ],
      "execution_count": 66,
      "outputs": []
    },
    {
      "metadata": {
        "trusted": true,
        "_uuid": "76fdad787667e8cb2390037ee4de0b797edd6b71",
        "id": "9bHDm1_PIUU6",
        "colab": {
          "base_uri": "https://localhost:8080/"
        },
        "outputId": "cfd5083f-4f79-41f5-eaf4-42bd24c30d7c"
      },
      "cell_type": "code",
      "source": [
        "lr_model = LinearRegression(n_jobs=-1)\n",
        "lr_model.fit(lr_train, Y_train)"
      ],
      "execution_count": 67,
      "outputs": [
        {
          "output_type": "execute_result",
          "data": {
            "text/plain": [
              "LinearRegression(n_jobs=-1)"
            ]
          },
          "metadata": {},
          "execution_count": 67
        }
      ]
    },
    {
      "metadata": {
        "trusted": true,
        "_uuid": "e7d590deb7cce90bda5b917ceb5c51837010c7e6",
        "id": "EVrx87dBIUU7"
      },
      "cell_type": "code",
      "source": [
        "lr_train_pred = lr_model.predict(lr_train)\n",
        "lr_val_pred = lr_model.predict(lr_val)\n",
        "lr_test_pred = lr_model.predict(lr_test)"
      ],
      "execution_count": 68,
      "outputs": []
    },
    {
      "metadata": {
        "trusted": true,
        "_uuid": "20a41af682fab380653753f1599b409eba76b1d7",
        "_kg_hide-input": true,
        "id": "xHr66aJ6IUU7",
        "colab": {
          "base_uri": "https://localhost:8080/"
        },
        "outputId": "d7b474df-2017-432a-8ab6-adae794ab28d"
      },
      "cell_type": "code",
      "source": [
        "print('Train rmse:', np.sqrt(mean_squared_error(Y_train, lr_train_pred)))\n",
        "print('Validation rmse:', np.sqrt(mean_squared_error(Y_validation, lr_val_pred)))"
      ],
      "execution_count": 69,
      "outputs": [
        {
          "output_type": "stream",
          "name": "stdout",
          "text": [
            "Train rmse: 0.7347132326333323\n",
            "Validation rmse: 0.7755311093536288\n"
          ]
        }
      ]
    },
    {
      "metadata": {
        "_uuid": "f15a915bb673c8529d45e8a1a8561b78f353f068",
        "id": "JIIeTexpIUU7"
      },
      "cell_type": "markdown",
      "source": [
        "### Let's see how linear regression performed with this \"prediction x label\" plot."
      ]
    },
    {
      "metadata": {
        "trusted": true,
        "_uuid": "b0f4d203fb3024af2de7f6c0f9c8daec7f519ee9",
        "_kg_hide-input": true,
        "id": "EdbDfEjSIUU8",
        "colab": {
          "base_uri": "https://localhost:8080/",
          "height": 0
        },
        "outputId": "67b358a0-dc93-422c-d669-4eba1f1e5c80"
      },
      "cell_type": "code",
      "source": [
        "# model_performance_sc_plot(lr_train_pred, Y_train, 'Train')\n",
        "model_performance_sc_plot(lr_val_pred, Y_validation, 'Validation')"
      ],
      "execution_count": 70,
      "outputs": [
        {
          "output_type": "display_data",
          "data": {
            "text/plain": [
              "<Figure size 504x504 with 3 Axes>"
            ],
            "image/png": "[encoded data removed]"
          },
          "metadata": {}
        }
      ]
    },
    {
      "metadata": {
        "_uuid": "199d781d9fe50bdee22d9a0f7e015c478ad304a1",
        "id": "CGTyrNXVIUU8"
      },
      "cell_type": "markdown",
      "source": [
        "### KNN Regressor"
      ]
    },
    {
      "metadata": {
        "trusted": true,
        "_uuid": "eacbbf35dcf870dd40971313f6679fca47be779e",
        "id": "lqazniGGIUU8"
      },
      "cell_type": "code",
      "source": [
        "# Use only part of features on KNN.\n",
        "knn_features = ['item_cnt', 'item_cnt_mean', 'item_cnt_std', 'item_cnt_shifted1',\n",
        "                'item_cnt_shifted2', 'shop_mean', 'shop_item_mean', \n",
        "                'item_trend', 'mean_item_cnt']\n",
        "\n",
        "# Subsample train set (using the whole data was taking too long).\n",
        "X_train_sampled = X_train[:100000]\n",
        "Y_train_sampled = Y_train[:100000]\n",
        "\n",
        "knn_train = X_train_sampled[knn_features]\n",
        "knn_val = X_validation[knn_features]\n",
        "knn_test = X_test[knn_features]"
      ],
      "execution_count": 71,
      "outputs": []
    },
    {
      "metadata": {
        "_uuid": "1433659573f24e38c8cf9458a9a9776d65af9889",
        "id": "UQ3iEOjGIUU9"
      },
      "cell_type": "markdown",
      "source": [
        "#### Normalizing features"
      ]
    },
    {
      "metadata": {
        "trusted": true,
        "_uuid": "ceaccd5a99ffea219b457161b9969a92e2246dcf",
        "id": "4eY8T8RMIUU9"
      },
      "cell_type": "code",
      "source": [
        "knn_scaler = MinMaxScaler()\n",
        "knn_scaler.fit(knn_train)\n",
        "knn_train = knn_scaler.transform(knn_train)\n",
        "knn_val = knn_scaler.transform(knn_val)\n",
        "knn_test = knn_scaler.transform(knn_test)"
      ],
      "execution_count": 72,
      "outputs": []
    },
    {
      "metadata": {
        "trusted": true,
        "_uuid": "1fab3dd11e5f5524105d3fc10833c54bff4337f8",
        "id": "dYHBzyV1IUU-",
        "colab": {
          "base_uri": "https://localhost:8080/"
        },
        "outputId": "29df7d61-5c68-4f2c-cdf7-9738828d5bfe"
      },
      "cell_type": "code",
      "source": [
        "knn_model = KNeighborsRegressor(n_neighbors=9, leaf_size=13, n_jobs=-1)\n",
        "knn_model.fit(knn_train, Y_train_sampled)"
      ],
      "execution_count": 73,
      "outputs": [
        {
          "output_type": "execute_result",
          "data": {
            "text/plain": [
              "KNeighborsRegressor(leaf_size=13, n_jobs=-1, n_neighbors=9)"
            ]
          },
          "metadata": {},
          "execution_count": 73
        }
      ]
    },
    {
      "metadata": {
        "trusted": true,
        "_uuid": "1124addcec6c40076ff7056f3f29b7749761d52e",
        "id": "jQqocsvOIUU-"
      },
      "cell_type": "code",
      "source": [
        "knn_train_pred = knn_model.predict(knn_train)\n",
        "knn_val_pred = knn_model.predict(knn_val)\n",
        "knn_test_pred = knn_model.predict(knn_test)"
      ],
      "execution_count": 74,
      "outputs": []
    },
    {
      "metadata": {
        "_kg_hide-input": true,
        "trusted": true,
        "_uuid": "a658907c91ee956e1da7feb3c92d81664720b5bd",
        "id": "BjvJXwLxIUU_",
        "colab": {
          "base_uri": "https://localhost:8080/"
        },
        "outputId": "d6d20e80-b889-42dd-ff63-5e24fb9e0863"
      },
      "cell_type": "code",
      "source": [
        "print('Train rmse:', np.sqrt(mean_squared_error(Y_train_sampled, knn_train_pred)))\n",
        "print('Validation rmse:', np.sqrt(mean_squared_error(Y_validation, knn_val_pred)))"
      ],
      "execution_count": 75,
      "outputs": [
        {
          "output_type": "stream",
          "name": "stdout",
          "text": [
            "Train rmse: 0.5053564931661463\n",
            "Validation rmse: 0.8022834366804636\n"
          ]
        }
      ]
    },
    {
      "metadata": {
        "_uuid": "adf2895497d36eb4afe59df769510e9e265c2b9e",
        "id": "lW_uYrh7IUVA"
      },
      "cell_type": "markdown",
      "source": [
        "### Let's see how knn performed with this \"prediction x label\" plot."
      ]
    },
    {
      "metadata": {
        "_kg_hide-input": true,
        "trusted": true,
        "_uuid": "e2b76e52edbd2af4fe2b53e7d9851bfac24c3c69",
        "id": "7BBl2Jg-IUVA",
        "colab": {
          "base_uri": "https://localhost:8080/",
          "height": 509
        },
        "outputId": "d194010c-86fb-4035-a4f1-f01f1cfd972a"
      },
      "cell_type": "code",
      "source": [
        "# model_performance_sc_plot(knn_train_pred, Y_train_sampled, 'Train')\n",
        "model_performance_sc_plot(knn_val_pred, Y_validation, 'Validation')"
      ],
      "execution_count": 76,
      "outputs": [
        {
          "output_type": "display_data",
          "data": {
            "text/plain": [
              "<Figure size 504x504 with 3 Axes>"
            ],
            "image/png": "[encoded data removed]"
          },
          "metadata": {}
        }
      ]
    },
    {
      "cell_type": "markdown",
      "source": [
        "## Ensemble Model\n"
      ],
      "metadata": {
        "id": "Okxy-7WhW1tD"
      }
    },
    {
      "metadata": {
        "_uuid": "b62f362b68c250eaa9aa6ba406c282ff577f9648",
        "id": "kuVEedjnIUVA"
      },
      "cell_type": "markdown",
      "source": [
        "### Create new datasets with the predictions from first level models.\n",
        "* Here I'll be using a simple ensembling technique, I'll use the 1st level models predictions as the input for the 2nd level model, this way the 2nd level model will basically use the 1st level models predictions as features and learn where to give more weight.\n",
        "* To use this technique I also need to use the 1st level models and make predictions on the test set, so I can use them on the 2nd level model.\n",
        "* I could also pass the complete validation set with extra features (the 1st level models prediction) to the 2nd level model and let it do a little more work on finding the solution."
      ]
    },
    {
      "metadata": {
        "trusted": true,
        "_uuid": "47525c6c9da7c560b06b037e02b932ef9c224333",
        "id": "xcuPyPEfIUVB",
        "colab": {
          "base_uri": "https://localhost:8080/",
          "height": 675
        },
        "outputId": "0a829087-509e-4381-b132-cf16a6c65d93"
      },
      "cell_type": "code",
      "source": [
        "# Dataset that will be the train set of the ensemble model.\n",
        "first_level = pd.DataFrame()\n",
        "first_level['xgbm'] = xgb_val_pred\n",
        "first_level['random_forest'] = rf_val_pred\n",
        "first_level['linear_regression'] = lr_val_pred\n",
        "first_level['knn'] = knn_val_pred\n",
        "first_level['label'] = Y_validation.values\n",
        "first_level.head(20)"
      ],
      "execution_count": 78,
      "outputs": [
        {
          "output_type": "execute_result",
          "data": {
            "text/plain": [
              "    xgbm  random_forest  linear_regression  knn  label\n",
              "0   0.70           0.62               0.60 1.00      0\n",
              "1   0.64           0.56               0.04 0.78      0\n",
              "2   0.10           0.21               0.04 0.00      0\n",
              "3   0.81           0.95               0.04 0.11      4\n",
              "4   1.59           1.57               1.46 0.67      1\n",
              "5   0.64           0.46               0.04 0.11      1\n",
              "6   0.43           0.21               0.04 0.11      0\n",
              "7   0.10           0.06               0.04 0.00      1\n",
              "8   0.38           0.21               0.04 0.11      0\n",
              "9   1.73           1.13               1.15 2.89      2\n",
              "10  0.53           0.27               0.04 0.56      0\n",
              "11  0.43           0.41               0.04 0.11      0\n",
              "12  0.64           0.67               0.04 0.11      0\n",
              "13  0.53           0.46               0.04 0.33      0\n",
              "14  0.13           0.06               0.04 0.33      0\n",
              "15  0.46           0.28               0.04 0.22      1\n",
              "16  0.28           0.20               0.04 0.11      0\n",
              "17  0.53           0.28               0.04 0.00      0\n",
              "18  0.57           0.57               0.60 0.89      0\n",
              "19  0.52           0.60               1.08 0.33      0"
            ],
            "text/html": [
              "\n",
              "  <div id=\"df-e20e1ff3-7d13-46ef-bff0-3eb1d3fce831\">\n",
              "    <div class=\"colab-df-container\">\n",
              "      <div>\n",
              "<style scoped>\n",
              "    .dataframe tbody tr th:only-of-type {\n",
              "        vertical-align: middle;\n",
              "    }\n",
              "\n",
              "    .dataframe tbody tr th {\n",
              "        vertical-align: top;\n",
              "    }\n",
              "\n",
              "    .dataframe thead th {\n",
              "        text-align: right;\n",
              "    }\n",
              "</style>\n",
              "<table border=\"1\" class=\"dataframe\">\n",
              "  <thead>\n",
              "    <tr style=\"text-align: right;\">\n",
              "      <th></th>\n",
              "      <th>xgbm</th>\n",
              "      <th>random_forest</th>\n",
              "      <th>linear_regression</th>\n",
              "      <th>knn</th>\n",
              "      <th>label</th>\n",
              "    </tr>\n",
              "  </thead>\n",
              "  <tbody>\n",
              "    <tr>\n",
              "      <th>0</th>\n",
              "      <td>0.70</td>\n",
              "      <td>0.62</td>\n",
              "      <td>0.60</td>\n",
              "      <td>1.00</td>\n",
              "      <td>0</td>\n",
              "    </tr>\n",
              "    <tr>\n",
              "      <th>1</th>\n",
              "      <td>0.64</td>\n",
              "      <td>0.56</td>\n",
              "      <td>0.04</td>\n",
              "      <td>0.78</td>\n",
              "      <td>0</td>\n",
              "    </tr>\n",
              "    <tr>\n",
              "      <th>2</th>\n",
              "      <td>0.10</td>\n",
              "      <td>0.21</td>\n",
              "      <td>0.04</td>\n",
              "      <td>0.00</td>\n",
              "      <td>0</td>\n",
              "    </tr>\n",
              "    <tr>\n",
              "      <th>3</th>\n",
              "      <td>0.81</td>\n",
              "      <td>0.95</td>\n",
              "      <td>0.04</td>\n",
              "      <td>0.11</td>\n",
              "      <td>4</td>\n",
              "    </tr>\n",
              "    <tr>\n",
              "      <th>4</th>\n",
              "      <td>1.59</td>\n",
              "      <td>1.57</td>\n",
              "      <td>1.46</td>\n",
              "      <td>0.67</td>\n",
              "      <td>1</td>\n",
              "    </tr>\n",
              "    <tr>\n",
              "      <th>5</th>\n",
              "      <td>0.64</td>\n",
              "      <td>0.46</td>\n",
              "      <td>0.04</td>\n",
              "      <td>0.11</td>\n",
              "      <td>1</td>\n",
              "    </tr>\n",
              "    <tr>\n",
              "      <th>6</th>\n",
              "      <td>0.43</td>\n",
              "      <td>0.21</td>\n",
              "      <td>0.04</td>\n",
              "      <td>0.11</td>\n",
              "      <td>0</td>\n",
              "    </tr>\n",
              "    <tr>\n",
              "      <th>7</th>\n",
              "      <td>0.10</td>\n",
              "      <td>0.06</td>\n",
              "      <td>0.04</td>\n",
              "      <td>0.00</td>\n",
              "      <td>1</td>\n",
              "    </tr>\n",
              "    <tr>\n",
              "      <th>8</th>\n",
              "      <td>0.38</td>\n",
              "      <td>0.21</td>\n",
              "      <td>0.04</td>\n",
              "      <td>0.11</td>\n",
              "      <td>0</td>\n",
              "    </tr>\n",
              "    <tr>\n",
              "      <th>9</th>\n",
              "      <td>1.73</td>\n",
              "      <td>1.13</td>\n",
              "      <td>1.15</td>\n",
              "      <td>2.89</td>\n",
              "      <td>2</td>\n",
              "    </tr>\n",
              "    <tr>\n",
              "      <th>10</th>\n",
              "      <td>0.53</td>\n",
              "      <td>0.27</td>\n",
              "      <td>0.04</td>\n",
              "      <td>0.56</td>\n",
              "      <td>0</td>\n",
              "    </tr>\n",
              "    <tr>\n",
              "      <th>11</th>\n",
              "      <td>0.43</td>\n",
              "      <td>0.41</td>\n",
              "      <td>0.04</td>\n",
              "      <td>0.11</td>\n",
              "      <td>0</td>\n",
              "    </tr>\n",
              "    <tr>\n",
              "      <th>12</th>\n",
              "      <td>0.64</td>\n",
              "      <td>0.67</td>\n",
              "      <td>0.04</td>\n",
              "      <td>0.11</td>\n",
              "      <td>0</td>\n",
              "    </tr>\n",
              "    <tr>\n",
              "      <th>13</th>\n",
              "      <td>0.53</td>\n",
              "      <td>0.46</td>\n",
              "      <td>0.04</td>\n",
              "      <td>0.33</td>\n",
              "      <td>0</td>\n",
              "    </tr>\n",
              "    <tr>\n",
              "      <th>14</th>\n",
              "      <td>0.13</td>\n",
              "      <td>0.06</td>\n",
              "      <td>0.04</td>\n",
              "      <td>0.33</td>\n",
              "      <td>0</td>\n",
              "    </tr>\n",
              "    <tr>\n",
              "      <th>15</th>\n",
              "      <td>0.46</td>\n",
              "      <td>0.28</td>\n",
              "      <td>0.04</td>\n",
              "      <td>0.22</td>\n",
              "      <td>1</td>\n",
              "    </tr>\n",
              "    <tr>\n",
              "      <th>16</th>\n",
              "      <td>0.28</td>\n",
              "      <td>0.20</td>\n",
              "      <td>0.04</td>\n",
              "      <td>0.11</td>\n",
              "      <td>0</td>\n",
              "    </tr>\n",
              "    <tr>\n",
              "      <th>17</th>\n",
              "      <td>0.53</td>\n",
              "      <td>0.28</td>\n",
              "      <td>0.04</td>\n",
              "      <td>0.00</td>\n",
              "      <td>0</td>\n",
              "    </tr>\n",
              "    <tr>\n",
              "      <th>18</th>\n",
              "      <td>0.57</td>\n",
              "      <td>0.57</td>\n",
              "      <td>0.60</td>\n",
              "      <td>0.89</td>\n",
              "      <td>0</td>\n",
              "    </tr>\n",
              "    <tr>\n",
              "      <th>19</th>\n",
              "      <td>0.52</td>\n",
              "      <td>0.60</td>\n",
              "      <td>1.08</td>\n",
              "      <td>0.33</td>\n",
              "      <td>0</td>\n",
              "    </tr>\n",
              "  </tbody>\n",
              "</table>\n",
              "</div>\n",
              "      <button class=\"colab-df-convert\" onclick=\"convertToInteractive('df-e20e1ff3-7d13-46ef-bff0-3eb1d3fce831')\"\n",
              "              title=\"Convert this dataframe to an interactive table.\"\n",
              "              style=\"display:none;\">\n",
              "        \n",
              "  <svg xmlns=\"http://www.w3.org/2000/svg\" height=\"24px\"viewBox=\"0 0 24 24\"\n",
              "       width=\"24px\">\n",
              "    <path d=\"M0 0h24v24H0V0z\" fill=\"none\"/>\n",
              "    <path d=\"M18.56 5.44l.94 2.06.94-2.06 2.06-.94-2.06-.94-.94-2.06-.94 2.06-2.06.94zm-11 1L8.5 8.5l.94-2.06 2.06-.94-2.06-.94L8.5 2.5l-.94 2.06-2.06.94zm10 10l.94 2.06.94-2.06 2.06-.94-2.06-.94-.94-2.06-.94 2.06-2.06.94z\"/><path d=\"M17.41 7.96l-1.37-1.37c-.4-.4-.92-.59-1.43-.59-.52 0-1.04.2-1.43.59L10.3 9.45l-7.72 7.72c-.78.78-.78 2.05 0 2.83L4 21.41c.39.39.9.59 1.41.59.51 0 1.02-.2 1.41-.59l7.78-7.78 2.81-2.81c.8-.78.8-2.07 0-2.86zM5.41 20L4 18.59l7.72-7.72 1.47 1.35L5.41 20z\"/>\n",
              "  </svg>\n",
              "      </button>\n",
              "      \n",
              "  <style>\n",
              "    .colab-df-container {\n",
              "      display:flex;\n",
              "      flex-wrap:wrap;\n",
              "      gap: 12px;\n",
              "    }\n",
              "\n",
              "    .colab-df-convert {\n",
              "      background-color: #E8F0FE;\n",
              "      border: none;\n",
              "      border-radius: 50%;\n",
              "      cursor: pointer;\n",
              "      display: none;\n",
              "      fill: #1967D2;\n",
              "      height: 32px;\n",
              "      padding: 0 0 0 0;\n",
              "      width: 32px;\n",
              "    }\n",
              "\n",
              "    .colab-df-convert:hover {\n",
              "      background-color: #E2EBFA;\n",
              "      box-shadow: 0px 1px 2px rgba(60, 64, 67, 0.3), 0px 1px 3px 1px rgba(60, 64, 67, 0.15);\n",
              "      fill: #174EA6;\n",
              "    }\n",
              "\n",
              "    [theme=dark] .colab-df-convert {\n",
              "      background-color: #3B4455;\n",
              "      fill: #D2E3FC;\n",
              "    }\n",
              "\n",
              "    [theme=dark] .colab-df-convert:hover {\n",
              "      background-color: #434B5C;\n",
              "      box-shadow: 0px 1px 3px 1px rgba(0, 0, 0, 0.15);\n",
              "      filter: drop-shadow(0px 1px 2px rgba(0, 0, 0, 0.3));\n",
              "      fill: #FFFFFF;\n",
              "    }\n",
              "  </style>\n",
              "\n",
              "      <script>\n",
              "        const buttonEl =\n",
              "          document.querySelector('#df-e20e1ff3-7d13-46ef-bff0-3eb1d3fce831 button.colab-df-convert');\n",
              "        buttonEl.style.display =\n",
              "          google.colab.kernel.accessAllowed ? 'block' : 'none';\n",
              "\n",
              "        async function convertToInteractive(key) {\n",
              "          const element = document.querySelector('#df-e20e1ff3-7d13-46ef-bff0-3eb1d3fce831');\n",
              "          const dataTable =\n",
              "            await google.colab.kernel.invokeFunction('convertToInteractive',\n",
              "                                                     [key], {});\n",
              "          if (!dataTable) return;\n",
              "\n",
              "          const docLinkHtml = 'Like what you see? Visit the ' +\n",
              "            '<a target=\"_blank\" href=https://colab.research.google.com/notebooks/data_table.ipynb>data table notebook</a>'\n",
              "            + ' to learn more about interactive tables.';\n",
              "          element.innerHTML = '';\n",
              "          dataTable['output_type'] = 'display_data';\n",
              "          await google.colab.output.renderOutput(dataTable, element);\n",
              "          const docLink = document.createElement('div');\n",
              "          docLink.innerHTML = docLinkHtml;\n",
              "          element.appendChild(docLink);\n",
              "        }\n",
              "      </script>\n",
              "    </div>\n",
              "  </div>\n",
              "  "
            ]
          },
          "metadata": {},
          "execution_count": 78
        }
      ]
    },
    {
      "metadata": {
        "trusted": true,
        "_uuid": "b1457c21773856c8a7c73a452beb659f35464512",
        "id": "wN3PgTLwIUVB",
        "colab": {
          "base_uri": "https://localhost:8080/",
          "height": 205
        },
        "outputId": "e61f180f-2830-40e5-afea-5dc85efb5fe4"
      },
      "cell_type": "code",
      "source": [
        "# Dataset that will be the test set of the ensemble model.\n",
        "first_level_test = pd.DataFrame()\n",
        "first_level_test['xgbm'] = xgb_test_pred\n",
        "first_level_test['random_forest'] = rf_test_pred\n",
        "first_level_test['linear_regression'] = lr_test_pred\n",
        "first_level_test['knn'] = knn_test_pred\n",
        "first_level_test.head()"
      ],
      "execution_count": 79,
      "outputs": [
        {
          "output_type": "execute_result",
          "data": {
            "text/plain": [
              "   xgbm  random_forest  linear_regression  knn\n",
              "0  0.41           0.95               0.85 0.89\n",
              "1  0.08           0.06               0.06 0.00\n",
              "2  0.52           0.85               1.79 1.11\n",
              "3  0.08           0.00               0.06 0.00\n",
              "4  0.08           0.06               0.06 0.00"
            ],
            "text/html": [
              "\n",
              "  <div id=\"df-23081361-5305-480c-bf8f-33d02b15b0a3\">\n",
              "    <div class=\"colab-df-container\">\n",
              "      <div>\n",
              "<style scoped>\n",
              "    .dataframe tbody tr th:only-of-type {\n",
              "        vertical-align: middle;\n",
              "    }\n",
              "\n",
              "    .dataframe tbody tr th {\n",
              "        vertical-align: top;\n",
              "    }\n",
              "\n",
              "    .dataframe thead th {\n",
              "        text-align: right;\n",
              "    }\n",
              "</style>\n",
              "<table border=\"1\" class=\"dataframe\">\n",
              "  <thead>\n",
              "    <tr style=\"text-align: right;\">\n",
              "      <th></th>\n",
              "      <th>xgbm</th>\n",
              "      <th>random_forest</th>\n",
              "      <th>linear_regression</th>\n",
              "      <th>knn</th>\n",
              "    </tr>\n",
              "  </thead>\n",
              "  <tbody>\n",
              "    <tr>\n",
              "      <th>0</th>\n",
              "      <td>0.41</td>\n",
              "      <td>0.95</td>\n",
              "      <td>0.85</td>\n",
              "      <td>0.89</td>\n",
              "    </tr>\n",
              "    <tr>\n",
              "      <th>1</th>\n",
              "      <td>0.08</td>\n",
              "      <td>0.06</td>\n",
              "      <td>0.06</td>\n",
              "      <td>0.00</td>\n",
              "    </tr>\n",
              "    <tr>\n",
              "      <th>2</th>\n",
              "      <td>0.52</td>\n",
              "      <td>0.85</td>\n",
              "      <td>1.79</td>\n",
              "      <td>1.11</td>\n",
              "    </tr>\n",
              "    <tr>\n",
              "      <th>3</th>\n",
              "      <td>0.08</td>\n",
              "      <td>0.00</td>\n",
              "      <td>0.06</td>\n",
              "      <td>0.00</td>\n",
              "    </tr>\n",
              "    <tr>\n",
              "      <th>4</th>\n",
              "      <td>0.08</td>\n",
              "      <td>0.06</td>\n",
              "      <td>0.06</td>\n",
              "      <td>0.00</td>\n",
              "    </tr>\n",
              "  </tbody>\n",
              "</table>\n",
              "</div>\n",
              "      <button class=\"colab-df-convert\" onclick=\"convertToInteractive('df-23081361-5305-480c-bf8f-33d02b15b0a3')\"\n",
              "              title=\"Convert this dataframe to an interactive table.\"\n",
              "              style=\"display:none;\">\n",
              "        \n",
              "  <svg xmlns=\"http://www.w3.org/2000/svg\" height=\"24px\"viewBox=\"0 0 24 24\"\n",
              "       width=\"24px\">\n",
              "    <path d=\"M0 0h24v24H0V0z\" fill=\"none\"/>\n",
              "    <path d=\"M18.56 5.44l.94 2.06.94-2.06 2.06-.94-2.06-.94-.94-2.06-.94 2.06-2.06.94zm-11 1L8.5 8.5l.94-2.06 2.06-.94-2.06-.94L8.5 2.5l-.94 2.06-2.06.94zm10 10l.94 2.06.94-2.06 2.06-.94-2.06-.94-.94-2.06-.94 2.06-2.06.94z\"/><path d=\"M17.41 7.96l-1.37-1.37c-.4-.4-.92-.59-1.43-.59-.52 0-1.04.2-1.43.59L10.3 9.45l-7.72 7.72c-.78.78-.78 2.05 0 2.83L4 21.41c.39.39.9.59 1.41.59.51 0 1.02-.2 1.41-.59l7.78-7.78 2.81-2.81c.8-.78.8-2.07 0-2.86zM5.41 20L4 18.59l7.72-7.72 1.47 1.35L5.41 20z\"/>\n",
              "  </svg>\n",
              "      </button>\n",
              "      \n",
              "  <style>\n",
              "    .colab-df-container {\n",
              "      display:flex;\n",
              "      flex-wrap:wrap;\n",
              "      gap: 12px;\n",
              "    }\n",
              "\n",
              "    .colab-df-convert {\n",
              "      background-color: #E8F0FE;\n",
              "      border: none;\n",
              "      border-radius: 50%;\n",
              "      cursor: pointer;\n",
              "      display: none;\n",
              "      fill: #1967D2;\n",
              "      height: 32px;\n",
              "      padding: 0 0 0 0;\n",
              "      width: 32px;\n",
              "    }\n",
              "\n",
              "    .colab-df-convert:hover {\n",
              "      background-color: #E2EBFA;\n",
              "      box-shadow: 0px 1px 2px rgba(60, 64, 67, 0.3), 0px 1px 3px 1px rgba(60, 64, 67, 0.15);\n",
              "      fill: #174EA6;\n",
              "    }\n",
              "\n",
              "    [theme=dark] .colab-df-convert {\n",
              "      background-color: #3B4455;\n",
              "      fill: #D2E3FC;\n",
              "    }\n",
              "\n",
              "    [theme=dark] .colab-df-convert:hover {\n",
              "      background-color: #434B5C;\n",
              "      box-shadow: 0px 1px 3px 1px rgba(0, 0, 0, 0.15);\n",
              "      filter: drop-shadow(0px 1px 2px rgba(0, 0, 0, 0.3));\n",
              "      fill: #FFFFFF;\n",
              "    }\n",
              "  </style>\n",
              "\n",
              "      <script>\n",
              "        const buttonEl =\n",
              "          document.querySelector('#df-23081361-5305-480c-bf8f-33d02b15b0a3 button.colab-df-convert');\n",
              "        buttonEl.style.display =\n",
              "          google.colab.kernel.accessAllowed ? 'block' : 'none';\n",
              "\n",
              "        async function convertToInteractive(key) {\n",
              "          const element = document.querySelector('#df-23081361-5305-480c-bf8f-33d02b15b0a3');\n",
              "          const dataTable =\n",
              "            await google.colab.kernel.invokeFunction('convertToInteractive',\n",
              "                                                     [key], {});\n",
              "          if (!dataTable) return;\n",
              "\n",
              "          const docLinkHtml = 'Like what you see? Visit the ' +\n",
              "            '<a target=\"_blank\" href=https://colab.research.google.com/notebooks/data_table.ipynb>data table notebook</a>'\n",
              "            + ' to learn more about interactive tables.';\n",
              "          element.innerHTML = '';\n",
              "          dataTable['output_type'] = 'display_data';\n",
              "          await google.colab.output.renderOutput(dataTable, element);\n",
              "          const docLink = document.createElement('div');\n",
              "          docLink.innerHTML = docLinkHtml;\n",
              "          element.appendChild(docLink);\n",
              "        }\n",
              "      </script>\n",
              "    </div>\n",
              "  </div>\n",
              "  "
            ]
          },
          "metadata": {},
          "execution_count": 79
        }
      ]
    },
    {
      "metadata": {
        "_uuid": "80a18fc9e973d3afdbd629b5735c7686e6252831",
        "id": "8SKbCmb7IUVC"
      },
      "cell_type": "markdown",
      "source": [
        "### Ensembling\n",
        "\n",
        "* To combine the 1st level model predictions, I'll use a simple linear regression.\n",
        "* As I'm only feeding the model with predictions I don't need a complex model.\n",
        "\n",
        "### Ensemble architecture:\n",
        "* 1st level:\n",
        "    * XGBM\n",
        "    * Random forest\n",
        "    * Linear Regression\n",
        "    * KNN\n",
        "* 2nd level;\n",
        "    * Linear Regression\n",
        "    \n",
        "#### Here is an  image to help the understanding\n",
        " \n",
        " <img src=\"https://raw.githubusercontent.com/RedMagicVer7/sales_forecast_web/main/WebApp/static/model_architect.png\" width=\"400\">"
      ]
    },
    {
      "metadata": {
        "_uuid": "8dbe7b6815d2ca1ce5f4f9861d7cfb1d2b7f7bf4",
        "id": "6-i96ToSIUWj"
      },
      "cell_type": "markdown",
      "source": [
        "### 2nd level model as a linear regression\n",
        "* This is the model that will combine the other ones to hopefully make an overall better prediction.\n",
        "* If the inputs to this mode were more complex, could be a good idea to split the data into train and validation again, this way you can check if the metal model is overfitting."
      ]
    },
    {
      "metadata": {
        "trusted": true,
        "_uuid": "e643b5f4b5c5ea9a1ee4ede6f26eabc710248feb",
        "id": "Fo18PH05IUWl"
      },
      "cell_type": "code",
      "source": [
        "meta_model = LinearRegression(n_jobs=-1)"
      ],
      "execution_count": 80,
      "outputs": []
    },
    {
      "metadata": {
        "_uuid": "aa8aa67fc031eeadbbd6df1854d81badda701116",
        "id": "EB0qS1wiIUWm"
      },
      "cell_type": "markdown",
      "source": [
        "##### Trained on validation set using the 1st level models predictions as features."
      ]
    },
    {
      "metadata": {
        "trusted": true,
        "_uuid": "fa34fadee5290ef57b9998a345ca99a390030435",
        "id": "19rUwJseIUWm",
        "colab": {
          "base_uri": "https://localhost:8080/"
        },
        "outputId": "57ecc8b5-ccb5-49cf-dc2e-7c07aa1ed183"
      },
      "cell_type": "code",
      "source": [
        "# Drop label from dataset.\n",
        "first_level.drop('label', axis=1, inplace=True)\n",
        "meta_model.fit(first_level, Y_validation)"
      ],
      "execution_count": 81,
      "outputs": [
        {
          "output_type": "execute_result",
          "data": {
            "text/plain": [
              "LinearRegression(n_jobs=-1)"
            ]
          },
          "metadata": {},
          "execution_count": 81
        }
      ]
    },
    {
      "metadata": {
        "_uuid": "ab80de72ecaaa6db2db0ddd161a0715177e50c65",
        "id": "3LiZ_HQoIUWm"
      },
      "cell_type": "markdown",
      "source": [
        "##### Make predictions on test set using the 1st level models predictions as features."
      ]
    },
    {
      "metadata": {
        "trusted": true,
        "_uuid": "4e92b8cf8df4db809425ceb69c7cd01d457950c1",
        "_kg_hide-input": true,
        "id": "sgHuX60yIUWm"
      },
      "cell_type": "code",
      "source": [
        "ensemble_pred = meta_model.predict(first_level)\n",
        "final_predictions = meta_model.predict(first_level_test)"
      ],
      "execution_count": 82,
      "outputs": []
    },
    {
      "metadata": {
        "_uuid": "fb5946b79a15317bb296f76a8b2df1037dd117f8",
        "id": "FazkJVuKIUWn"
      },
      "cell_type": "markdown",
      "source": [
        "##### Ensemble model metrics on validation set."
      ]
    },
    {
      "metadata": {
        "_kg_hide-input": true,
        "trusted": true,
        "_uuid": "e57727d067f5c5dc7f83589b8e4e0056f29d7815",
        "id": "NZRgeDJQIUXU",
        "colab": {
          "base_uri": "https://localhost:8080/"
        },
        "outputId": "eba49b7b-d901-40be-e575-020c77a489b3"
      },
      "cell_type": "code",
      "source": [
        "print('Train rmse:', np.sqrt(mean_squared_error(ensemble_pred, Y_validation)))"
      ],
      "execution_count": 83,
      "outputs": [
        {
          "output_type": "stream",
          "name": "stdout",
          "text": [
            "Train rmse: 0.764989162731415\n"
          ]
        }
      ]
    },
    {
      "metadata": {
        "_uuid": "d52b98625226102269934bf94f3602b0f036e9b8",
        "id": "lzzZGgKxIUXU"
      },
      "cell_type": "markdown",
      "source": [
        "##### Let's see how the meta model performed with this \"prediction x label\" plot."
      ]
    },
    {
      "metadata": {
        "_kg_hide-input": true,
        "trusted": true,
        "_uuid": "9d50eb5dc41518816096edf8789c14c571c24de1",
        "id": "SnPatGw_IUXU",
        "colab": {
          "base_uri": "https://localhost:8080/",
          "height": 509
        },
        "outputId": "4a491656-31d3-4c3e-ae32-a4ba33e9a052"
      },
      "cell_type": "code",
      "source": [
        "model_performance_sc_plot(ensemble_pred, Y_validation, 'Validation')"
      ],
      "execution_count": 84,
      "outputs": [
        {
          "output_type": "display_data",
          "data": {
            "text/plain": [
              "<Figure size 504x504 with 3 Axes>"
            ],
            "image/png": "[encoded data removed]"
          },
          "metadata": {}
        }
      ]
    },
    {
      "metadata": {
        "_uuid": "ab0063edbbdc9ff08d5f0bf207b9921380adeb98",
        "id": "MLeKhucLIUXV"
      },
      "cell_type": "markdown",
      "source": [
        "#### Output dataframe."
      ]
    },
    {
      "metadata": {
        "trusted": true,
        "_uuid": "d56956add596808733fe0474f93b3092ef1260f5",
        "id": "_z8LB6OJIUXW",
        "colab": {
          "base_uri": "https://localhost:8080/",
          "height": 362
        },
        "outputId": "9478ad6a-124b-43d6-8708-18bee8d08e7a"
      },
      "cell_type": "code",
      "source": [
        "prediction_df = pd.DataFrame(test['ID'], columns=['ID'])\n",
        "prediction_df['item_cnt_month'] = final_predictions.clip(0., 20.)\n",
        "prediction_df.to_csv('submission.csv', index=False)\n",
        "prediction_df.head(10)"
      ],
      "execution_count": 85,
      "outputs": [
        {
          "output_type": "execute_result",
          "data": {
            "text/plain": [
              "   ID  item_cnt_month\n",
              "0   0            0.82\n",
              "1   1            0.08\n",
              "2   2            1.27\n",
              "3   3            0.06\n",
              "4   4            0.08\n",
              "5   5            0.94\n",
              "6   6            1.24\n",
              "7   7            0.20\n",
              "8   8            1.98\n",
              "9   9            0.06"
            ],
            "text/html": [
              "\n",
              "  <div id=\"df-c8ff7f51-c501-40e8-b6dc-7d239c6d22a4\">\n",
              "    <div class=\"colab-df-container\">\n",
              "      <div>\n",
              "<style scoped>\n",
              "    .dataframe tbody tr th:only-of-type {\n",
              "        vertical-align: middle;\n",
              "    }\n",
              "\n",
              "    .dataframe tbody tr th {\n",
              "        vertical-align: top;\n",
              "    }\n",
              "\n",
              "    .dataframe thead th {\n",
              "        text-align: right;\n",
              "    }\n",
              "</style>\n",
              "<table border=\"1\" class=\"dataframe\">\n",
              "  <thead>\n",
              "    <tr style=\"text-align: right;\">\n",
              "      <th></th>\n",
              "      <th>ID</th>\n",
              "      <th>item_cnt_month</th>\n",
              "    </tr>\n",
              "  </thead>\n",
              "  <tbody>\n",
              "    <tr>\n",
              "      <th>0</th>\n",
              "      <td>0</td>\n",
              "      <td>0.82</td>\n",
              "    </tr>\n",
              "    <tr>\n",
              "      <th>1</th>\n",
              "      <td>1</td>\n",
              "      <td>0.08</td>\n",
              "    </tr>\n",
              "    <tr>\n",
              "      <th>2</th>\n",
              "      <td>2</td>\n",
              "      <td>1.27</td>\n",
              "    </tr>\n",
              "    <tr>\n",
              "      <th>3</th>\n",
              "      <td>3</td>\n",
              "      <td>0.06</td>\n",
              "    </tr>\n",
              "    <tr>\n",
              "      <th>4</th>\n",
              "      <td>4</td>\n",
              "      <td>0.08</td>\n",
              "    </tr>\n",
              "    <tr>\n",
              "      <th>5</th>\n",
              "      <td>5</td>\n",
              "      <td>0.94</td>\n",
              "    </tr>\n",
              "    <tr>\n",
              "      <th>6</th>\n",
              "      <td>6</td>\n",
              "      <td>1.24</td>\n",
              "    </tr>\n",
              "    <tr>\n",
              "      <th>7</th>\n",
              "      <td>7</td>\n",
              "      <td>0.20</td>\n",
              "    </tr>\n",
              "    <tr>\n",
              "      <th>8</th>\n",
              "      <td>8</td>\n",
              "      <td>1.98</td>\n",
              "    </tr>\n",
              "    <tr>\n",
              "      <th>9</th>\n",
              "      <td>9</td>\n",
              "      <td>0.06</td>\n",
              "    </tr>\n",
              "  </tbody>\n",
              "</table>\n",
              "</div>\n",
              "      <button class=\"colab-df-convert\" onclick=\"convertToInteractive('df-c8ff7f51-c501-40e8-b6dc-7d239c6d22a4')\"\n",
              "              title=\"Convert this dataframe to an interactive table.\"\n",
              "              style=\"display:none;\">\n",
              "        \n",
              "  <svg xmlns=\"http://www.w3.org/2000/svg\" height=\"24px\"viewBox=\"0 0 24 24\"\n",
              "       width=\"24px\">\n",
              "    <path d=\"M0 0h24v24H0V0z\" fill=\"none\"/>\n",
              "    <path d=\"M18.56 5.44l.94 2.06.94-2.06 2.06-.94-2.06-.94-.94-2.06-.94 2.06-2.06.94zm-11 1L8.5 8.5l.94-2.06 2.06-.94-2.06-.94L8.5 2.5l-.94 2.06-2.06.94zm10 10l.94 2.06.94-2.06 2.06-.94-2.06-.94-.94-2.06-.94 2.06-2.06.94z\"/><path d=\"M17.41 7.96l-1.37-1.37c-.4-.4-.92-.59-1.43-.59-.52 0-1.04.2-1.43.59L10.3 9.45l-7.72 7.72c-.78.78-.78 2.05 0 2.83L4 21.41c.39.39.9.59 1.41.59.51 0 1.02-.2 1.41-.59l7.78-7.78 2.81-2.81c.8-.78.8-2.07 0-2.86zM5.41 20L4 18.59l7.72-7.72 1.47 1.35L5.41 20z\"/>\n",
              "  </svg>\n",
              "      </button>\n",
              "      \n",
              "  <style>\n",
              "    .colab-df-container {\n",
              "      display:flex;\n",
              "      flex-wrap:wrap;\n",
              "      gap: 12px;\n",
              "    }\n",
              "\n",
              "    .colab-df-convert {\n",
              "      background-color: #E8F0FE;\n",
              "      border: none;\n",
              "      border-radius: 50%;\n",
              "      cursor: pointer;\n",
              "      display: none;\n",
              "      fill: #1967D2;\n",
              "      height: 32px;\n",
              "      padding: 0 0 0 0;\n",
              "      width: 32px;\n",
              "    }\n",
              "\n",
              "    .colab-df-convert:hover {\n",
              "      background-color: #E2EBFA;\n",
              "      box-shadow: 0px 1px 2px rgba(60, 64, 67, 0.3), 0px 1px 3px 1px rgba(60, 64, 67, 0.15);\n",
              "      fill: #174EA6;\n",
              "    }\n",
              "\n",
              "    [theme=dark] .colab-df-convert {\n",
              "      background-color: #3B4455;\n",
              "      fill: #D2E3FC;\n",
              "    }\n",
              "\n",
              "    [theme=dark] .colab-df-convert:hover {\n",
              "      background-color: #434B5C;\n",
              "      box-shadow: 0px 1px 3px 1px rgba(0, 0, 0, 0.15);\n",
              "      filter: drop-shadow(0px 1px 2px rgba(0, 0, 0, 0.3));\n",
              "      fill: #FFFFFF;\n",
              "    }\n",
              "  </style>\n",
              "\n",
              "      <script>\n",
              "        const buttonEl =\n",
              "          document.querySelector('#df-c8ff7f51-c501-40e8-b6dc-7d239c6d22a4 button.colab-df-convert');\n",
              "        buttonEl.style.display =\n",
              "          google.colab.kernel.accessAllowed ? 'block' : 'none';\n",
              "\n",
              "        async function convertToInteractive(key) {\n",
              "          const element = document.querySelector('#df-c8ff7f51-c501-40e8-b6dc-7d239c6d22a4');\n",
              "          const dataTable =\n",
              "            await google.colab.kernel.invokeFunction('convertToInteractive',\n",
              "                                                     [key], {});\n",
              "          if (!dataTable) return;\n",
              "\n",
              "          const docLinkHtml = 'Like what you see? Visit the ' +\n",
              "            '<a target=\"_blank\" href=https://colab.research.google.com/notebooks/data_table.ipynb>data table notebook</a>'\n",
              "            + ' to learn more about interactive tables.';\n",
              "          element.innerHTML = '';\n",
              "          dataTable['output_type'] = 'display_data';\n",
              "          await google.colab.output.renderOutput(dataTable, element);\n",
              "          const docLink = document.createElement('div');\n",
              "          docLink.innerHTML = docLinkHtml;\n",
              "          element.appendChild(docLink);\n",
              "        }\n",
              "      </script>\n",
              "    </div>\n",
              "  </div>\n",
              "  "
            ]
          },
          "metadata": {},
          "execution_count": 85
        }
      ]
    }
  ],
  "metadata": {
    "kernelspec": {
      "display_name": "Python 3",
      "language": "python",
      "name": "python3"
    },
    "language_info": {
      "name": "python",
      "version": "3.6.6",
      "mimetype": "text/x-python",
      "codemirror_mode": {
        "name": "ipython",
        "version": 3
      },
      "pygments_lexer": "ipython3",
      "nbconvert_exporter": "python",
      "file_extension": ".py"
    },
    "colab": {
      "name": "ITS70604_Assignment3_Sales_Predict3.ipynb",
      "provenance": [],
      "toc_visible": true,
      "collapsed_sections": [
        "e-kItfKhIUM6",
        "nNyNODc1IUM7",
        "ERzigAHkIUSD",
        "3Y7LO-fxIUSG",
        "_x32XkcDIUSK",
        "7_k3egrdIUSK",
        "w4Ye2XTtIUSL",
        "_ukVcD_5IUSM",
        "TRsa2BIpIUSS",
        "7ylmmKZiIUST",
        "Tb8pOsKHIUST",
        "GrtcQ-aRIUSV",
        "kYVTjKluIUSV",
        "scPuMZjVIUSW",
        "OFWAjEDzIUSX",
        "UfGrkuB7IUSZ",
        "L6_19CUvIUSf",
        "vkjjGbSZIUUI",
        "ocKCHfVWIUUK",
        "EW3Y9LWRIUUX",
        "zyhZF6xqIUU1",
        "7dJW6fgcIUU5",
        "Re9HgbVSIUU6",
        "JIIeTexpIUU7",
        "UQ3iEOjGIUU9",
        "8SKbCmb7IUVC"
      ]
    }
  },
  "nbformat": 4,
  "nbformat_minor": 0
}